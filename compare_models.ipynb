{
  "cells": [
    {
      "cell_type": "code",
      "source": [
        "!pip install spacy-transformers"
      ],
      "metadata": {
        "colab": {
          "base_uri": "https://localhost:8080/"
        },
        "id": "y8OGtUeSZ6O-",
        "outputId": "8d3dc09b-ead2-49a8-fa53-7be2ff65bd6d"
      },
      "execution_count": null,
      "outputs": [
        {
          "output_type": "stream",
          "name": "stdout",
          "text": [
            "Looking in indexes: https://pypi.org/simple, https://us-python.pkg.dev/colab-wheels/public/simple/\n",
            "Collecting spacy-transformers\n",
            "  Downloading spacy_transformers-1.1.8-py2.py3-none-any.whl (53 kB)\n",
            "\u001b[K     |████████████████████████████████| 53 kB 1.4 MB/s \n",
            "\u001b[?25hRequirement already satisfied: spacy<4.0.0,>=3.4.0 in /usr/local/lib/python3.7/dist-packages (from spacy-transformers) (3.4.1)\n",
            "Requirement already satisfied: srsly<3.0.0,>=2.4.0 in /usr/local/lib/python3.7/dist-packages (from spacy-transformers) (2.4.4)\n",
            "Collecting transformers<4.22.0,>=3.4.0\n",
            "  Downloading transformers-4.21.3-py3-none-any.whl (4.7 MB)\n",
            "\u001b[K     |████████████████████████████████| 4.7 MB 9.6 MB/s \n",
            "\u001b[?25hRequirement already satisfied: torch>=1.6.0 in /usr/local/lib/python3.7/dist-packages (from spacy-transformers) (1.12.1+cu113)\n",
            "Collecting spacy-alignments<1.0.0,>=0.7.2\n",
            "  Downloading spacy_alignments-0.8.5-cp37-cp37m-manylinux_2_17_x86_64.manylinux2014_x86_64.whl (1.1 MB)\n",
            "\u001b[K     |████████████████████████████████| 1.1 MB 43.2 MB/s \n",
            "\u001b[?25hRequirement already satisfied: numpy>=1.15.0 in /usr/local/lib/python3.7/dist-packages (from spacy<4.0.0,>=3.4.0->spacy-transformers) (1.21.6)\n",
            "Requirement already satisfied: wasabi<1.1.0,>=0.9.1 in /usr/local/lib/python3.7/dist-packages (from spacy<4.0.0,>=3.4.0->spacy-transformers) (0.10.1)\n",
            "Requirement already satisfied: pathy>=0.3.5 in /usr/local/lib/python3.7/dist-packages (from spacy<4.0.0,>=3.4.0->spacy-transformers) (0.6.2)\n",
            "Requirement already satisfied: tqdm<5.0.0,>=4.38.0 in /usr/local/lib/python3.7/dist-packages (from spacy<4.0.0,>=3.4.0->spacy-transformers) (4.64.1)\n",
            "Requirement already satisfied: typing-extensions<4.2.0,>=3.7.4 in /usr/local/lib/python3.7/dist-packages (from spacy<4.0.0,>=3.4.0->spacy-transformers) (4.1.1)\n",
            "Requirement already satisfied: murmurhash<1.1.0,>=0.28.0 in /usr/local/lib/python3.7/dist-packages (from spacy<4.0.0,>=3.4.0->spacy-transformers) (1.0.8)\n",
            "Requirement already satisfied: preshed<3.1.0,>=3.0.2 in /usr/local/lib/python3.7/dist-packages (from spacy<4.0.0,>=3.4.0->spacy-transformers) (3.0.7)\n",
            "Requirement already satisfied: langcodes<4.0.0,>=3.2.0 in /usr/local/lib/python3.7/dist-packages (from spacy<4.0.0,>=3.4.0->spacy-transformers) (3.3.0)\n",
            "Requirement already satisfied: spacy-legacy<3.1.0,>=3.0.9 in /usr/local/lib/python3.7/dist-packages (from spacy<4.0.0,>=3.4.0->spacy-transformers) (3.0.10)\n",
            "Requirement already satisfied: catalogue<2.1.0,>=2.0.6 in /usr/local/lib/python3.7/dist-packages (from spacy<4.0.0,>=3.4.0->spacy-transformers) (2.0.8)\n",
            "Requirement already satisfied: typer<0.5.0,>=0.3.0 in /usr/local/lib/python3.7/dist-packages (from spacy<4.0.0,>=3.4.0->spacy-transformers) (0.4.2)\n",
            "Requirement already satisfied: spacy-loggers<2.0.0,>=1.0.0 in /usr/local/lib/python3.7/dist-packages (from spacy<4.0.0,>=3.4.0->spacy-transformers) (1.0.3)\n",
            "Requirement already satisfied: cymem<2.1.0,>=2.0.2 in /usr/local/lib/python3.7/dist-packages (from spacy<4.0.0,>=3.4.0->spacy-transformers) (2.0.6)\n",
            "Requirement already satisfied: jinja2 in /usr/local/lib/python3.7/dist-packages (from spacy<4.0.0,>=3.4.0->spacy-transformers) (2.11.3)\n",
            "Requirement already satisfied: requests<3.0.0,>=2.13.0 in /usr/local/lib/python3.7/dist-packages (from spacy<4.0.0,>=3.4.0->spacy-transformers) (2.23.0)\n",
            "Requirement already satisfied: thinc<8.2.0,>=8.1.0 in /usr/local/lib/python3.7/dist-packages (from spacy<4.0.0,>=3.4.0->spacy-transformers) (8.1.3)\n",
            "Requirement already satisfied: packaging>=20.0 in /usr/local/lib/python3.7/dist-packages (from spacy<4.0.0,>=3.4.0->spacy-transformers) (21.3)\n",
            "Requirement already satisfied: pydantic!=1.8,!=1.8.1,<1.10.0,>=1.7.4 in /usr/local/lib/python3.7/dist-packages (from spacy<4.0.0,>=3.4.0->spacy-transformers) (1.9.2)\n",
            "Requirement already satisfied: setuptools in /usr/local/lib/python3.7/dist-packages (from spacy<4.0.0,>=3.4.0->spacy-transformers) (57.4.0)\n",
            "Requirement already satisfied: zipp>=0.5 in /usr/local/lib/python3.7/dist-packages (from catalogue<2.1.0,>=2.0.6->spacy<4.0.0,>=3.4.0->spacy-transformers) (3.9.0)\n",
            "Requirement already satisfied: pyparsing!=3.0.5,>=2.0.2 in /usr/local/lib/python3.7/dist-packages (from packaging>=20.0->spacy<4.0.0,>=3.4.0->spacy-transformers) (3.0.9)\n",
            "Requirement already satisfied: smart-open<6.0.0,>=5.2.1 in /usr/local/lib/python3.7/dist-packages (from pathy>=0.3.5->spacy<4.0.0,>=3.4.0->spacy-transformers) (5.2.1)\n",
            "Requirement already satisfied: chardet<4,>=3.0.2 in /usr/local/lib/python3.7/dist-packages (from requests<3.0.0,>=2.13.0->spacy<4.0.0,>=3.4.0->spacy-transformers) (3.0.4)\n",
            "Requirement already satisfied: certifi>=2017.4.17 in /usr/local/lib/python3.7/dist-packages (from requests<3.0.0,>=2.13.0->spacy<4.0.0,>=3.4.0->spacy-transformers) (2022.9.24)\n",
            "Requirement already satisfied: urllib3!=1.25.0,!=1.25.1,<1.26,>=1.21.1 in /usr/local/lib/python3.7/dist-packages (from requests<3.0.0,>=2.13.0->spacy<4.0.0,>=3.4.0->spacy-transformers) (1.24.3)\n",
            "Requirement already satisfied: idna<3,>=2.5 in /usr/local/lib/python3.7/dist-packages (from requests<3.0.0,>=2.13.0->spacy<4.0.0,>=3.4.0->spacy-transformers) (2.10)\n",
            "Requirement already satisfied: blis<0.8.0,>=0.7.8 in /usr/local/lib/python3.7/dist-packages (from thinc<8.2.0,>=8.1.0->spacy<4.0.0,>=3.4.0->spacy-transformers) (0.7.8)\n",
            "Requirement already satisfied: confection<1.0.0,>=0.0.1 in /usr/local/lib/python3.7/dist-packages (from thinc<8.2.0,>=8.1.0->spacy<4.0.0,>=3.4.0->spacy-transformers) (0.0.3)\n",
            "Collecting huggingface-hub<1.0,>=0.1.0\n",
            "  Downloading huggingface_hub-0.10.1-py3-none-any.whl (163 kB)\n",
            "\u001b[K     |████████████████████████████████| 163 kB 64.1 MB/s \n",
            "\u001b[?25hRequirement already satisfied: regex!=2019.12.17 in /usr/local/lib/python3.7/dist-packages (from transformers<4.22.0,>=3.4.0->spacy-transformers) (2022.6.2)\n",
            "Collecting tokenizers!=0.11.3,<0.13,>=0.11.1\n",
            "  Downloading tokenizers-0.12.1-cp37-cp37m-manylinux_2_12_x86_64.manylinux2010_x86_64.whl (6.6 MB)\n",
            "\u001b[K     |████████████████████████████████| 6.6 MB 42.9 MB/s \n",
            "\u001b[?25hRequirement already satisfied: filelock in /usr/local/lib/python3.7/dist-packages (from transformers<4.22.0,>=3.4.0->spacy-transformers) (3.8.0)\n",
            "Requirement already satisfied: pyyaml>=5.1 in /usr/local/lib/python3.7/dist-packages (from transformers<4.22.0,>=3.4.0->spacy-transformers) (6.0)\n",
            "Requirement already satisfied: importlib-metadata in /usr/local/lib/python3.7/dist-packages (from transformers<4.22.0,>=3.4.0->spacy-transformers) (5.0.0)\n",
            "Requirement already satisfied: click<9.0.0,>=7.1.1 in /usr/local/lib/python3.7/dist-packages (from typer<0.5.0,>=0.3.0->spacy<4.0.0,>=3.4.0->spacy-transformers) (7.1.2)\n",
            "Requirement already satisfied: MarkupSafe>=0.23 in /usr/local/lib/python3.7/dist-packages (from jinja2->spacy<4.0.0,>=3.4.0->spacy-transformers) (2.0.1)\n",
            "Installing collected packages: tokenizers, huggingface-hub, transformers, spacy-alignments, spacy-transformers\n",
            "Successfully installed huggingface-hub-0.10.1 spacy-alignments-0.8.5 spacy-transformers-1.1.8 tokenizers-0.12.1 transformers-4.21.3\n"
          ]
        }
      ]
    },
    {
      "cell_type": "code",
      "execution_count": null,
      "metadata": {
        "colab": {
          "base_uri": "https://localhost:8080/"
        },
        "id": "4ZCRcD38ZifE",
        "outputId": "f0c257ec-ccef-440f-e883-ba7ea13c50f7"
      },
      "outputs": [
        {
          "output_type": "stream",
          "name": "stdout",
          "text": [
            "\u001b[38;5;4mℹ Saving to output directory: output\u001b[0m\n",
            "\u001b[38;5;4mℹ Using GPU: 0\u001b[0m\n",
            "\u001b[1m\n",
            "=========================== Initializing pipeline ===========================\u001b[0m\n",
            "Traceback (most recent call last):\n",
            "  File \"/usr/lib/python3.7/runpy.py\", line 193, in _run_module_as_main\n",
            "    \"__main__\", mod_spec)\n",
            "  File \"/usr/lib/python3.7/runpy.py\", line 85, in _run_code\n",
            "    exec(code, run_globals)\n",
            "  File \"/usr/local/lib/python3.7/dist-packages/spacy/__main__.py\", line 4, in <module>\n",
            "    setup_cli()\n",
            "  File \"/usr/local/lib/python3.7/dist-packages/spacy/cli/_util.py\", line 71, in setup_cli\n",
            "    command(prog_name=COMMAND)\n",
            "  File \"/usr/local/lib/python3.7/dist-packages/click/core.py\", line 829, in __call__\n",
            "    return self.main(*args, **kwargs)\n",
            "  File \"/usr/local/lib/python3.7/dist-packages/click/core.py\", line 782, in main\n",
            "    rv = self.invoke(ctx)\n",
            "  File \"/usr/local/lib/python3.7/dist-packages/click/core.py\", line 1259, in invoke\n",
            "    return _process_result(sub_ctx.command.invoke(sub_ctx))\n",
            "  File \"/usr/local/lib/python3.7/dist-packages/click/core.py\", line 1066, in invoke\n",
            "    return ctx.invoke(self.callback, **ctx.params)\n",
            "  File \"/usr/local/lib/python3.7/dist-packages/click/core.py\", line 610, in invoke\n",
            "    return callback(*args, **kwargs)\n",
            "  File \"/usr/local/lib/python3.7/dist-packages/typer/main.py\", line 532, in wrapper\n",
            "    return callback(**use_params)  # type: ignore\n",
            "  File \"/usr/local/lib/python3.7/dist-packages/spacy/cli/train.py\", line 45, in train_cli\n",
            "    train(config_path, output_path, use_gpu=use_gpu, overrides=overrides)\n",
            "  File \"/usr/local/lib/python3.7/dist-packages/spacy/cli/train.py\", line 72, in train\n",
            "    nlp = init_nlp(config, use_gpu=use_gpu)\n",
            "  File \"/usr/local/lib/python3.7/dist-packages/spacy/training/initialize.py\", line 41, in init_nlp\n",
            "    nlp = load_model_from_config(raw_config, auto_fill=True)\n",
            "  File \"/usr/local/lib/python3.7/dist-packages/spacy/util.py\", line 559, in load_model_from_config\n",
            "    meta=meta,\n",
            "  File \"/usr/local/lib/python3.7/dist-packages/spacy/language.py\", line 1834, in from_config\n",
            "    model, vocab=nlp.vocab, exclude=[\"lookups\"]\n",
            "  File \"/usr/local/lib/python3.7/dist-packages/spacy/util.py\", line 436, in load_model\n",
            "    raise IOError(Errors.E050.format(name=name))\n",
            "OSError: [E050] Can't find model 'en_core_web_lg'. It doesn't seem to be a Python package or a valid path to a data directory.\n"
          ]
        }
      ],
      "source": [
        "!python -m spacy train /content/config_encorelg_tok2vec.cfg --output ./output --paths.train train.spacy --paths.dev dev.spacy --gpu-id 0"
      ]
    },
    {
      "cell_type": "code",
      "source": [
        "!python -m spacy download en_core_web_trf"
      ],
      "metadata": {
        "colab": {
          "base_uri": "https://localhost:8080/"
        },
        "id": "LdZscFtpPVID",
        "outputId": "4ccbfda8-166e-4eea-c360-22c10eb1ebbb"
      },
      "execution_count": null,
      "outputs": [
        {
          "output_type": "stream",
          "name": "stdout",
          "text": [
            "Looking in indexes: https://pypi.org/simple, https://us-python.pkg.dev/colab-wheels/public/simple/\n",
            "Collecting en-core-web-trf==3.4.0\n",
            "  Downloading https://github.com/explosion/spacy-models/releases/download/en_core_web_trf-3.4.0/en_core_web_trf-3.4.0-py3-none-any.whl (460.3 MB)\n",
            "\u001b[K     |████████████████████████████████| 460.3 MB 35 kB/s \n",
            "\u001b[?25hRequirement already satisfied: spacy-transformers<1.2.0,>=1.1.2 in /usr/local/lib/python3.7/dist-packages (from en-core-web-trf==3.4.0) (1.1.8)\n",
            "Requirement already satisfied: spacy<3.5.0,>=3.4.0 in /usr/local/lib/python3.7/dist-packages (from en-core-web-trf==3.4.0) (3.4.1)\n",
            "Requirement already satisfied: pathy>=0.3.5 in /usr/local/lib/python3.7/dist-packages (from spacy<3.5.0,>=3.4.0->en-core-web-trf==3.4.0) (0.6.2)\n",
            "Requirement already satisfied: typing-extensions<4.2.0,>=3.7.4 in /usr/local/lib/python3.7/dist-packages (from spacy<3.5.0,>=3.4.0->en-core-web-trf==3.4.0) (4.1.1)\n",
            "Requirement already satisfied: setuptools in /usr/local/lib/python3.7/dist-packages (from spacy<3.5.0,>=3.4.0->en-core-web-trf==3.4.0) (57.4.0)\n",
            "Requirement already satisfied: pydantic!=1.8,!=1.8.1,<1.10.0,>=1.7.4 in /usr/local/lib/python3.7/dist-packages (from spacy<3.5.0,>=3.4.0->en-core-web-trf==3.4.0) (1.9.2)\n",
            "Requirement already satisfied: murmurhash<1.1.0,>=0.28.0 in /usr/local/lib/python3.7/dist-packages (from spacy<3.5.0,>=3.4.0->en-core-web-trf==3.4.0) (1.0.8)\n",
            "Requirement already satisfied: catalogue<2.1.0,>=2.0.6 in /usr/local/lib/python3.7/dist-packages (from spacy<3.5.0,>=3.4.0->en-core-web-trf==3.4.0) (2.0.8)\n",
            "Requirement already satisfied: packaging>=20.0 in /usr/local/lib/python3.7/dist-packages (from spacy<3.5.0,>=3.4.0->en-core-web-trf==3.4.0) (21.3)\n",
            "Requirement already satisfied: srsly<3.0.0,>=2.4.3 in /usr/local/lib/python3.7/dist-packages (from spacy<3.5.0,>=3.4.0->en-core-web-trf==3.4.0) (2.4.4)\n",
            "Requirement already satisfied: tqdm<5.0.0,>=4.38.0 in /usr/local/lib/python3.7/dist-packages (from spacy<3.5.0,>=3.4.0->en-core-web-trf==3.4.0) (4.64.1)\n",
            "Requirement already satisfied: spacy-loggers<2.0.0,>=1.0.0 in /usr/local/lib/python3.7/dist-packages (from spacy<3.5.0,>=3.4.0->en-core-web-trf==3.4.0) (1.0.3)\n",
            "Requirement already satisfied: preshed<3.1.0,>=3.0.2 in /usr/local/lib/python3.7/dist-packages (from spacy<3.5.0,>=3.4.0->en-core-web-trf==3.4.0) (3.0.7)\n",
            "Requirement already satisfied: wasabi<1.1.0,>=0.9.1 in /usr/local/lib/python3.7/dist-packages (from spacy<3.5.0,>=3.4.0->en-core-web-trf==3.4.0) (0.10.1)\n",
            "Requirement already satisfied: requests<3.0.0,>=2.13.0 in /usr/local/lib/python3.7/dist-packages (from spacy<3.5.0,>=3.4.0->en-core-web-trf==3.4.0) (2.23.0)\n",
            "Requirement already satisfied: jinja2 in /usr/local/lib/python3.7/dist-packages (from spacy<3.5.0,>=3.4.0->en-core-web-trf==3.4.0) (2.11.3)\n",
            "Requirement already satisfied: langcodes<4.0.0,>=3.2.0 in /usr/local/lib/python3.7/dist-packages (from spacy<3.5.0,>=3.4.0->en-core-web-trf==3.4.0) (3.3.0)\n",
            "Requirement already satisfied: thinc<8.2.0,>=8.1.0 in /usr/local/lib/python3.7/dist-packages (from spacy<3.5.0,>=3.4.0->en-core-web-trf==3.4.0) (8.1.2)\n",
            "Requirement already satisfied: typer<0.5.0,>=0.3.0 in /usr/local/lib/python3.7/dist-packages (from spacy<3.5.0,>=3.4.0->en-core-web-trf==3.4.0) (0.4.2)\n",
            "Requirement already satisfied: numpy>=1.15.0 in /usr/local/lib/python3.7/dist-packages (from spacy<3.5.0,>=3.4.0->en-core-web-trf==3.4.0) (1.21.6)\n",
            "Requirement already satisfied: cymem<2.1.0,>=2.0.2 in /usr/local/lib/python3.7/dist-packages (from spacy<3.5.0,>=3.4.0->en-core-web-trf==3.4.0) (2.0.6)\n",
            "Requirement already satisfied: spacy-legacy<3.1.0,>=3.0.9 in /usr/local/lib/python3.7/dist-packages (from spacy<3.5.0,>=3.4.0->en-core-web-trf==3.4.0) (3.0.10)\n",
            "Requirement already satisfied: zipp>=0.5 in /usr/local/lib/python3.7/dist-packages (from catalogue<2.1.0,>=2.0.6->spacy<3.5.0,>=3.4.0->en-core-web-trf==3.4.0) (3.8.1)\n",
            "Requirement already satisfied: pyparsing!=3.0.5,>=2.0.2 in /usr/local/lib/python3.7/dist-packages (from packaging>=20.0->spacy<3.5.0,>=3.4.0->en-core-web-trf==3.4.0) (3.0.9)\n",
            "Requirement already satisfied: smart-open<6.0.0,>=5.2.1 in /usr/local/lib/python3.7/dist-packages (from pathy>=0.3.5->spacy<3.5.0,>=3.4.0->en-core-web-trf==3.4.0) (5.2.1)\n",
            "Requirement already satisfied: idna<3,>=2.5 in /usr/local/lib/python3.7/dist-packages (from requests<3.0.0,>=2.13.0->spacy<3.5.0,>=3.4.0->en-core-web-trf==3.4.0) (2.10)\n",
            "Requirement already satisfied: certifi>=2017.4.17 in /usr/local/lib/python3.7/dist-packages (from requests<3.0.0,>=2.13.0->spacy<3.5.0,>=3.4.0->en-core-web-trf==3.4.0) (2022.9.24)\n",
            "Requirement already satisfied: urllib3!=1.25.0,!=1.25.1,<1.26,>=1.21.1 in /usr/local/lib/python3.7/dist-packages (from requests<3.0.0,>=2.13.0->spacy<3.5.0,>=3.4.0->en-core-web-trf==3.4.0) (1.24.3)\n",
            "Requirement already satisfied: chardet<4,>=3.0.2 in /usr/local/lib/python3.7/dist-packages (from requests<3.0.0,>=2.13.0->spacy<3.5.0,>=3.4.0->en-core-web-trf==3.4.0) (3.0.4)\n",
            "Requirement already satisfied: spacy-alignments<1.0.0,>=0.7.2 in /usr/local/lib/python3.7/dist-packages (from spacy-transformers<1.2.0,>=1.1.2->en-core-web-trf==3.4.0) (0.8.5)\n",
            "Requirement already satisfied: torch>=1.6.0 in /usr/local/lib/python3.7/dist-packages (from spacy-transformers<1.2.0,>=1.1.2->en-core-web-trf==3.4.0) (1.12.1+cu113)\n",
            "Requirement already satisfied: transformers<4.22.0,>=3.4.0 in /usr/local/lib/python3.7/dist-packages (from spacy-transformers<1.2.0,>=1.1.2->en-core-web-trf==3.4.0) (4.21.3)\n",
            "Requirement already satisfied: confection<1.0.0,>=0.0.1 in /usr/local/lib/python3.7/dist-packages (from thinc<8.2.0,>=8.1.0->spacy<3.5.0,>=3.4.0->en-core-web-trf==3.4.0) (0.0.2)\n",
            "Requirement already satisfied: blis<0.8.0,>=0.7.8 in /usr/local/lib/python3.7/dist-packages (from thinc<8.2.0,>=8.1.0->spacy<3.5.0,>=3.4.0->en-core-web-trf==3.4.0) (0.7.8)\n",
            "Requirement already satisfied: pyyaml>=5.1 in /usr/local/lib/python3.7/dist-packages (from transformers<4.22.0,>=3.4.0->spacy-transformers<1.2.0,>=1.1.2->en-core-web-trf==3.4.0) (6.0)\n",
            "Requirement already satisfied: tokenizers!=0.11.3,<0.13,>=0.11.1 in /usr/local/lib/python3.7/dist-packages (from transformers<4.22.0,>=3.4.0->spacy-transformers<1.2.0,>=1.1.2->en-core-web-trf==3.4.0) (0.12.1)\n",
            "Requirement already satisfied: importlib-metadata in /usr/local/lib/python3.7/dist-packages (from transformers<4.22.0,>=3.4.0->spacy-transformers<1.2.0,>=1.1.2->en-core-web-trf==3.4.0) (5.0.0)\n",
            "Requirement already satisfied: regex!=2019.12.17 in /usr/local/lib/python3.7/dist-packages (from transformers<4.22.0,>=3.4.0->spacy-transformers<1.2.0,>=1.1.2->en-core-web-trf==3.4.0) (2022.6.2)\n",
            "Requirement already satisfied: filelock in /usr/local/lib/python3.7/dist-packages (from transformers<4.22.0,>=3.4.0->spacy-transformers<1.2.0,>=1.1.2->en-core-web-trf==3.4.0) (3.8.0)\n",
            "Requirement already satisfied: huggingface-hub<1.0,>=0.1.0 in /usr/local/lib/python3.7/dist-packages (from transformers<4.22.0,>=3.4.0->spacy-transformers<1.2.0,>=1.1.2->en-core-web-trf==3.4.0) (0.10.0)\n",
            "Requirement already satisfied: click<9.0.0,>=7.1.1 in /usr/local/lib/python3.7/dist-packages (from typer<0.5.0,>=0.3.0->spacy<3.5.0,>=3.4.0->en-core-web-trf==3.4.0) (7.1.2)\n",
            "Requirement already satisfied: MarkupSafe>=0.23 in /usr/local/lib/python3.7/dist-packages (from jinja2->spacy<3.5.0,>=3.4.0->en-core-web-trf==3.4.0) (2.0.1)\n",
            "Installing collected packages: en-core-web-trf\n",
            "Successfully installed en-core-web-trf-3.4.0\n",
            "\u001b[38;5;2m✔ Download and installation successful\u001b[0m\n",
            "You can now load the package via spacy.load('en_core_web_trf')\n"
          ]
        }
      ]
    },
    {
      "cell_type": "code",
      "source": [
        "!python -m spacy download en_core_web_lg"
      ],
      "metadata": {
        "colab": {
          "base_uri": "https://localhost:8080/"
        },
        "id": "o_ZxLJ8HPYgT",
        "outputId": "07dd9e69-9a90-47b9-ea1e-4b588071ffbc"
      },
      "execution_count": null,
      "outputs": [
        {
          "output_type": "stream",
          "name": "stdout",
          "text": [
            "Looking in indexes: https://pypi.org/simple, https://us-python.pkg.dev/colab-wheels/public/simple/\n",
            "Collecting en-core-web-lg==3.4.0\n",
            "  Downloading https://github.com/explosion/spacy-models/releases/download/en_core_web_lg-3.4.0/en_core_web_lg-3.4.0-py3-none-any.whl (587.7 MB)\n",
            "\u001b[K     |████████████████████████████████| 587.7 MB 9.9 kB/s \n",
            "\u001b[?25hRequirement already satisfied: spacy<3.5.0,>=3.4.0 in /usr/local/lib/python3.7/dist-packages (from en-core-web-lg==3.4.0) (3.4.1)\n",
            "Requirement already satisfied: spacy-legacy<3.1.0,>=3.0.9 in /usr/local/lib/python3.7/dist-packages (from spacy<3.5.0,>=3.4.0->en-core-web-lg==3.4.0) (3.0.10)\n",
            "Requirement already satisfied: srsly<3.0.0,>=2.4.3 in /usr/local/lib/python3.7/dist-packages (from spacy<3.5.0,>=3.4.0->en-core-web-lg==3.4.0) (2.4.4)\n",
            "Requirement already satisfied: typer<0.5.0,>=0.3.0 in /usr/local/lib/python3.7/dist-packages (from spacy<3.5.0,>=3.4.0->en-core-web-lg==3.4.0) (0.4.2)\n",
            "Requirement already satisfied: cymem<2.1.0,>=2.0.2 in /usr/local/lib/python3.7/dist-packages (from spacy<3.5.0,>=3.4.0->en-core-web-lg==3.4.0) (2.0.6)\n",
            "Requirement already satisfied: tqdm<5.0.0,>=4.38.0 in /usr/local/lib/python3.7/dist-packages (from spacy<3.5.0,>=3.4.0->en-core-web-lg==3.4.0) (4.64.1)\n",
            "Requirement already satisfied: catalogue<2.1.0,>=2.0.6 in /usr/local/lib/python3.7/dist-packages (from spacy<3.5.0,>=3.4.0->en-core-web-lg==3.4.0) (2.0.8)\n",
            "Requirement already satisfied: langcodes<4.0.0,>=3.2.0 in /usr/local/lib/python3.7/dist-packages (from spacy<3.5.0,>=3.4.0->en-core-web-lg==3.4.0) (3.3.0)\n",
            "Requirement already satisfied: typing-extensions<4.2.0,>=3.7.4 in /usr/local/lib/python3.7/dist-packages (from spacy<3.5.0,>=3.4.0->en-core-web-lg==3.4.0) (4.1.1)\n",
            "Requirement already satisfied: pydantic!=1.8,!=1.8.1,<1.10.0,>=1.7.4 in /usr/local/lib/python3.7/dist-packages (from spacy<3.5.0,>=3.4.0->en-core-web-lg==3.4.0) (1.9.2)\n",
            "Requirement already satisfied: spacy-loggers<2.0.0,>=1.0.0 in /usr/local/lib/python3.7/dist-packages (from spacy<3.5.0,>=3.4.0->en-core-web-lg==3.4.0) (1.0.3)\n",
            "Requirement already satisfied: pathy>=0.3.5 in /usr/local/lib/python3.7/dist-packages (from spacy<3.5.0,>=3.4.0->en-core-web-lg==3.4.0) (0.6.2)\n",
            "Requirement already satisfied: murmurhash<1.1.0,>=0.28.0 in /usr/local/lib/python3.7/dist-packages (from spacy<3.5.0,>=3.4.0->en-core-web-lg==3.4.0) (1.0.8)\n",
            "Requirement already satisfied: requests<3.0.0,>=2.13.0 in /usr/local/lib/python3.7/dist-packages (from spacy<3.5.0,>=3.4.0->en-core-web-lg==3.4.0) (2.23.0)\n",
            "Requirement already satisfied: preshed<3.1.0,>=3.0.2 in /usr/local/lib/python3.7/dist-packages (from spacy<3.5.0,>=3.4.0->en-core-web-lg==3.4.0) (3.0.7)\n",
            "Requirement already satisfied: wasabi<1.1.0,>=0.9.1 in /usr/local/lib/python3.7/dist-packages (from spacy<3.5.0,>=3.4.0->en-core-web-lg==3.4.0) (0.10.1)\n",
            "Requirement already satisfied: jinja2 in /usr/local/lib/python3.7/dist-packages (from spacy<3.5.0,>=3.4.0->en-core-web-lg==3.4.0) (2.11.3)\n",
            "Requirement already satisfied: numpy>=1.15.0 in /usr/local/lib/python3.7/dist-packages (from spacy<3.5.0,>=3.4.0->en-core-web-lg==3.4.0) (1.21.6)\n",
            "Requirement already satisfied: packaging>=20.0 in /usr/local/lib/python3.7/dist-packages (from spacy<3.5.0,>=3.4.0->en-core-web-lg==3.4.0) (21.3)\n",
            "Requirement already satisfied: setuptools in /usr/local/lib/python3.7/dist-packages (from spacy<3.5.0,>=3.4.0->en-core-web-lg==3.4.0) (57.4.0)\n",
            "Requirement already satisfied: thinc<8.2.0,>=8.1.0 in /usr/local/lib/python3.7/dist-packages (from spacy<3.5.0,>=3.4.0->en-core-web-lg==3.4.0) (8.1.2)\n",
            "Requirement already satisfied: zipp>=0.5 in /usr/local/lib/python3.7/dist-packages (from catalogue<2.1.0,>=2.0.6->spacy<3.5.0,>=3.4.0->en-core-web-lg==3.4.0) (3.8.1)\n",
            "Requirement already satisfied: pyparsing!=3.0.5,>=2.0.2 in /usr/local/lib/python3.7/dist-packages (from packaging>=20.0->spacy<3.5.0,>=3.4.0->en-core-web-lg==3.4.0) (3.0.9)\n",
            "Requirement already satisfied: smart-open<6.0.0,>=5.2.1 in /usr/local/lib/python3.7/dist-packages (from pathy>=0.3.5->spacy<3.5.0,>=3.4.0->en-core-web-lg==3.4.0) (5.2.1)\n",
            "Requirement already satisfied: chardet<4,>=3.0.2 in /usr/local/lib/python3.7/dist-packages (from requests<3.0.0,>=2.13.0->spacy<3.5.0,>=3.4.0->en-core-web-lg==3.4.0) (3.0.4)\n",
            "Requirement already satisfied: idna<3,>=2.5 in /usr/local/lib/python3.7/dist-packages (from requests<3.0.0,>=2.13.0->spacy<3.5.0,>=3.4.0->en-core-web-lg==3.4.0) (2.10)\n",
            "Requirement already satisfied: urllib3!=1.25.0,!=1.25.1,<1.26,>=1.21.1 in /usr/local/lib/python3.7/dist-packages (from requests<3.0.0,>=2.13.0->spacy<3.5.0,>=3.4.0->en-core-web-lg==3.4.0) (1.24.3)\n",
            "Requirement already satisfied: certifi>=2017.4.17 in /usr/local/lib/python3.7/dist-packages (from requests<3.0.0,>=2.13.0->spacy<3.5.0,>=3.4.0->en-core-web-lg==3.4.0) (2022.9.24)\n",
            "Requirement already satisfied: blis<0.8.0,>=0.7.8 in /usr/local/lib/python3.7/dist-packages (from thinc<8.2.0,>=8.1.0->spacy<3.5.0,>=3.4.0->en-core-web-lg==3.4.0) (0.7.8)\n",
            "Requirement already satisfied: confection<1.0.0,>=0.0.1 in /usr/local/lib/python3.7/dist-packages (from thinc<8.2.0,>=8.1.0->spacy<3.5.0,>=3.4.0->en-core-web-lg==3.4.0) (0.0.2)\n",
            "Requirement already satisfied: click<9.0.0,>=7.1.1 in /usr/local/lib/python3.7/dist-packages (from typer<0.5.0,>=0.3.0->spacy<3.5.0,>=3.4.0->en-core-web-lg==3.4.0) (7.1.2)\n",
            "Requirement already satisfied: MarkupSafe>=0.23 in /usr/local/lib/python3.7/dist-packages (from jinja2->spacy<3.5.0,>=3.4.0->en-core-web-lg==3.4.0) (2.0.1)\n",
            "Installing collected packages: en-core-web-lg\n",
            "Successfully installed en-core-web-lg-3.4.0\n",
            "\u001b[38;5;2m✔ Download and installation successful\u001b[0m\n",
            "You can now load the package via spacy.load('en_core_web_lg')\n"
          ]
        }
      ]
    },
    {
      "cell_type": "code",
      "source": [
        "!python -m spacy evaluate output/model-best dev.spacy -o results_encorelg_tok2vec.json"
      ],
      "metadata": {
        "colab": {
          "base_uri": "https://localhost:8080/"
        },
        "id": "f9jRwkgRcIIO",
        "outputId": "4e758c04-7985-4d9b-975c-1487cf90a117"
      },
      "execution_count": null,
      "outputs": [
        {
          "output_type": "stream",
          "name": "stdout",
          "text": [
            "\u001b[38;5;4mℹ Using CPU\u001b[0m\n",
            "\u001b[38;5;4mℹ To switch to GPU 0, use the option: --gpu-id 0\u001b[0m\n",
            "\u001b[1m\n",
            "================================== Results ==================================\u001b[0m\n",
            "\n",
            "TOK      100.00\n",
            "SPAN P   84.72 \n",
            "SPAN R   79.59 \n",
            "SPAN F   82.07 \n",
            "SPEED    7569  \n",
            "\n",
            "\u001b[1m\n",
            "============================== SPANS (per type) ==============================\u001b[0m\n",
            "\n",
            "           P        R        F\n",
            "ID     82.11    86.70    84.34\n",
            "ACR    89.80    86.27    88.00\n",
            "IND    76.47    73.03    74.71\n",
            "STP   100.00   100.00   100.00\n",
            "LEG    93.48    89.58    91.49\n",
            "LOC    90.20    77.97    83.64\n",
            "PER    55.00    28.95    37.93\n",
            "STR   100.00   100.00   100.00\n",
            "ORG    97.44    74.51    84.44\n",
            "NAT    75.00   100.00    85.71\n",
            "SCP   100.00    80.00    88.89\n",
            "COL    50.00    16.67    25.00\n",
            "MOD   100.00    50.00    66.67\n",
            "\n",
            "\u001b[38;5;2m✔ Saved results to results_encorelg_tok2vec.json\u001b[0m\n"
          ]
        }
      ]
    },
    {
      "cell_type": "code",
      "source": [
        "from google.colab import files\n",
        "files.download(\"/content/results_encorelg_tok2vec.json\")"
      ],
      "metadata": {
        "colab": {
          "base_uri": "https://localhost:8080/",
          "height": 34
        },
        "id": "j9oXNKVCOE6J",
        "outputId": "0f728b01-ada5-4c73-f33a-8ea33651c75e"
      },
      "execution_count": null,
      "outputs": [
        {
          "output_type": "display_data",
          "data": {
            "text/plain": [
              "<IPython.core.display.Javascript object>"
            ],
            "application/javascript": [
              "\n",
              "    async function download(id, filename, size) {\n",
              "      if (!google.colab.kernel.accessAllowed) {\n",
              "        return;\n",
              "      }\n",
              "      const div = document.createElement('div');\n",
              "      const label = document.createElement('label');\n",
              "      label.textContent = `Downloading \"${filename}\": `;\n",
              "      div.appendChild(label);\n",
              "      const progress = document.createElement('progress');\n",
              "      progress.max = size;\n",
              "      div.appendChild(progress);\n",
              "      document.body.appendChild(div);\n",
              "\n",
              "      const buffers = [];\n",
              "      let downloaded = 0;\n",
              "\n",
              "      const channel = await google.colab.kernel.comms.open(id);\n",
              "      // Send a message to notify the kernel that we're ready.\n",
              "      channel.send({})\n",
              "\n",
              "      for await (const message of channel.messages) {\n",
              "        // Send a message to notify the kernel that we're ready.\n",
              "        channel.send({})\n",
              "        if (message.buffers) {\n",
              "          for (const buffer of message.buffers) {\n",
              "            buffers.push(buffer);\n",
              "            downloaded += buffer.byteLength;\n",
              "            progress.value = downloaded;\n",
              "          }\n",
              "        }\n",
              "      }\n",
              "      const blob = new Blob(buffers, {type: 'application/binary'});\n",
              "      const a = document.createElement('a');\n",
              "      a.href = window.URL.createObjectURL(blob);\n",
              "      a.download = filename;\n",
              "      div.appendChild(a);\n",
              "      a.click();\n",
              "      div.remove();\n",
              "    }\n",
              "  "
            ]
          },
          "metadata": {}
        },
        {
          "output_type": "display_data",
          "data": {
            "text/plain": [
              "<IPython.core.display.Javascript object>"
            ],
            "application/javascript": [
              "download(\"download_96cbe67a-fcf2-4c27-a1cc-245e16015ac9\", \"results_encorelg_tok2vec.json\", 1241)"
            ]
          },
          "metadata": {}
        }
      ]
    },
    {
      "cell_type": "code",
      "source": [
        "!python -m spacy train /content/config_encorelg_tok2vec_encoretrf_spancat.cfg --output ./output --paths.train train.spacy --paths.dev dev.spacy --gpu-id 0"
      ],
      "metadata": {
        "colab": {
          "base_uri": "https://localhost:8080/"
        },
        "id": "2wXP7eXFOLQx",
        "outputId": "0da3c6d9-65a8-42b3-8700-1527457959bd"
      },
      "execution_count": null,
      "outputs": [
        {
          "output_type": "stream",
          "name": "stdout",
          "text": [
            "\u001b[38;5;4mℹ Saving to output directory: output\u001b[0m\n",
            "\u001b[38;5;4mℹ Using GPU: 0\u001b[0m\n",
            "\u001b[1m\n",
            "=========================== Initializing pipeline ===========================\u001b[0m\n",
            "tcmalloc: large alloc 1233977344 bytes == 0xa223c000 @  0x7f2bd67202a4 0x7f2bcb017a7d 0x7f2bcb016c5d 0x7f2bcb013435 0x7f2bcb013bde 0x4d19df 0x51b31c 0x5b41c5 0x58f49e 0x51837f 0x7f2a8f115218 0x7f2a8f1171de 0x7f2a8f11e0d7 0x7f2a8f1217df 0x590055 0x51b180 0x58f2a7 0x51740e 0x7f2a8f115218 0x7f2a8f1171de 0x7f2a8f11ddb0 0x58ed05 0x51babb 0x5b4a3e 0x58f49e 0x51837f 0x5b4a3e 0x58f49e 0x51837f 0x5b4a3e 0x58f49e\n",
            "tcmalloc: large alloc 1248116736 bytes == 0x7d5d4000 @  0x7f2bd67202a4 0x7f2bcb015193 0x7f2bcb016c5d 0x7f2bcb013435 0x7f2bcb013bde 0x4d19df 0x51b31c 0x5b41c5 0x58f49e 0x51837f 0x58f2a7 0x51b221 0x7f2a8f115218 0x7f2a8f1171de 0x7f2a8f11ddb0 0x58ed05 0x51babb 0x5b4a3e 0x58f49e 0x51837f 0x5b4a3e 0x58f49e 0x51837f 0x5b4a3e 0x58f49e 0x51837f 0x5b4a3e 0x58f49e 0x51837f 0x5b4a3e 0x58f49e\n",
            "Traceback (most recent call last):\n",
            "  File \"/usr/lib/python3.7/runpy.py\", line 193, in _run_module_as_main\n",
            "    \"__main__\", mod_spec)\n",
            "  File \"/usr/lib/python3.7/runpy.py\", line 85, in _run_code\n",
            "    exec(code, run_globals)\n",
            "  File \"/usr/local/lib/python3.7/dist-packages/spacy/__main__.py\", line 4, in <module>\n",
            "    setup_cli()\n",
            "  File \"/usr/local/lib/python3.7/dist-packages/spacy/cli/_util.py\", line 71, in setup_cli\n",
            "    command(prog_name=COMMAND)\n",
            "  File \"/usr/local/lib/python3.7/dist-packages/click/core.py\", line 829, in __call__\n",
            "    return self.main(*args, **kwargs)\n",
            "  File \"/usr/local/lib/python3.7/dist-packages/click/core.py\", line 782, in main\n",
            "    rv = self.invoke(ctx)\n",
            "  File \"/usr/local/lib/python3.7/dist-packages/click/core.py\", line 1259, in invoke\n",
            "    return _process_result(sub_ctx.command.invoke(sub_ctx))\n",
            "  File \"/usr/local/lib/python3.7/dist-packages/click/core.py\", line 1066, in invoke\n",
            "    return ctx.invoke(self.callback, **ctx.params)\n",
            "  File \"/usr/local/lib/python3.7/dist-packages/click/core.py\", line 610, in invoke\n",
            "    return callback(*args, **kwargs)\n",
            "  File \"/usr/local/lib/python3.7/dist-packages/typer/main.py\", line 532, in wrapper\n",
            "    return callback(**use_params)  # type: ignore\n",
            "  File \"/usr/local/lib/python3.7/dist-packages/spacy/cli/train.py\", line 45, in train_cli\n",
            "    train(config_path, output_path, use_gpu=use_gpu, overrides=overrides)\n",
            "  File \"/usr/local/lib/python3.7/dist-packages/spacy/cli/train.py\", line 72, in train\n",
            "    nlp = init_nlp(config, use_gpu=use_gpu)\n",
            "  File \"/usr/local/lib/python3.7/dist-packages/spacy/training/initialize.py\", line 41, in init_nlp\n",
            "    nlp = load_model_from_config(raw_config, auto_fill=True)\n",
            "  File \"/usr/local/lib/python3.7/dist-packages/spacy/util.py\", line 559, in load_model_from_config\n",
            "    meta=meta,\n",
            "  File \"/usr/local/lib/python3.7/dist-packages/spacy/language.py\", line 1848, in from_config\n",
            "    source_name, source=source_nlps[model], name=pipe_name\n",
            "  File \"/usr/local/lib/python3.7/dist-packages/spacy/language.py\", line 784, in add_pipe\n",
            "    factory_name, source, name=name\n",
            "  File \"/usr/local/lib/python3.7/dist-packages/spacy/language.py\", line 716, in create_pipe_from_source\n",
            "    opts=\", \".join(source.component_names),\n",
            "KeyError: \"[E944] Can't copy pipeline component 'spancat' from source 'en_core_web_trf': not found in pipeline. Available components: transformer, tagger, parser, attribute_ruler, lemmatizer, ner\"\n"
          ]
        }
      ]
    },
    {
      "cell_type": "code",
      "source": [
        "!python -m spacy evaluate output/model-best dev.spacy -o results_encorelg_tok2vec_encoretrf_spancat.json"
      ],
      "metadata": {
        "colab": {
          "base_uri": "https://localhost:8080/"
        },
        "id": "XpidWuzxOmSj",
        "outputId": "824cc06d-fa2c-4726-b13e-f65fd7fbe1f6"
      },
      "execution_count": null,
      "outputs": [
        {
          "output_type": "stream",
          "name": "stdout",
          "text": [
            "\u001b[38;5;4mℹ Using CPU\u001b[0m\n",
            "\u001b[38;5;4mℹ To switch to GPU 0, use the option: --gpu-id 0\u001b[0m\n",
            "\u001b[1m\n",
            "================================== Results ==================================\u001b[0m\n",
            "\n",
            "TOK      100.00\n",
            "SPAN P   84.72 \n",
            "SPAN R   79.59 \n",
            "SPAN F   82.07 \n",
            "SPEED    7680  \n",
            "\n",
            "\u001b[1m\n",
            "============================== SPANS (per type) ==============================\u001b[0m\n",
            "\n",
            "           P        R        F\n",
            "ID     82.11    86.70    84.34\n",
            "ACR    89.80    86.27    88.00\n",
            "STP   100.00   100.00   100.00\n",
            "IND    76.47    73.03    74.71\n",
            "LEG    93.48    89.58    91.49\n",
            "LOC    90.20    77.97    83.64\n",
            "PER    55.00    28.95    37.93\n",
            "STR   100.00   100.00   100.00\n",
            "ORG    97.44    74.51    84.44\n",
            "NAT    75.00   100.00    85.71\n",
            "SCP   100.00    80.00    88.89\n",
            "COL    50.00    16.67    25.00\n",
            "MOD   100.00    50.00    66.67\n",
            "\n",
            "\u001b[38;5;2m✔ Saved results to results_encorelg_tok2vec_encoretrf_spancat.json\u001b[0m\n"
          ]
        }
      ]
    },
    {
      "cell_type": "code",
      "source": [
        "files.download(\"/content/results_encorelg_tok2vec_encoretrf_spancat.json\")"
      ],
      "metadata": {
        "colab": {
          "base_uri": "https://localhost:8080/",
          "height": 34
        },
        "id": "Zyh8zXvROmnp",
        "outputId": "b2163226-0f73-44e4-811e-af1449760229"
      },
      "execution_count": null,
      "outputs": [
        {
          "output_type": "display_data",
          "data": {
            "text/plain": [
              "<IPython.core.display.Javascript object>"
            ],
            "application/javascript": [
              "\n",
              "    async function download(id, filename, size) {\n",
              "      if (!google.colab.kernel.accessAllowed) {\n",
              "        return;\n",
              "      }\n",
              "      const div = document.createElement('div');\n",
              "      const label = document.createElement('label');\n",
              "      label.textContent = `Downloading \"${filename}\": `;\n",
              "      div.appendChild(label);\n",
              "      const progress = document.createElement('progress');\n",
              "      progress.max = size;\n",
              "      div.appendChild(progress);\n",
              "      document.body.appendChild(div);\n",
              "\n",
              "      const buffers = [];\n",
              "      let downloaded = 0;\n",
              "\n",
              "      const channel = await google.colab.kernel.comms.open(id);\n",
              "      // Send a message to notify the kernel that we're ready.\n",
              "      channel.send({})\n",
              "\n",
              "      for await (const message of channel.messages) {\n",
              "        // Send a message to notify the kernel that we're ready.\n",
              "        channel.send({})\n",
              "        if (message.buffers) {\n",
              "          for (const buffer of message.buffers) {\n",
              "            buffers.push(buffer);\n",
              "            downloaded += buffer.byteLength;\n",
              "            progress.value = downloaded;\n",
              "          }\n",
              "        }\n",
              "      }\n",
              "      const blob = new Blob(buffers, {type: 'application/binary'});\n",
              "      const a = document.createElement('a');\n",
              "      a.href = window.URL.createObjectURL(blob);\n",
              "      a.download = filename;\n",
              "      div.appendChild(a);\n",
              "      a.click();\n",
              "      div.remove();\n",
              "    }\n",
              "  "
            ]
          },
          "metadata": {}
        },
        {
          "output_type": "display_data",
          "data": {
            "text/plain": [
              "<IPython.core.display.Javascript object>"
            ],
            "application/javascript": [
              "download(\"download_728418a6-4616-4715-9592-663ede91d66d\", \"results_encorelg_tok2vec_encoretrf_spancat.json\", 1241)"
            ]
          },
          "metadata": {}
        }
      ]
    },
    {
      "cell_type": "code",
      "source": [],
      "metadata": {
        "id": "dZPFpCdiOUuf"
      },
      "execution_count": null,
      "outputs": []
    },
    {
      "cell_type": "code",
      "source": [
        "============"
      ],
      "metadata": {
        "id": "lXmotiAgOUmA"
      },
      "execution_count": null,
      "outputs": []
    },
    {
      "cell_type": "code",
      "source": [],
      "metadata": {
        "id": "XtZWCe1WOvY6"
      },
      "execution_count": null,
      "outputs": []
    },
    {
      "cell_type": "code",
      "source": [
        "!python -m spacy train /content/config_legal.cfg --output ./output --paths.train train.spacy --paths.dev dev.spacy --gpu-id 0"
      ],
      "metadata": {
        "colab": {
          "base_uri": "https://localhost:8080/"
        },
        "id": "eWiF1ItcOLlI",
        "outputId": "38c04132-4436-4473-b090-a1284d6a153a"
      },
      "execution_count": null,
      "outputs": [
        {
          "output_type": "stream",
          "name": "stdout",
          "text": [
            "\u001b[38;5;4mℹ Saving to output directory: output\u001b[0m\n",
            "\u001b[38;5;4mℹ Using GPU: 0\u001b[0m\n",
            "\u001b[1m\n",
            "=========================== Initializing pipeline ===========================\u001b[0m\n",
            "[2022-10-12 08:18:06,402] [INFO] Set up nlp object from config\n",
            "INFO:spacy:Set up nlp object from config\n",
            "[2022-10-12 08:18:06,412] [INFO] Pipeline: ['transformer', 'spancat']\n",
            "INFO:spacy:Pipeline: ['transformer', 'spancat']\n",
            "[2022-10-12 08:18:06,416] [INFO] Created vocabulary\n",
            "INFO:spacy:Created vocabulary\n",
            "[2022-10-12 08:18:06,417] [INFO] Finished initializing nlp object\n",
            "INFO:spacy:Finished initializing nlp object\n",
            "Downloading tokenizer_config.json: 100% 48.0/48.0 [00:00<00:00, 74.0kB/s]\n",
            "Downloading config.json: 100% 0.99k/0.99k [00:00<00:00, 1.50MB/s]\n",
            "Downloading vocab.txt: 100% 217k/217k [00:00<00:00, 1.99MB/s]\n",
            "Downloading special_tokens_map.json: 100% 112/112 [00:00<00:00, 167kB/s]\n",
            "Downloading pytorch_model.bin: 100% 420M/420M [00:09<00:00, 45.0MB/s]\n",
            "Some weights of the model checkpoint at nlpaueb/legal-bert-base-uncased were not used when initializing BertModel: ['cls.seq_relationship.weight', 'cls.predictions.decoder.weight', 'cls.predictions.transform.LayerNorm.weight', 'cls.seq_relationship.bias', 'cls.predictions.transform.LayerNorm.bias', 'cls.predictions.bias', 'cls.predictions.transform.dense.bias', 'cls.predictions.decoder.bias', 'cls.predictions.transform.dense.weight']\n",
            "- This IS expected if you are initializing BertModel from the checkpoint of a model trained on another task or with another architecture (e.g. initializing a BertForSequenceClassification model from a BertForPreTraining model).\n",
            "- This IS NOT expected if you are initializing BertModel from the checkpoint of a model that you expect to be exactly identical (initializing a BertForSequenceClassification model from a BertForSequenceClassification model).\n",
            "[2022-10-12 08:18:40,284] [INFO] Initialized pipeline components: ['transformer', 'spancat']\n",
            "INFO:spacy:Initialized pipeline components: ['transformer', 'spancat']\n",
            "\u001b[38;5;2m✔ Initialized pipeline\u001b[0m\n",
            "\u001b[1m\n",
            "============================= Training pipeline =============================\u001b[0m\n",
            "\u001b[38;5;4mℹ Pipeline: ['transformer', 'spancat']\u001b[0m\n",
            "\u001b[38;5;4mℹ Initial learn rate: 0.0\u001b[0m\n",
            "E    #       LOSS TRANS...  LOSS SPANCAT  SPANS_SC_F  SPANS_SC_P  SPANS_SC_R  SCORE \n",
            "---  ------  -------------  ------------  ----------  ----------  ----------  ------\n",
            "  0       0        3448.77       1258.40        5.19        2.85       29.51    0.05\n",
            " 28     200       68233.84      91940.88       79.97       87.64       73.52    0.80\n",
            " 57     400        1583.28       7891.31       87.70       89.00       86.44    0.88\n",
            " 85     600         142.01        942.16       87.35       88.27       86.44    0.87\n",
            "113     800          26.37        266.33       87.50       86.81       88.20    0.88\n",
            "142    1000          13.80        111.44       88.59       88.66       88.52    0.89\n",
            "170    1200           7.70         61.86       88.09       88.30       87.88    0.88\n",
            "199    1400           9.38         47.08       88.50       88.64       88.36    0.88\n",
            "227    1600           5.01         36.36       86.73       87.50       85.96    0.87\n",
            "256    1800           4.71         29.64       88.26       88.98       87.56    0.88\n",
            "285    2000           4.14         25.79       88.07       88.42       87.72    0.88\n",
            "\u001b[38;5;2m✔ Saved pipeline to output directory\u001b[0m\n",
            "output/model-last\n"
          ]
        }
      ]
    },
    {
      "cell_type": "code",
      "source": [
        "!python -m spacy evaluate output/model-best eval.spacy -o results_legal.json"
      ],
      "metadata": {
        "colab": {
          "base_uri": "https://localhost:8080/"
        },
        "id": "gV8j1yvUOm5a",
        "outputId": "cb0174c1-243f-49c5-fcd4-b0da8e05cb7e"
      },
      "execution_count": null,
      "outputs": [
        {
          "output_type": "stream",
          "name": "stdout",
          "text": [
            "\u001b[38;5;4mℹ Using CPU\u001b[0m\n",
            "\u001b[38;5;4mℹ To switch to GPU 0, use the option: --gpu-id 0\u001b[0m\n",
            "\u001b[1m\n",
            "================================== Results ==================================\u001b[0m\n",
            "\n",
            "TOK      100.00\n",
            "SPAN P   80.23 \n",
            "SPAN R   80.65 \n",
            "SPAN F   80.44 \n",
            "SPEED    61    \n",
            "\n",
            "\u001b[1m\n",
            "============================== SPANS (per type) ==============================\u001b[0m\n",
            "\n",
            "           P        R       F\n",
            "LEG    81.71    89.33   85.35\n",
            "ID     86.40    88.17   87.28\n",
            "IND    70.18    62.02   65.84\n",
            "PER    46.67    68.29   55.45\n",
            "STP    93.59   100.00   96.69\n",
            "LOC    66.67    63.64   65.12\n",
            "ORG    67.14    64.38   65.73\n",
            "ACR    92.11    78.65   84.85\n",
            "COL    76.47    81.25   78.79\n",
            "SCP   100.00    77.78   87.50\n",
            "STR    92.86    86.67   89.66\n",
            "NAT   100.00    71.43   83.33\n",
            "MOD    25.00   100.00   40.00\n",
            "\n",
            "\u001b[38;5;2m✔ Saved results to results_legal.json\u001b[0m\n"
          ]
        }
      ]
    },
    {
      "cell_type": "code",
      "source": [
        "files.download(\"/content/results_legal.json\")"
      ],
      "metadata": {
        "colab": {
          "base_uri": "https://localhost:8080/",
          "height": 17
        },
        "id": "wHtdnZzeOnJT",
        "outputId": "4a2a06cb-d6df-4811-862b-d8145d732462"
      },
      "execution_count": null,
      "outputs": [
        {
          "output_type": "display_data",
          "data": {
            "text/plain": [
              "<IPython.core.display.Javascript object>"
            ],
            "application/javascript": [
              "\n",
              "    async function download(id, filename, size) {\n",
              "      if (!google.colab.kernel.accessAllowed) {\n",
              "        return;\n",
              "      }\n",
              "      const div = document.createElement('div');\n",
              "      const label = document.createElement('label');\n",
              "      label.textContent = `Downloading \"${filename}\": `;\n",
              "      div.appendChild(label);\n",
              "      const progress = document.createElement('progress');\n",
              "      progress.max = size;\n",
              "      div.appendChild(progress);\n",
              "      document.body.appendChild(div);\n",
              "\n",
              "      const buffers = [];\n",
              "      let downloaded = 0;\n",
              "\n",
              "      const channel = await google.colab.kernel.comms.open(id);\n",
              "      // Send a message to notify the kernel that we're ready.\n",
              "      channel.send({})\n",
              "\n",
              "      for await (const message of channel.messages) {\n",
              "        // Send a message to notify the kernel that we're ready.\n",
              "        channel.send({})\n",
              "        if (message.buffers) {\n",
              "          for (const buffer of message.buffers) {\n",
              "            buffers.push(buffer);\n",
              "            downloaded += buffer.byteLength;\n",
              "            progress.value = downloaded;\n",
              "          }\n",
              "        }\n",
              "      }\n",
              "      const blob = new Blob(buffers, {type: 'application/binary'});\n",
              "      const a = document.createElement('a');\n",
              "      a.href = window.URL.createObjectURL(blob);\n",
              "      a.download = filename;\n",
              "      div.appendChild(a);\n",
              "      a.click();\n",
              "      div.remove();\n",
              "    }\n",
              "  "
            ]
          },
          "metadata": {}
        },
        {
          "output_type": "display_data",
          "data": {
            "text/plain": [
              "<IPython.core.display.Javascript object>"
            ],
            "application/javascript": [
              "download(\"download_191ceb21-a106-49d4-a2b7-29a23876a037\", \"results_legal.json\", 1312)"
            ]
          },
          "metadata": {}
        }
      ]
    },
    {
      "cell_type": "code",
      "source": [
        "!zip -r /content/output_legal.zip /content/output\n",
        "\n",
        "from google.colab import files\n",
        "# files.download(\"/content/output_legal.zip\")"
      ],
      "metadata": {
        "colab": {
          "base_uri": "https://localhost:8080/"
        },
        "id": "tbmmEpd6OZhZ",
        "outputId": "7bab4615-8174-43c1-af50-f1183deccc9c"
      },
      "execution_count": null,
      "outputs": [
        {
          "output_type": "stream",
          "name": "stdout",
          "text": [
            "  adding: content/output/ (stored 0%)\n",
            "  adding: content/output/model-best/ (stored 0%)\n",
            "  adding: content/output/model-best/meta.json (deflated 56%)\n",
            "  adding: content/output/model-best/config.cfg (deflated 62%)\n",
            "  adding: content/output/model-best/transformer/ (stored 0%)\n",
            "  adding: content/output/model-best/transformer/model (deflated 8%)\n",
            "  adding: content/output/model-best/transformer/cfg (stored 0%)\n",
            "  adding: content/output/model-best/tokenizer (deflated 81%)\n",
            "  adding: content/output/model-best/spancat/ (stored 0%)\n",
            "  adding: content/output/model-best/spancat/model (deflated 8%)\n",
            "  adding: content/output/model-best/spancat/cfg (deflated 40%)\n",
            "  adding: content/output/model-best/vocab/ (stored 0%)\n",
            "  adding: content/output/model-best/vocab/vectors.cfg (stored 0%)\n",
            "  adding: content/output/model-best/vocab/lookups.bin (stored 0%)\n",
            "  adding: content/output/model-best/vocab/key2row (stored 0%)\n",
            "  adding: content/output/model-best/vocab/vectors (deflated 45%)\n",
            "  adding: content/output/model-best/vocab/strings.json (deflated 71%)\n",
            "  adding: content/output/model-last/ (stored 0%)\n",
            "  adding: content/output/model-last/meta.json (deflated 56%)\n",
            "  adding: content/output/model-last/config.cfg (deflated 62%)\n",
            "  adding: content/output/model-last/transformer/ (stored 0%)\n",
            "  adding: content/output/model-last/transformer/model (deflated 8%)\n",
            "  adding: content/output/model-last/transformer/cfg (stored 0%)\n",
            "  adding: content/output/model-last/tokenizer (deflated 81%)\n",
            "  adding: content/output/model-last/spancat/ (stored 0%)\n",
            "  adding: content/output/model-last/spancat/model (deflated 8%)\n",
            "  adding: content/output/model-last/spancat/cfg (deflated 40%)\n",
            "  adding: content/output/model-last/vocab/ (stored 0%)\n",
            "  adding: content/output/model-last/vocab/vectors.cfg (stored 0%)\n",
            "  adding: content/output/model-last/vocab/lookups.bin (stored 0%)\n",
            "  adding: content/output/model-last/vocab/key2row (stored 0%)\n",
            "  adding: content/output/model-last/vocab/vectors (deflated 45%)\n",
            "  adding: content/output/model-last/vocab/strings.json (deflated 71%)\n"
          ]
        }
      ]
    },
    {
      "cell_type": "code",
      "source": [],
      "metadata": {
        "id": "IRkUFf9vOolx"
      },
      "execution_count": null,
      "outputs": []
    },
    {
      "cell_type": "code",
      "source": [
        "!python -m spacy train /content/config_finbert.cfg --output ./output --paths.train train.spacy --paths.dev dev.spacy --gpu-id 0"
      ],
      "metadata": {
        "colab": {
          "base_uri": "https://localhost:8080/"
        },
        "id": "xMOq6HdKOMMm",
        "outputId": "6545ea56-2844-41d0-d93a-7a1743dbabea"
      },
      "execution_count": null,
      "outputs": [
        {
          "output_type": "stream",
          "name": "stdout",
          "text": [
            "\u001b[38;5;4mℹ Saving to output directory: output\u001b[0m\n",
            "\u001b[38;5;4mℹ Using GPU: 0\u001b[0m\n",
            "\u001b[1m\n",
            "=========================== Initializing pipeline ===========================\u001b[0m\n",
            "[2022-10-11 19:20:40,778] [INFO] Set up nlp object from config\n",
            "INFO:spacy:Set up nlp object from config\n",
            "[2022-10-11 19:20:40,788] [INFO] Pipeline: ['transformer', 'spancat']\n",
            "INFO:spacy:Pipeline: ['transformer', 'spancat']\n",
            "[2022-10-11 19:20:40,792] [INFO] Created vocabulary\n",
            "INFO:spacy:Created vocabulary\n",
            "[2022-10-11 19:20:40,793] [INFO] Finished initializing nlp object\n",
            "INFO:spacy:Finished initializing nlp object\n",
            "Some weights of the model checkpoint at ProsusAI/finbert were not used when initializing BertModel: ['classifier.weight', 'classifier.bias']\n",
            "- This IS expected if you are initializing BertModel from the checkpoint of a model trained on another task or with another architecture (e.g. initializing a BertForSequenceClassification model from a BertForPreTraining model).\n",
            "- This IS NOT expected if you are initializing BertModel from the checkpoint of a model that you expect to be exactly identical (initializing a BertForSequenceClassification model from a BertForSequenceClassification model).\n",
            "[2022-10-11 19:20:57,186] [INFO] Initialized pipeline components: ['transformer', 'spancat']\n",
            "INFO:spacy:Initialized pipeline components: ['transformer', 'spancat']\n",
            "\u001b[38;5;2m✔ Initialized pipeline\u001b[0m\n",
            "\u001b[1m\n",
            "============================= Training pipeline =============================\u001b[0m\n",
            "\u001b[38;5;4mℹ Pipeline: ['transformer', 'spancat']\u001b[0m\n",
            "\u001b[38;5;4mℹ Initial learn rate: 0.0\u001b[0m\n",
            "E    #       LOSS TRANS...  LOSS SPANCAT  SPANS_SC_F  SPANS_SC_P  SPANS_SC_R  SCORE \n",
            "---  ------  -------------  ------------  ----------  ----------  ----------  ------\n",
            "  0       0        3373.08       1476.71        6.75        3.66       42.74    0.07\n",
            " 28     200       55269.86      94660.89       84.33       86.82       81.98    0.84\n",
            " 57     400         503.48       4358.10       87.70       87.84       87.56    0.88\n",
            " 85     600          39.09        472.53       88.26       88.98       87.56    0.88\n",
            "113     800           7.27        128.19       87.60       89.65       85.65    0.88\n",
            "142    1000           2.00         55.73       88.58       89.97       87.24    0.89\n",
            "\u001b[38;5;2m✔ Saved pipeline to output directory\u001b[0m\n",
            "output/model-last\n"
          ]
        }
      ]
    },
    {
      "cell_type": "code",
      "source": [
        "!python -m spacy evaluate output/model-best eval.spacy -o results_finbert.json"
      ],
      "metadata": {
        "colab": {
          "base_uri": "https://localhost:8080/"
        },
        "id": "aCYBuZ31OpAD",
        "outputId": "5c284c31-1f51-4296-89c6-a747f56160bd"
      },
      "execution_count": null,
      "outputs": [
        {
          "output_type": "stream",
          "name": "stdout",
          "text": [
            "\u001b[38;5;4mℹ Using CPU\u001b[0m\n",
            "\u001b[38;5;4mℹ To switch to GPU 0, use the option: --gpu-id 0\u001b[0m\n",
            "\u001b[1m\n",
            "================================== Results ==================================\u001b[0m\n",
            "\n",
            "TOK      100.00\n",
            "SPAN P   83.90 \n",
            "SPAN R   79.71 \n",
            "SPAN F   81.75 \n",
            "SPEED    75    \n",
            "\n",
            "\u001b[1m\n",
            "============================== SPANS (per type) ==============================\u001b[0m\n",
            "\n",
            "           P        R       F\n",
            "LEG    82.28    86.67   84.42\n",
            "ID     90.05    86.12   88.04\n",
            "IND    67.18    68.22   67.69\n",
            "STP    96.05   100.00   97.99\n",
            "LOC    76.19    72.73   74.42\n",
            "ORG    77.78    57.53   66.14\n",
            "PER    63.64    68.29   65.88\n",
            "ACR    92.96    74.16   82.50\n",
            "COL    81.82    56.25   66.67\n",
            "SCP   100.00    77.78   87.50\n",
            "STR    87.50    93.33   90.32\n",
            "NAT   100.00    85.71   92.31\n",
            "MOD    25.00   100.00   40.00\n",
            "\n",
            "\u001b[38;5;2m✔ Saved results to results_finbert.json\u001b[0m\n"
          ]
        }
      ]
    },
    {
      "cell_type": "code",
      "source": [
        "from google.colab import files"
      ],
      "metadata": {
        "id": "E-rKOEIeYP9B"
      },
      "execution_count": null,
      "outputs": []
    },
    {
      "cell_type": "code",
      "source": [
        "files.download(\"/content/results_finbert.json\")"
      ],
      "metadata": {
        "colab": {
          "base_uri": "https://localhost:8080/",
          "height": 17
        },
        "id": "s8lkvJOwOxv2",
        "outputId": "1b65f89d-498c-4acb-cded-d4b2ec833751"
      },
      "execution_count": null,
      "outputs": [
        {
          "output_type": "display_data",
          "data": {
            "text/plain": [
              "<IPython.core.display.Javascript object>"
            ],
            "application/javascript": [
              "\n",
              "    async function download(id, filename, size) {\n",
              "      if (!google.colab.kernel.accessAllowed) {\n",
              "        return;\n",
              "      }\n",
              "      const div = document.createElement('div');\n",
              "      const label = document.createElement('label');\n",
              "      label.textContent = `Downloading \"${filename}\": `;\n",
              "      div.appendChild(label);\n",
              "      const progress = document.createElement('progress');\n",
              "      progress.max = size;\n",
              "      div.appendChild(progress);\n",
              "      document.body.appendChild(div);\n",
              "\n",
              "      const buffers = [];\n",
              "      let downloaded = 0;\n",
              "\n",
              "      const channel = await google.colab.kernel.comms.open(id);\n",
              "      // Send a message to notify the kernel that we're ready.\n",
              "      channel.send({})\n",
              "\n",
              "      for await (const message of channel.messages) {\n",
              "        // Send a message to notify the kernel that we're ready.\n",
              "        channel.send({})\n",
              "        if (message.buffers) {\n",
              "          for (const buffer of message.buffers) {\n",
              "            buffers.push(buffer);\n",
              "            downloaded += buffer.byteLength;\n",
              "            progress.value = downloaded;\n",
              "          }\n",
              "        }\n",
              "      }\n",
              "      const blob = new Blob(buffers, {type: 'application/binary'});\n",
              "      const a = document.createElement('a');\n",
              "      a.href = window.URL.createObjectURL(blob);\n",
              "      a.download = filename;\n",
              "      div.appendChild(a);\n",
              "      a.click();\n",
              "      div.remove();\n",
              "    }\n",
              "  "
            ]
          },
          "metadata": {}
        },
        {
          "output_type": "display_data",
          "data": {
            "text/plain": [
              "<IPython.core.display.Javascript object>"
            ],
            "application/javascript": [
              "download(\"download_5e49a5c3-200c-498e-9eb9-ea22dbd584ec\", \"results_finbert.json\", 1300)"
            ]
          },
          "metadata": {}
        }
      ]
    },
    {
      "cell_type": "code",
      "source": [
        "!zip -r /content/output_finbert.zip /content/output\n",
        "\n",
        "from google.colab import files\n",
        "files.download(\"/content/output_finbert.zip\")"
      ],
      "metadata": {
        "colab": {
          "base_uri": "https://localhost:8080/",
          "height": 640
        },
        "id": "BI1_ji9cUc8G",
        "outputId": "43450dc0-08c2-4dc1-be9e-eac00fc825b9"
      },
      "execution_count": null,
      "outputs": [
        {
          "output_type": "stream",
          "name": "stdout",
          "text": [
            "updating: content/output/ (stored 0%)\n",
            "updating: content/output/model-last/ (stored 0%)\n",
            "updating: content/output/model-last/tokenizer (deflated 81%)\n",
            "updating: content/output/model-last/config.cfg (deflated 62%)\n",
            "updating: content/output/model-last/spancat/ (stored 0%)\n",
            "updating: content/output/model-last/spancat/model (deflated 8%)\n",
            "updating: content/output/model-last/spancat/cfg (deflated 40%)\n",
            "updating: content/output/model-last/vocab/ (stored 0%)\n",
            "updating: content/output/model-last/vocab/key2row (stored 0%)\n",
            "updating: content/output/model-last/vocab/lookups.bin (stored 0%)\n",
            "updating: content/output/model-last/vocab/vectors.cfg (stored 0%)\n",
            "updating: content/output/model-last/vocab/vectors (deflated 45%)\n",
            "updating: content/output/model-last/vocab/strings.json (deflated 71%)\n",
            "updating: content/output/model-last/meta.json (deflated 56%)\n",
            "updating: content/output/model-last/transformer/ (stored 0%)\n",
            "updating: content/output/model-last/transformer/model (deflated 8%)\n",
            "updating: content/output/model-last/transformer/cfg (stored 0%)\n",
            "updating: content/output/model-best/ (stored 0%)\n",
            "updating: content/output/model-best/tokenizer (deflated 81%)\n",
            "updating: content/output/model-best/config.cfg (deflated 62%)\n",
            "updating: content/output/model-best/spancat/ (stored 0%)\n",
            "updating: content/output/model-best/spancat/model (deflated 8%)\n",
            "updating: content/output/model-best/spancat/cfg (deflated 40%)\n",
            "updating: content/output/model-best/vocab/ (stored 0%)\n",
            "updating: content/output/model-best/vocab/key2row (stored 0%)\n",
            "updating: content/output/model-best/vocab/lookups.bin (stored 0%)\n",
            "updating: content/output/model-best/vocab/vectors.cfg (stored 0%)\n",
            "updating: content/output/model-best/vocab/vectors (deflated 45%)\n",
            "updating: content/output/model-best/vocab/strings.json (deflated 71%)\n",
            "updating: content/output/model-best/meta.json (deflated 56%)\n",
            "updating: content/output/model-best/transformer/ (stored 0%)\n",
            "updating: content/output/model-best/transformer/model (deflated 8%)\n",
            "updating: content/output/model-best/transformer/cfg (stored 0%)\n"
          ]
        },
        {
          "output_type": "display_data",
          "data": {
            "text/plain": [
              "<IPython.core.display.Javascript object>"
            ],
            "application/javascript": [
              "\n",
              "    async function download(id, filename, size) {\n",
              "      if (!google.colab.kernel.accessAllowed) {\n",
              "        return;\n",
              "      }\n",
              "      const div = document.createElement('div');\n",
              "      const label = document.createElement('label');\n",
              "      label.textContent = `Downloading \"${filename}\": `;\n",
              "      div.appendChild(label);\n",
              "      const progress = document.createElement('progress');\n",
              "      progress.max = size;\n",
              "      div.appendChild(progress);\n",
              "      document.body.appendChild(div);\n",
              "\n",
              "      const buffers = [];\n",
              "      let downloaded = 0;\n",
              "\n",
              "      const channel = await google.colab.kernel.comms.open(id);\n",
              "      // Send a message to notify the kernel that we're ready.\n",
              "      channel.send({})\n",
              "\n",
              "      for await (const message of channel.messages) {\n",
              "        // Send a message to notify the kernel that we're ready.\n",
              "        channel.send({})\n",
              "        if (message.buffers) {\n",
              "          for (const buffer of message.buffers) {\n",
              "            buffers.push(buffer);\n",
              "            downloaded += buffer.byteLength;\n",
              "            progress.value = downloaded;\n",
              "          }\n",
              "        }\n",
              "      }\n",
              "      const blob = new Blob(buffers, {type: 'application/binary'});\n",
              "      const a = document.createElement('a');\n",
              "      a.href = window.URL.createObjectURL(blob);\n",
              "      a.download = filename;\n",
              "      div.appendChild(a);\n",
              "      a.click();\n",
              "      div.remove();\n",
              "    }\n",
              "  "
            ]
          },
          "metadata": {}
        },
        {
          "output_type": "display_data",
          "data": {
            "text/plain": [
              "<IPython.core.display.Javascript object>"
            ],
            "application/javascript": [
              "download(\"download_58d4b573-1952-42ed-86be-4295a0c90e66\", \"output_finbert.zip\", 819904197)"
            ]
          },
          "metadata": {}
        }
      ]
    },
    {
      "cell_type": "code",
      "source": [],
      "metadata": {
        "id": "toPitUgGOpSs"
      },
      "execution_count": null,
      "outputs": []
    },
    {
      "cell_type": "code",
      "source": [
        "!python -m spacy train /content/config_finance.cfg --output ./output --paths.train train.spacy --paths.dev dev.spacy --gpu-id 0"
      ],
      "metadata": {
        "colab": {
          "base_uri": "https://localhost:8080/"
        },
        "id": "0NW5alF9OMd1",
        "outputId": "90832879-3414-4b8e-feb2-25cf0e32bd3b"
      },
      "execution_count": null,
      "outputs": [
        {
          "output_type": "stream",
          "name": "stdout",
          "text": [
            "\u001b[38;5;4mℹ Saving to output directory: output\u001b[0m\n",
            "\u001b[38;5;4mℹ Using GPU: 0\u001b[0m\n",
            "\u001b[1m\n",
            "=========================== Initializing pipeline ===========================\u001b[0m\n",
            "[2022-10-11 20:04:55,495] [INFO] Set up nlp object from config\n",
            "INFO:spacy:Set up nlp object from config\n",
            "[2022-10-11 20:04:55,504] [INFO] Pipeline: ['transformer', 'spancat']\n",
            "INFO:spacy:Pipeline: ['transformer', 'spancat']\n",
            "[2022-10-11 20:04:55,508] [INFO] Created vocabulary\n",
            "INFO:spacy:Created vocabulary\n",
            "[2022-10-11 20:04:55,509] [INFO] Finished initializing nlp object\n",
            "INFO:spacy:Finished initializing nlp object\n",
            "Some weights of the model checkpoint at yiyanghkust/finbert-pretrain were not used when initializing BertModel: ['cls.seq_relationship.weight', 'cls.predictions.transform.dense.bias', 'cls.predictions.decoder.weight', 'cls.predictions.transform.LayerNorm.weight', 'cls.predictions.bias', 'cls.predictions.transform.LayerNorm.bias', 'cls.seq_relationship.bias', 'cls.predictions.transform.dense.weight']\n",
            "- This IS expected if you are initializing BertModel from the checkpoint of a model trained on another task or with another architecture (e.g. initializing a BertForSequenceClassification model from a BertForPreTraining model).\n",
            "- This IS NOT expected if you are initializing BertModel from the checkpoint of a model that you expect to be exactly identical (initializing a BertForSequenceClassification model from a BertForSequenceClassification model).\n",
            "[2022-10-11 20:05:11,790] [INFO] Initialized pipeline components: ['transformer', 'spancat']\n",
            "INFO:spacy:Initialized pipeline components: ['transformer', 'spancat']\n",
            "\u001b[38;5;2m✔ Initialized pipeline\u001b[0m\n",
            "\u001b[1m\n",
            "============================= Training pipeline =============================\u001b[0m\n",
            "\u001b[38;5;4mℹ Pipeline: ['transformer', 'spancat']\u001b[0m\n",
            "\u001b[38;5;4mℹ Initial learn rate: 0.0\u001b[0m\n",
            "E    #       LOSS TRANS...  LOSS SPANCAT  SPANS_SC_F  SPANS_SC_P  SPANS_SC_R  SCORE \n",
            "---  ------  -------------  ------------  ----------  ----------  ----------  ------\n",
            "  0       0        1235.95       1471.95        6.25        3.39       40.03    0.06\n",
            " 28     200       22153.03      89254.04       83.02       85.47       80.70    0.83\n",
            " 57     400         210.26       4836.07       87.09       89.28       85.01    0.87\n",
            " 85     600          16.00        582.21       86.57       87.85       85.33    0.87\n",
            "113     800           4.49        190.56       86.98       88.20       85.81    0.87\n",
            "142    1000           2.30        103.95       88.27       90.18       86.44    0.88\n",
            "\u001b[38;5;2m✔ Saved pipeline to output directory\u001b[0m\n",
            "output/model-last\n"
          ]
        }
      ]
    },
    {
      "cell_type": "code",
      "source": [
        "!python -m spacy evaluate output/model-best eval.spacy -o results_finance.json"
      ],
      "metadata": {
        "colab": {
          "base_uri": "https://localhost:8080/"
        },
        "id": "n5xAbOv1OppU",
        "outputId": "fa52a5ca-91df-4277-ca7a-31780614bb1b"
      },
      "execution_count": null,
      "outputs": [
        {
          "output_type": "stream",
          "name": "stdout",
          "text": [
            "\u001b[38;5;4mℹ Using CPU\u001b[0m\n",
            "\u001b[38;5;4mℹ To switch to GPU 0, use the option: --gpu-id 0\u001b[0m\n",
            "\u001b[1m\n",
            "================================== Results ==================================\u001b[0m\n",
            "\n",
            "TOK      100.00\n",
            "SPAN P   83.07 \n",
            "SPAN R   77.63 \n",
            "SPAN F   80.26 \n",
            "SPEED    78    \n",
            "\n",
            "\u001b[1m\n",
            "============================== SPANS (per type) ==============================\u001b[0m\n",
            "\n",
            "           P        R       F\n",
            "ID     87.98    88.43   88.21\n",
            "LEG    84.62    88.00   86.27\n",
            "PER    66.67    48.78   56.34\n",
            "IND    69.42    65.12   67.20\n",
            "STP    94.81   100.00   97.33\n",
            "ORG    72.13    60.27   65.67\n",
            "LOC    71.43    56.82   63.29\n",
            "ACR    87.30    61.80   72.37\n",
            "SCP   100.00    88.89   94.12\n",
            "COL    75.00    56.25   64.29\n",
            "STR    85.71    80.00   82.76\n",
            "NAT   100.00    71.43   83.33\n",
            "MOD    33.33   100.00   50.00\n",
            "\n",
            "\u001b[38;5;2m✔ Saved results to results_finance.json\u001b[0m\n"
          ]
        }
      ]
    },
    {
      "cell_type": "code",
      "source": [
        "files.download(\"/content/results_finance.json\")"
      ],
      "metadata": {
        "colab": {
          "base_uri": "https://localhost:8080/",
          "height": 17
        },
        "id": "RK2visT0OyHR",
        "outputId": "6618fe9b-d3a7-42a0-9e80-5ad52ee96048"
      },
      "execution_count": null,
      "outputs": [
        {
          "output_type": "display_data",
          "data": {
            "text/plain": [
              "<IPython.core.display.Javascript object>"
            ],
            "application/javascript": [
              "\n",
              "    async function download(id, filename, size) {\n",
              "      if (!google.colab.kernel.accessAllowed) {\n",
              "        return;\n",
              "      }\n",
              "      const div = document.createElement('div');\n",
              "      const label = document.createElement('label');\n",
              "      label.textContent = `Downloading \"${filename}\": `;\n",
              "      div.appendChild(label);\n",
              "      const progress = document.createElement('progress');\n",
              "      progress.max = size;\n",
              "      div.appendChild(progress);\n",
              "      document.body.appendChild(div);\n",
              "\n",
              "      const buffers = [];\n",
              "      let downloaded = 0;\n",
              "\n",
              "      const channel = await google.colab.kernel.comms.open(id);\n",
              "      // Send a message to notify the kernel that we're ready.\n",
              "      channel.send({})\n",
              "\n",
              "      for await (const message of channel.messages) {\n",
              "        // Send a message to notify the kernel that we're ready.\n",
              "        channel.send({})\n",
              "        if (message.buffers) {\n",
              "          for (const buffer of message.buffers) {\n",
              "            buffers.push(buffer);\n",
              "            downloaded += buffer.byteLength;\n",
              "            progress.value = downloaded;\n",
              "          }\n",
              "        }\n",
              "      }\n",
              "      const blob = new Blob(buffers, {type: 'application/binary'});\n",
              "      const a = document.createElement('a');\n",
              "      a.href = window.URL.createObjectURL(blob);\n",
              "      a.download = filename;\n",
              "      div.appendChild(a);\n",
              "      a.click();\n",
              "      div.remove();\n",
              "    }\n",
              "  "
            ]
          },
          "metadata": {}
        },
        {
          "output_type": "display_data",
          "data": {
            "text/plain": [
              "<IPython.core.display.Javascript object>"
            ],
            "application/javascript": [
              "download(\"download_118866d5-8d82-419a-b154-8e85880211b1\", \"results_finance.json\", 1292)"
            ]
          },
          "metadata": {}
        }
      ]
    },
    {
      "cell_type": "code",
      "source": [
        "!zip -r /content/output_finance.zip /content/output\n",
        "\n",
        "from google.colab import files\n",
        "files.download(\"/content/output_finance.zip\")"
      ],
      "metadata": {
        "colab": {
          "base_uri": "https://localhost:8080/",
          "height": 640
        },
        "id": "BRrM-06vSGj7",
        "outputId": "32f7fde3-35d5-4054-d429-e08661f9e9d8"
      },
      "execution_count": null,
      "outputs": [
        {
          "output_type": "stream",
          "name": "stdout",
          "text": [
            "updating: content/output/ (stored 0%)\n",
            "updating: content/output/model-last/ (stored 0%)\n",
            "updating: content/output/model-last/tokenizer (deflated 81%)\n",
            "updating: content/output/model-last/config.cfg (deflated 62%)\n",
            "updating: content/output/model-last/spancat/ (stored 0%)\n",
            "updating: content/output/model-last/spancat/model (deflated 8%)\n",
            "updating: content/output/model-last/spancat/cfg (deflated 40%)\n",
            "updating: content/output/model-last/vocab/ (stored 0%)\n",
            "updating: content/output/model-last/vocab/key2row (stored 0%)\n",
            "updating: content/output/model-last/vocab/lookups.bin (stored 0%)\n",
            "updating: content/output/model-last/vocab/vectors.cfg (stored 0%)\n",
            "updating: content/output/model-last/vocab/vectors (deflated 45%)\n",
            "updating: content/output/model-last/vocab/strings.json (deflated 71%)\n",
            "updating: content/output/model-last/meta.json (deflated 56%)\n",
            "updating: content/output/model-last/transformer/ (stored 0%)\n",
            "updating: content/output/model-last/transformer/model (deflated 7%)\n",
            "updating: content/output/model-last/transformer/cfg (stored 0%)\n",
            "updating: content/output/model-best/ (stored 0%)\n",
            "updating: content/output/model-best/tokenizer (deflated 81%)\n",
            "updating: content/output/model-best/config.cfg (deflated 62%)\n",
            "updating: content/output/model-best/spancat/ (stored 0%)\n",
            "updating: content/output/model-best/spancat/model (deflated 8%)\n",
            "updating: content/output/model-best/spancat/cfg (deflated 40%)\n",
            "updating: content/output/model-best/vocab/ (stored 0%)\n",
            "updating: content/output/model-best/vocab/key2row (stored 0%)\n",
            "updating: content/output/model-best/vocab/lookups.bin (stored 0%)\n",
            "updating: content/output/model-best/vocab/vectors.cfg (stored 0%)\n",
            "updating: content/output/model-best/vocab/vectors (deflated 45%)\n",
            "updating: content/output/model-best/vocab/strings.json (deflated 71%)\n",
            "updating: content/output/model-best/meta.json (deflated 56%)\n",
            "updating: content/output/model-best/transformer/ (stored 0%)\n",
            "updating: content/output/model-best/transformer/model (deflated 7%)\n",
            "updating: content/output/model-best/transformer/cfg (stored 0%)\n"
          ]
        },
        {
          "output_type": "display_data",
          "data": {
            "text/plain": [
              "<IPython.core.display.Javascript object>"
            ],
            "application/javascript": [
              "\n",
              "    async function download(id, filename, size) {\n",
              "      if (!google.colab.kernel.accessAllowed) {\n",
              "        return;\n",
              "      }\n",
              "      const div = document.createElement('div');\n",
              "      const label = document.createElement('label');\n",
              "      label.textContent = `Downloading \"${filename}\": `;\n",
              "      div.appendChild(label);\n",
              "      const progress = document.createElement('progress');\n",
              "      progress.max = size;\n",
              "      div.appendChild(progress);\n",
              "      document.body.appendChild(div);\n",
              "\n",
              "      const buffers = [];\n",
              "      let downloaded = 0;\n",
              "\n",
              "      const channel = await google.colab.kernel.comms.open(id);\n",
              "      // Send a message to notify the kernel that we're ready.\n",
              "      channel.send({})\n",
              "\n",
              "      for await (const message of channel.messages) {\n",
              "        // Send a message to notify the kernel that we're ready.\n",
              "        channel.send({})\n",
              "        if (message.buffers) {\n",
              "          for (const buffer of message.buffers) {\n",
              "            buffers.push(buffer);\n",
              "            downloaded += buffer.byteLength;\n",
              "            progress.value = downloaded;\n",
              "          }\n",
              "        }\n",
              "      }\n",
              "      const blob = new Blob(buffers, {type: 'application/binary'});\n",
              "      const a = document.createElement('a');\n",
              "      a.href = window.URL.createObjectURL(blob);\n",
              "      a.download = filename;\n",
              "      div.appendChild(a);\n",
              "      a.click();\n",
              "      div.remove();\n",
              "    }\n",
              "  "
            ]
          },
          "metadata": {}
        },
        {
          "output_type": "display_data",
          "data": {
            "text/plain": [
              "<IPython.core.display.Javascript object>"
            ],
            "application/javascript": [
              "download(\"download_8a9095f6-452b-42b5-8497-bc24715953d5\", \"output_finance.zip\", 824499246)"
            ]
          },
          "metadata": {}
        }
      ]
    },
    {
      "cell_type": "code",
      "source": [],
      "metadata": {
        "id": "DkHOOB5_FvhJ"
      },
      "execution_count": null,
      "outputs": []
    },
    {
      "cell_type": "code",
      "source": [],
      "metadata": {
        "id": "6cqZhY-XOp5_"
      },
      "execution_count": null,
      "outputs": []
    },
    {
      "cell_type": "code",
      "source": [
        "!python -m spacy train /content/config_robertabase.cfg --output ./output --paths.train train.spacy --paths.dev dev.spacy --gpu-id 0"
      ],
      "metadata": {
        "colab": {
          "base_uri": "https://localhost:8080/"
        },
        "id": "dMdUUa9qOfK8",
        "outputId": "922cd65b-787a-42f6-c315-2ce044ba1d50"
      },
      "execution_count": null,
      "outputs": [
        {
          "output_type": "stream",
          "name": "stdout",
          "text": [
            "\u001b[38;5;4mℹ Saving to output directory: output\u001b[0m\n",
            "\u001b[38;5;4mℹ Using GPU: 0\u001b[0m\n",
            "\u001b[1m\n",
            "=========================== Initializing pipeline ===========================\u001b[0m\n",
            "[2022-10-17 11:23:11,390] [INFO] Set up nlp object from config\n",
            "INFO:spacy:Set up nlp object from config\n",
            "[2022-10-17 11:23:11,400] [INFO] Pipeline: ['transformer', 'spancat']\n",
            "INFO:spacy:Pipeline: ['transformer', 'spancat']\n",
            "[2022-10-17 11:23:11,404] [INFO] Created vocabulary\n",
            "INFO:spacy:Created vocabulary\n",
            "[2022-10-17 11:23:11,405] [INFO] Finished initializing nlp object\n",
            "INFO:spacy:Finished initializing nlp object\n",
            "Some weights of the model checkpoint at roberta-base were not used when initializing RobertaModel: ['lm_head.dense.bias', 'lm_head.dense.weight', 'lm_head.bias', 'lm_head.decoder.weight', 'lm_head.layer_norm.weight', 'lm_head.layer_norm.bias']\n",
            "- This IS expected if you are initializing RobertaModel from the checkpoint of a model trained on another task or with another architecture (e.g. initializing a BertForSequenceClassification model from a BertForPreTraining model).\n",
            "- This IS NOT expected if you are initializing RobertaModel from the checkpoint of a model that you expect to be exactly identical (initializing a BertForSequenceClassification model from a BertForSequenceClassification model).\n",
            "[2022-10-17 11:23:28,459] [INFO] Initialized pipeline components: ['transformer', 'spancat']\n",
            "INFO:spacy:Initialized pipeline components: ['transformer', 'spancat']\n",
            "\u001b[38;5;2m✔ Initialized pipeline\u001b[0m\n",
            "\u001b[1m\n",
            "============================= Training pipeline =============================\u001b[0m\n",
            "\u001b[38;5;4mℹ Pipeline: ['transformer', 'spancat']\u001b[0m\n",
            "\u001b[38;5;4mℹ Initial learn rate: 0.0\u001b[0m\n",
            "E    #       LOSS TRANS...  LOSS SPANCAT  SPANS_SC_F  SPANS_SC_P  SPANS_SC_R  SCORE \n",
            "---  ------  -------------  ------------  ----------  ----------  ----------  ------\n",
            "  0       0        5512.89       1972.33        8.70        4.60       78.63    0.09\n",
            " 28     200      121201.69     125645.23       84.85       86.69       83.09    0.85\n",
            " 57     400         485.48       5662.57       89.23       89.95       88.52    0.89\n",
            " 85     600          65.41        898.34       88.82       88.96       88.68    0.89\n",
            "\u001b[38;5;2m✔ Saved pipeline to output directory\u001b[0m\n",
            "output/model-last\n"
          ]
        }
      ]
    },
    {
      "cell_type": "code",
      "source": [
        "!python -m spacy evaluate output/model-best eval.spacy -o results_robertabase.json"
      ],
      "metadata": {
        "colab": {
          "base_uri": "https://localhost:8080/"
        },
        "id": "eUkvNfpMOqQJ",
        "outputId": "54e96ae3-b25d-45bb-ce84-74c3bd42200d"
      },
      "execution_count": null,
      "outputs": [
        {
          "output_type": "stream",
          "name": "stdout",
          "text": [
            "\u001b[38;5;4mℹ Using CPU\u001b[0m\n",
            "\u001b[38;5;4mℹ To switch to GPU 0, use the option: --gpu-id 0\u001b[0m\n",
            "\u001b[1m\n",
            "================================== Results ==================================\u001b[0m\n",
            "\n",
            "TOK      100.00\n",
            "SPAN P   82.46 \n",
            "SPAN R   81.69 \n",
            "SPAN F   82.07 \n",
            "SPEED    68    \n",
            "\n",
            "\u001b[1m\n",
            "============================== SPANS (per type) ==============================\u001b[0m\n",
            "\n",
            "           P        R       F\n",
            "ID     88.07    89.20   88.63\n",
            "LEG    77.89    98.67   87.06\n",
            "IND    72.03    65.89   68.83\n",
            "PER    63.89    56.10   59.74\n",
            "STP    94.81   100.00   97.33\n",
            "LOC    60.00    75.00   66.67\n",
            "ORG    79.31    63.01   70.23\n",
            "ACR    89.02    82.02   85.38\n",
            "COL    70.00    43.75   53.85\n",
            "SCP   100.00    77.78   87.50\n",
            "STR    91.67    73.33   81.48\n",
            "NAT   100.00    71.43   83.33\n",
            "MOD    33.33   100.00   50.00\n",
            "\n",
            "\u001b[38;5;2m✔ Saved results to results_robertabase.json\u001b[0m\n"
          ]
        }
      ]
    },
    {
      "cell_type": "code",
      "source": [
        "files.download(\"/content/results_robertabase.json\")"
      ],
      "metadata": {
        "colab": {
          "base_uri": "https://localhost:8080/",
          "height": 17
        },
        "id": "lR6HAI1_Oyfk",
        "outputId": "d4a73337-6088-468c-bd51-23d22336f283"
      },
      "execution_count": null,
      "outputs": [
        {
          "output_type": "display_data",
          "data": {
            "text/plain": [
              "<IPython.core.display.Javascript object>"
            ],
            "application/javascript": [
              "\n",
              "    async function download(id, filename, size) {\n",
              "      if (!google.colab.kernel.accessAllowed) {\n",
              "        return;\n",
              "      }\n",
              "      const div = document.createElement('div');\n",
              "      const label = document.createElement('label');\n",
              "      label.textContent = `Downloading \"${filename}\": `;\n",
              "      div.appendChild(label);\n",
              "      const progress = document.createElement('progress');\n",
              "      progress.max = size;\n",
              "      div.appendChild(progress);\n",
              "      document.body.appendChild(div);\n",
              "\n",
              "      const buffers = [];\n",
              "      let downloaded = 0;\n",
              "\n",
              "      const channel = await google.colab.kernel.comms.open(id);\n",
              "      // Send a message to notify the kernel that we're ready.\n",
              "      channel.send({})\n",
              "\n",
              "      for await (const message of channel.messages) {\n",
              "        // Send a message to notify the kernel that we're ready.\n",
              "        channel.send({})\n",
              "        if (message.buffers) {\n",
              "          for (const buffer of message.buffers) {\n",
              "            buffers.push(buffer);\n",
              "            downloaded += buffer.byteLength;\n",
              "            progress.value = downloaded;\n",
              "          }\n",
              "        }\n",
              "      }\n",
              "      const blob = new Blob(buffers, {type: 'application/binary'});\n",
              "      const a = document.createElement('a');\n",
              "      a.href = window.URL.createObjectURL(blob);\n",
              "      a.download = filename;\n",
              "      div.appendChild(a);\n",
              "      a.click();\n",
              "      div.remove();\n",
              "    }\n",
              "  "
            ]
          },
          "metadata": {}
        },
        {
          "output_type": "display_data",
          "data": {
            "text/plain": [
              "<IPython.core.display.Javascript object>"
            ],
            "application/javascript": [
              "download(\"download_c978c57b-7abc-42cd-9332-3e58401597d2\", \"results_robertabase.json\", 1296)"
            ]
          },
          "metadata": {}
        }
      ]
    },
    {
      "cell_type": "code",
      "source": [
        "!zip -r /content/output_robertabase.zip /content/output\n",
        "\n",
        "from google.colab import files\n",
        "files.download(\"/content/output_robertabase.zip\")"
      ],
      "metadata": {
        "colab": {
          "base_uri": "https://localhost:8080/",
          "height": 640
        },
        "id": "ZSTSxq8DR4Sx",
        "outputId": "c86b2c55-561a-4f90-f889-2b0f86cda9c1"
      },
      "execution_count": null,
      "outputs": [
        {
          "output_type": "stream",
          "name": "stdout",
          "text": [
            "updating: content/output/ (stored 0%)\n",
            "updating: content/output/model-last/ (stored 0%)\n",
            "updating: content/output/model-last/tokenizer (deflated 81%)\n",
            "updating: content/output/model-last/config.cfg (deflated 62%)\n",
            "updating: content/output/model-last/spancat/ (stored 0%)\n",
            "updating: content/output/model-last/spancat/model (deflated 8%)\n",
            "updating: content/output/model-last/spancat/cfg (deflated 40%)\n",
            "updating: content/output/model-last/vocab/ (stored 0%)\n",
            "updating: content/output/model-last/vocab/key2row (stored 0%)\n",
            "updating: content/output/model-last/vocab/lookups.bin (stored 0%)\n",
            "updating: content/output/model-last/vocab/vectors.cfg (stored 0%)\n",
            "updating: content/output/model-last/vocab/vectors (deflated 45%)\n",
            "updating: content/output/model-last/vocab/strings.json (deflated 71%)\n",
            "updating: content/output/model-last/meta.json (deflated 56%)\n",
            "updating: content/output/model-last/transformer/ (stored 0%)\n",
            "updating: content/output/model-last/transformer/model (deflated 15%)\n",
            "updating: content/output/model-last/transformer/cfg (stored 0%)\n",
            "updating: content/output/model-best/ (stored 0%)\n",
            "updating: content/output/model-best/tokenizer (deflated 81%)\n",
            "updating: content/output/model-best/config.cfg (deflated 62%)\n",
            "updating: content/output/model-best/spancat/ (stored 0%)\n",
            "updating: content/output/model-best/spancat/model (deflated 8%)\n",
            "updating: content/output/model-best/spancat/cfg (deflated 40%)\n",
            "updating: content/output/model-best/vocab/ (stored 0%)\n",
            "updating: content/output/model-best/vocab/key2row (stored 0%)\n",
            "updating: content/output/model-best/vocab/lookups.bin (stored 0%)\n",
            "updating: content/output/model-best/vocab/vectors.cfg (stored 0%)\n",
            "updating: content/output/model-best/vocab/vectors (deflated 45%)\n",
            "updating: content/output/model-best/vocab/strings.json (deflated 71%)\n",
            "updating: content/output/model-best/meta.json (deflated 56%)\n",
            "updating: content/output/model-best/transformer/ (stored 0%)\n",
            "updating: content/output/model-best/transformer/model (deflated 15%)\n",
            "updating: content/output/model-best/transformer/cfg (stored 0%)\n"
          ]
        },
        {
          "output_type": "display_data",
          "data": {
            "text/plain": [
              "<IPython.core.display.Javascript object>"
            ],
            "application/javascript": [
              "\n",
              "    async function download(id, filename, size) {\n",
              "      if (!google.colab.kernel.accessAllowed) {\n",
              "        return;\n",
              "      }\n",
              "      const div = document.createElement('div');\n",
              "      const label = document.createElement('label');\n",
              "      label.textContent = `Downloading \"${filename}\": `;\n",
              "      div.appendChild(label);\n",
              "      const progress = document.createElement('progress');\n",
              "      progress.max = size;\n",
              "      div.appendChild(progress);\n",
              "      document.body.appendChild(div);\n",
              "\n",
              "      const buffers = [];\n",
              "      let downloaded = 0;\n",
              "\n",
              "      const channel = await google.colab.kernel.comms.open(id);\n",
              "      // Send a message to notify the kernel that we're ready.\n",
              "      channel.send({})\n",
              "\n",
              "      for await (const message of channel.messages) {\n",
              "        // Send a message to notify the kernel that we're ready.\n",
              "        channel.send({})\n",
              "        if (message.buffers) {\n",
              "          for (const buffer of message.buffers) {\n",
              "            buffers.push(buffer);\n",
              "            downloaded += buffer.byteLength;\n",
              "            progress.value = downloaded;\n",
              "          }\n",
              "        }\n",
              "      }\n",
              "      const blob = new Blob(buffers, {type: 'application/binary'});\n",
              "      const a = document.createElement('a');\n",
              "      a.href = window.URL.createObjectURL(blob);\n",
              "      a.download = filename;\n",
              "      div.appendChild(a);\n",
              "      a.click();\n",
              "      div.remove();\n",
              "    }\n",
              "  "
            ]
          },
          "metadata": {}
        },
        {
          "output_type": "display_data",
          "data": {
            "text/plain": [
              "<IPython.core.display.Javascript object>"
            ],
            "application/javascript": [
              "download(\"download_9c1edc37-9717-42e3-88c1-d4e01b94bdb1\", \"output_robertabase.zip\", 859069191)"
            ]
          },
          "metadata": {}
        }
      ]
    },
    {
      "cell_type": "code",
      "source": [],
      "metadata": {
        "id": "NDqcJQciOqmh"
      },
      "execution_count": null,
      "outputs": []
    },
    {
      "cell_type": "code",
      "source": [
        "!python -m spacy train /content/config_bertbasecased.cfg --output ./output --paths.train train.spacy --paths.dev dev.spacy --gpu-id 0"
      ],
      "metadata": {
        "colab": {
          "base_uri": "https://localhost:8080/"
        },
        "id": "hCiIISlEOgCW",
        "outputId": "921cc9d4-7adf-4c28-f64a-9cc48e0d6ac5"
      },
      "execution_count": null,
      "outputs": [
        {
          "output_type": "stream",
          "name": "stdout",
          "text": [
            "\u001b[38;5;4mℹ Saving to output directory: output\u001b[0m\n",
            "\u001b[38;5;4mℹ Using GPU: 0\u001b[0m\n",
            "\u001b[1m\n",
            "=========================== Initializing pipeline ===========================\u001b[0m\n",
            "[2022-10-11 18:44:49,032] [INFO] Set up nlp object from config\n",
            "INFO:spacy:Set up nlp object from config\n",
            "[2022-10-11 18:44:49,041] [INFO] Pipeline: ['transformer', 'spancat']\n",
            "INFO:spacy:Pipeline: ['transformer', 'spancat']\n",
            "[2022-10-11 18:44:49,045] [INFO] Created vocabulary\n",
            "INFO:spacy:Created vocabulary\n",
            "[2022-10-11 18:44:49,047] [INFO] Finished initializing nlp object\n",
            "INFO:spacy:Finished initializing nlp object\n",
            "Some weights of the model checkpoint at bert-base-cased were not used when initializing BertModel: ['cls.predictions.transform.LayerNorm.weight', 'cls.predictions.decoder.weight', 'cls.seq_relationship.bias', 'cls.predictions.transform.dense.bias', 'cls.seq_relationship.weight', 'cls.predictions.transform.LayerNorm.bias', 'cls.predictions.transform.dense.weight', 'cls.predictions.bias']\n",
            "- This IS expected if you are initializing BertModel from the checkpoint of a model trained on another task or with another architecture (e.g. initializing a BertForSequenceClassification model from a BertForPreTraining model).\n",
            "- This IS NOT expected if you are initializing BertModel from the checkpoint of a model that you expect to be exactly identical (initializing a BertForSequenceClassification model from a BertForSequenceClassification model).\n",
            "[2022-10-11 18:45:04,174] [INFO] Initialized pipeline components: ['transformer', 'spancat']\n",
            "INFO:spacy:Initialized pipeline components: ['transformer', 'spancat']\n",
            "\u001b[38;5;2m✔ Initialized pipeline\u001b[0m\n",
            "\u001b[1m\n",
            "============================= Training pipeline =============================\u001b[0m\n",
            "\u001b[38;5;4mℹ Pipeline: ['transformer', 'spancat']\u001b[0m\n",
            "\u001b[38;5;4mℹ Initial learn rate: 0.0\u001b[0m\n",
            "E    #       LOSS TRANS...  LOSS SPANCAT  SPANS_SC_F  SPANS_SC_P  SPANS_SC_R  SCORE \n",
            "---  ------  -------------  ------------  ----------  ----------  ----------  ------\n",
            "  0       0        3227.80       1450.88        5.11        2.74       38.92    0.05\n",
            " 28     200       91311.61     104604.91       81.07       84.97       77.51    0.81\n",
            " 57     400         644.07       3983.02       84.97       87.10       82.93    0.85\n",
            " 85     600          34.19        427.85       85.71       87.27       84.21    0.86\n",
            "113     800           6.03        118.45       86.38       87.30       85.49    0.86\n",
            "142    1000           2.17         52.98       85.60       87.90       83.41    0.86\n",
            "\u001b[38;5;2m✔ Saved pipeline to output directory\u001b[0m\n",
            "output/model-last\n"
          ]
        }
      ]
    },
    {
      "cell_type": "code",
      "source": [
        "!python -m spacy evaluate output/model-best eval.spacy -o results_bertbasecased.json"
      ],
      "metadata": {
        "colab": {
          "base_uri": "https://localhost:8080/"
        },
        "id": "O5jjeY_-OrIy",
        "outputId": "1a4a6e4a-b43d-48cc-b7c4-0450e75bf035"
      },
      "execution_count": null,
      "outputs": [
        {
          "output_type": "stream",
          "name": "stdout",
          "text": [
            "\u001b[38;5;4mℹ Using CPU\u001b[0m\n",
            "\u001b[38;5;4mℹ To switch to GPU 0, use the option: --gpu-id 0\u001b[0m\n",
            "\u001b[1m\n",
            "================================== Results ==================================\u001b[0m\n",
            "\n",
            "TOK      100.00\n",
            "SPAN P   82.00 \n",
            "SPAN R   79.19 \n",
            "SPAN F   80.57 \n",
            "SPEED    47    \n",
            "\n",
            "\u001b[1m\n",
            "============================== SPANS (per type) ==============================\u001b[0m\n",
            "\n",
            "           P        R       F\n",
            "LEG    87.80    96.00   91.72\n",
            "ID     84.25    86.63   85.42\n",
            "IND    68.18    58.14   62.76\n",
            "LOC    68.18    68.18   68.18\n",
            "STP    96.05   100.00   97.99\n",
            "ORG    73.97    73.97   73.97\n",
            "PER    58.62    41.46   48.57\n",
            "ACR    91.36    83.15   87.06\n",
            "SCP   100.00    77.78   87.50\n",
            "COL    83.33    31.25   45.45\n",
            "STR    84.62    73.33   78.57\n",
            "NAT   100.00    85.71   92.31\n",
            "MOD     0.00     0.00    0.00\n",
            "\n",
            "\u001b[38;5;2m✔ Saved results to results_bertbasecased.json\u001b[0m\n"
          ]
        }
      ]
    },
    {
      "cell_type": "code",
      "source": [
        "files.download(\"/content/results_bertbasecased.json\")"
      ],
      "metadata": {
        "colab": {
          "base_uri": "https://localhost:8080/",
          "height": 17
        },
        "id": "xCXiWKz9Oy19",
        "outputId": "fd313dbf-6ab5-4239-a9f4-fd3bf64ca4f4"
      },
      "execution_count": null,
      "outputs": [
        {
          "output_type": "display_data",
          "data": {
            "text/plain": [
              "<IPython.core.display.Javascript object>"
            ],
            "application/javascript": [
              "\n",
              "    async function download(id, filename, size) {\n",
              "      if (!google.colab.kernel.accessAllowed) {\n",
              "        return;\n",
              "      }\n",
              "      const div = document.createElement('div');\n",
              "      const label = document.createElement('label');\n",
              "      label.textContent = `Downloading \"${filename}\": `;\n",
              "      div.appendChild(label);\n",
              "      const progress = document.createElement('progress');\n",
              "      progress.max = size;\n",
              "      div.appendChild(progress);\n",
              "      document.body.appendChild(div);\n",
              "\n",
              "      const buffers = [];\n",
              "      let downloaded = 0;\n",
              "\n",
              "      const channel = await google.colab.kernel.comms.open(id);\n",
              "      // Send a message to notify the kernel that we're ready.\n",
              "      channel.send({})\n",
              "\n",
              "      for await (const message of channel.messages) {\n",
              "        // Send a message to notify the kernel that we're ready.\n",
              "        channel.send({})\n",
              "        if (message.buffers) {\n",
              "          for (const buffer of message.buffers) {\n",
              "            buffers.push(buffer);\n",
              "            downloaded += buffer.byteLength;\n",
              "            progress.value = downloaded;\n",
              "          }\n",
              "        }\n",
              "      }\n",
              "      const blob = new Blob(buffers, {type: 'application/binary'});\n",
              "      const a = document.createElement('a');\n",
              "      a.href = window.URL.createObjectURL(blob);\n",
              "      a.download = filename;\n",
              "      div.appendChild(a);\n",
              "      a.click();\n",
              "      div.remove();\n",
              "    }\n",
              "  "
            ]
          },
          "metadata": {}
        },
        {
          "output_type": "display_data",
          "data": {
            "text/plain": [
              "<IPython.core.display.Javascript object>"
            ],
            "application/javascript": [
              "download(\"download_6e23be11-d5d2-4676-ac05-65eb4f143958\", \"results_bertbasecased.json\", 1299)"
            ]
          },
          "metadata": {}
        }
      ]
    },
    {
      "cell_type": "code",
      "source": [
        "!zip -r /content/output_bertbasecased.zip /content/output\n",
        "\n",
        "# from google.colab import files\n",
        "# files.download(\"/content/output_bertbasecased.zip\")\n"
      ],
      "metadata": {
        "colab": {
          "base_uri": "https://localhost:8080/",
          "height": 623
        },
        "id": "5UNlXX8kOrcF",
        "outputId": "385266c4-a886-4f0b-e989-5fa1580c1693"
      },
      "execution_count": null,
      "outputs": [
        {
          "output_type": "stream",
          "name": "stdout",
          "text": [
            "updating: content/output/ (stored 0%)\n",
            "updating: content/output/model-last/ (stored 0%)\n",
            "updating: content/output/model-last/tokenizer (deflated 81%)\n",
            "updating: content/output/model-last/config.cfg (deflated 62%)\n",
            "updating: content/output/model-last/spancat/ (stored 0%)\n",
            "updating: content/output/model-last/spancat/model (deflated 8%)\n",
            "updating: content/output/model-last/spancat/cfg (deflated 40%)\n",
            "updating: content/output/model-last/vocab/ (stored 0%)\n",
            "updating: content/output/model-last/vocab/key2row (stored 0%)\n",
            "updating: content/output/model-last/vocab/lookups.bin (stored 0%)\n",
            "updating: content/output/model-last/vocab/vectors.cfg (stored 0%)\n",
            "updating: content/output/model-last/vocab/vectors (deflated 45%)\n",
            "updating: content/output/model-last/vocab/strings.json (deflated 71%)\n",
            "updating: content/output/model-last/meta.json (deflated 56%)\n",
            "updating: content/output/model-last/transformer/ (stored 0%)\n",
            "updating: content/output/model-last/transformer/model (deflated 7%)\n",
            "updating: content/output/model-last/transformer/cfg (stored 0%)\n",
            "updating: content/output/model-best/ (stored 0%)\n",
            "updating: content/output/model-best/tokenizer (deflated 81%)\n",
            "updating: content/output/model-best/config.cfg (deflated 62%)\n",
            "updating: content/output/model-best/spancat/ (stored 0%)\n",
            "updating: content/output/model-best/spancat/model (deflated 8%)\n",
            "updating: content/output/model-best/spancat/cfg (deflated 40%)\n",
            "updating: content/output/model-best/vocab/ (stored 0%)\n",
            "updating: content/output/model-best/vocab/key2row (stored 0%)\n",
            "updating: content/output/model-best/vocab/lookups.bin (stored 0%)\n",
            "updating: content/output/model-best/vocab/vectors.cfg (stored 0%)\n",
            "updating: content/output/model-best/vocab/vectors (deflated 45%)\n",
            "updating: content/output/model-best/vocab/strings.json (deflated 71%)\n",
            "updating: content/output/model-best/meta.json (deflated 56%)\n",
            "updating: content/output/model-best/transformer/ (stored 0%)\n",
            "updating: content/output/model-best/transformer/model (deflated 7%)\n",
            "updating: content/output/model-best/transformer/cfg (stored 0%)\n"
          ]
        }
      ]
    },
    {
      "cell_type": "code",
      "source": [],
      "metadata": {
        "id": "hcro0cgigbMH"
      },
      "execution_count": null,
      "outputs": []
    },
    {
      "cell_type": "code",
      "source": [
        "!python -m spacy train /content/config.cfg --output ./output --paths.train train.spacy --paths.dev dev.spacy --gpu-id 0"
      ],
      "metadata": {
        "colab": {
          "base_uri": "https://localhost:8080/"
        },
        "id": "x0nwckr6FFYm",
        "outputId": "ce629803-37f4-4a0c-93be-76fa66d10da1"
      },
      "execution_count": null,
      "outputs": [
        {
          "output_type": "stream",
          "name": "stdout",
          "text": [
            "\u001b[38;5;4mℹ Saving to output directory: output\u001b[0m\n",
            "\u001b[38;5;4mℹ Using GPU: 0\u001b[0m\n",
            "\u001b[1m\n",
            "=========================== Initializing pipeline ===========================\u001b[0m\n",
            "[2022-10-12 09:21:21,031] [INFO] Set up nlp object from config\n",
            "INFO:spacy:Set up nlp object from config\n",
            "[2022-10-12 09:21:21,042] [INFO] Pipeline: ['transformer', 'spancat']\n",
            "INFO:spacy:Pipeline: ['transformer', 'spancat']\n",
            "[2022-10-12 09:21:21,046] [INFO] Created vocabulary\n",
            "INFO:spacy:Created vocabulary\n",
            "[2022-10-12 09:21:21,047] [INFO] Finished initializing nlp object\n",
            "INFO:spacy:Finished initializing nlp object\n",
            "Downloading config.json: 100% 481/481 [00:00<00:00, 650kB/s]\n",
            "Downloading vocab.json: 100% 878k/878k [00:00<00:00, 5.22MB/s]\n",
            "Downloading merges.txt: 100% 446k/446k [00:00<00:00, 3.24MB/s]\n",
            "Downloading tokenizer.json: 100% 1.29M/1.29M [00:00<00:00, 7.86MB/s]\n",
            "Downloading pytorch_model.bin: 100% 478M/478M [00:09<00:00, 50.9MB/s]\n",
            "Some weights of the model checkpoint at roberta-base were not used when initializing RobertaModel: ['lm_head.layer_norm.weight', 'lm_head.layer_norm.bias', 'lm_head.dense.bias', 'lm_head.dense.weight', 'lm_head.decoder.weight', 'lm_head.bias']\n",
            "- This IS expected if you are initializing RobertaModel from the checkpoint of a model trained on another task or with another architecture (e.g. initializing a BertForSequenceClassification model from a BertForPreTraining model).\n",
            "- This IS NOT expected if you are initializing RobertaModel from the checkpoint of a model that you expect to be exactly identical (initializing a BertForSequenceClassification model from a BertForSequenceClassification model).\n",
            "[2022-10-12 09:21:37,149] [INFO] Initialized pipeline components: ['transformer', 'spancat']\n",
            "INFO:spacy:Initialized pipeline components: ['transformer', 'spancat']\n",
            "\u001b[38;5;2m✔ Initialized pipeline\u001b[0m\n",
            "\u001b[1m\n",
            "============================= Training pipeline =============================\u001b[0m\n",
            "\u001b[38;5;4mℹ Pipeline: ['transformer', 'spancat']\u001b[0m\n",
            "\u001b[38;5;4mℹ Initial learn rate: 0.0\u001b[0m\n",
            "E    #       LOSS TRANS...  LOSS SPANCAT  SPANS_SC_F  SPANS_SC_P  SPANS_SC_R  SCORE \n",
            "---  ------  -------------  ------------  ----------  ----------  ----------  ------\n",
            "  0       0        5512.89       1972.33        8.70        4.60       78.63    0.09\n",
            " 28     200      121309.52     126175.88       84.65       88.24       81.34    0.85\n",
            " 57     400         524.10       6047.80       88.94       88.73       89.15    0.89\n",
            " 85     600          67.37       1012.16       88.41       87.99       88.84    0.88\n",
            "113     800          18.07        275.96       89.75       89.40       90.11    0.90\n",
            "142    1000           9.87        165.27       88.82       89.61       88.04    0.89\n",
            "170    1200           5.49         97.16       88.62       89.05       88.20    0.89\n",
            "\n",
            "Aborted!\n"
          ]
        }
      ]
    },
    {
      "cell_type": "code",
      "source": [
        "!python -m spacy evaluate output/model-best eval.spacy -o results.json"
      ],
      "metadata": {
        "colab": {
          "base_uri": "https://localhost:8080/"
        },
        "id": "VYWrozmYOHlX",
        "outputId": "35a4715d-a3e5-4b42-faae-682ae38b4c61"
      },
      "execution_count": null,
      "outputs": [
        {
          "output_type": "stream",
          "name": "stdout",
          "text": [
            "\u001b[38;5;4mℹ Using CPU\u001b[0m\n",
            "\u001b[38;5;4mℹ To switch to GPU 0, use the option: --gpu-id 0\u001b[0m\n",
            "\u001b[1m\n",
            "================================== Results ==================================\u001b[0m\n",
            "\n",
            "TOK      100.00\n",
            "SPAN P   82.53 \n",
            "SPAN R   83.56 \n",
            "SPAN F   83.04 \n",
            "SPEED    62    \n",
            "\n",
            "\u001b[1m\n",
            "============================== SPANS (per type) ==============================\u001b[0m\n",
            "\n",
            "           P        R       F\n",
            "LEG    82.95    97.33   89.57\n",
            "ID     90.10    91.26   90.68\n",
            "IND    69.67    65.89   67.73\n",
            "LOC    59.62    70.45   64.58\n",
            "STP    94.81   100.00   97.33\n",
            "PER    58.14    60.98   59.52\n",
            "ORG    75.71    72.60   74.13\n",
            "ACR    86.81    88.76   87.78\n",
            "COL    62.50    31.25   41.67\n",
            "SCP   100.00    88.89   94.12\n",
            "STR    84.62    73.33   78.57\n",
            "NAT   100.00    71.43   83.33\n",
            "MOD     0.00     0.00    0.00\n",
            "\n",
            "\u001b[38;5;2m✔ Saved results to results.json\u001b[0m\n"
          ]
        }
      ]
    },
    {
      "cell_type": "code",
      "source": [
        "files.download(\"/content/results.json\")"
      ],
      "metadata": {
        "colab": {
          "base_uri": "https://localhost:8080/",
          "height": 17
        },
        "id": "qKs0S0m0Vtps",
        "outputId": "ac65ca31-641c-4a34-f150-83cd60ec6c58"
      },
      "execution_count": null,
      "outputs": [
        {
          "output_type": "display_data",
          "data": {
            "text/plain": [
              "<IPython.core.display.Javascript object>"
            ],
            "application/javascript": [
              "\n",
              "    async function download(id, filename, size) {\n",
              "      if (!google.colab.kernel.accessAllowed) {\n",
              "        return;\n",
              "      }\n",
              "      const div = document.createElement('div');\n",
              "      const label = document.createElement('label');\n",
              "      label.textContent = `Downloading \"${filename}\": `;\n",
              "      div.appendChild(label);\n",
              "      const progress = document.createElement('progress');\n",
              "      progress.max = size;\n",
              "      div.appendChild(progress);\n",
              "      document.body.appendChild(div);\n",
              "\n",
              "      const buffers = [];\n",
              "      let downloaded = 0;\n",
              "\n",
              "      const channel = await google.colab.kernel.comms.open(id);\n",
              "      // Send a message to notify the kernel that we're ready.\n",
              "      channel.send({})\n",
              "\n",
              "      for await (const message of channel.messages) {\n",
              "        // Send a message to notify the kernel that we're ready.\n",
              "        channel.send({})\n",
              "        if (message.buffers) {\n",
              "          for (const buffer of message.buffers) {\n",
              "            buffers.push(buffer);\n",
              "            downloaded += buffer.byteLength;\n",
              "            progress.value = downloaded;\n",
              "          }\n",
              "        }\n",
              "      }\n",
              "      const blob = new Blob(buffers, {type: 'application/binary'});\n",
              "      const a = document.createElement('a');\n",
              "      a.href = window.URL.createObjectURL(blob);\n",
              "      a.download = filename;\n",
              "      div.appendChild(a);\n",
              "      a.click();\n",
              "      div.remove();\n",
              "    }\n",
              "  "
            ]
          },
          "metadata": {}
        },
        {
          "output_type": "display_data",
          "data": {
            "text/plain": [
              "<IPython.core.display.Javascript object>"
            ],
            "application/javascript": [
              "download(\"download_e991e661-79d6-4102-b35b-0a8478258016\", \"results.json\", 1305)"
            ]
          },
          "metadata": {}
        }
      ]
    },
    {
      "cell_type": "code",
      "source": [
        "!zip -r /content/output.zip /content/output\n",
        "\n",
        "from google.colab import files\n",
        "# files.download(\"/content/output.zip\")\n"
      ],
      "metadata": {
        "colab": {
          "base_uri": "https://localhost:8080/"
        },
        "id": "l9XWk-OnOnQW",
        "outputId": "d9a21815-5f01-40cb-827b-2057a52fb994"
      },
      "execution_count": null,
      "outputs": [
        {
          "output_type": "stream",
          "name": "stdout",
          "text": [
            "updating: content/output/ (stored 0%)\n",
            "updating: content/output/model-last/ (stored 0%)\n",
            "updating: content/output/model-last/tokenizer (deflated 81%)\n",
            "updating: content/output/model-last/config.cfg (deflated 62%)\n",
            "updating: content/output/model-last/spancat/ (stored 0%)\n",
            "updating: content/output/model-last/spancat/model (deflated 8%)\n",
            "updating: content/output/model-last/spancat/cfg (deflated 40%)\n",
            "updating: content/output/model-last/vocab/ (stored 0%)\n",
            "updating: content/output/model-last/vocab/key2row (stored 0%)\n",
            "updating: content/output/model-last/vocab/lookups.bin (stored 0%)\n",
            "updating: content/output/model-last/vocab/vectors.cfg (stored 0%)\n",
            "updating: content/output/model-last/vocab/vectors (deflated 45%)\n",
            "updating: content/output/model-last/vocab/strings.json (deflated 71%)\n",
            "updating: content/output/model-last/meta.json (deflated 58%)\n",
            "updating: content/output/model-last/transformer/ (stored 0%)\n",
            "updating: content/output/model-last/transformer/model (deflated 15%)\n",
            "updating: content/output/model-last/transformer/cfg (stored 0%)\n",
            "updating: content/output/model-best/ (stored 0%)\n",
            "updating: content/output/model-best/tokenizer (deflated 81%)\n",
            "updating: content/output/model-best/config.cfg (deflated 62%)\n",
            "updating: content/output/model-best/spancat/ (stored 0%)\n",
            "updating: content/output/model-best/spancat/model (deflated 8%)\n",
            "updating: content/output/model-best/spancat/cfg (deflated 40%)\n",
            "updating: content/output/model-best/vocab/ (stored 0%)\n",
            "updating: content/output/model-best/vocab/key2row (stored 0%)\n",
            "updating: content/output/model-best/vocab/lookups.bin (stored 0%)\n",
            "updating: content/output/model-best/vocab/vectors.cfg (stored 0%)\n",
            "updating: content/output/model-best/vocab/vectors (deflated 45%)\n",
            "updating: content/output/model-best/vocab/strings.json (deflated 71%)\n",
            "updating: content/output/model-best/meta.json (deflated 58%)\n",
            "updating: content/output/model-best/transformer/ (stored 0%)\n",
            "updating: content/output/model-best/transformer/model (deflated 15%)\n",
            "updating: content/output/model-best/transformer/cfg (stored 0%)\n"
          ]
        }
      ]
    },
    {
      "cell_type": "code",
      "source": [],
      "metadata": {
        "id": "JYJ-GGdtVmmD"
      },
      "execution_count": null,
      "outputs": []
    },
    {
      "cell_type": "code",
      "source": [
        "!python -m spacy train /content/config_tinybert.cfg --output ./output --paths.train train.spacy --paths.dev dev.spacy --gpu-id 0"
      ],
      "metadata": {
        "colab": {
          "base_uri": "https://localhost:8080/"
        },
        "id": "wkrtUJ8xVm2Q",
        "outputId": "a607c114-4834-4516-a89f-adb756c44d0f"
      },
      "execution_count": null,
      "outputs": [
        {
          "output_type": "stream",
          "name": "stdout",
          "text": [
            "\u001b[38;5;4mℹ Saving to output directory: output\u001b[0m\n",
            "\u001b[38;5;4mℹ Using GPU: 0\u001b[0m\n",
            "\u001b[1m\n",
            "=========================== Initializing pipeline ===========================\u001b[0m\n",
            "[2022-10-11 18:34:43,040] [INFO] Set up nlp object from config\n",
            "INFO:spacy:Set up nlp object from config\n",
            "[2022-10-11 18:34:43,049] [INFO] Pipeline: ['transformer', 'spancat']\n",
            "INFO:spacy:Pipeline: ['transformer', 'spancat']\n",
            "[2022-10-11 18:34:43,053] [INFO] Created vocabulary\n",
            "INFO:spacy:Created vocabulary\n",
            "[2022-10-11 18:34:43,054] [INFO] Finished initializing nlp object\n",
            "INFO:spacy:Finished initializing nlp object\n",
            "Some weights of the model checkpoint at prajjwal1/bert-tiny were not used when initializing BertModel: ['cls.predictions.transform.dense.weight', 'cls.predictions.transform.dense.bias', 'cls.predictions.decoder.weight', 'cls.seq_relationship.bias', 'cls.seq_relationship.weight', 'cls.predictions.transform.LayerNorm.weight', 'cls.predictions.transform.LayerNorm.bias', 'cls.predictions.decoder.bias', 'cls.predictions.bias']\n",
            "- This IS expected if you are initializing BertModel from the checkpoint of a model trained on another task or with another architecture (e.g. initializing a BertForSequenceClassification model from a BertForPreTraining model).\n",
            "- This IS NOT expected if you are initializing BertModel from the checkpoint of a model that you expect to be exactly identical (initializing a BertForSequenceClassification model from a BertForSequenceClassification model).\n",
            "[2022-10-11 18:34:56,042] [INFO] Initialized pipeline components: ['transformer', 'spancat']\n",
            "INFO:spacy:Initialized pipeline components: ['transformer', 'spancat']\n",
            "\u001b[38;5;2m✔ Initialized pipeline\u001b[0m\n",
            "\u001b[1m\n",
            "============================= Training pipeline =============================\u001b[0m\n",
            "\u001b[38;5;4mℹ Pipeline: ['transformer', 'spancat']\u001b[0m\n",
            "\u001b[38;5;4mℹ Initial learn rate: 0.0\u001b[0m\n",
            "E    #       LOSS TRANS...  LOSS SPANCAT  SPANS_SC_F  SPANS_SC_P  SPANS_SC_R  SCORE \n",
            "---  ------  -------------  ------------  ----------  ----------  ----------  ------\n",
            "  0       0         749.11       1198.92        5.63        3.07       34.29    0.06\n",
            " 28     200       44917.83     222587.50       24.18       87.13       14.04    0.24\n",
            " 57     400        1470.68      44452.22       63.07       84.27       50.40    0.63\n",
            " 85     600        1548.22      27973.06       74.96       84.57       67.30    0.75\n",
            "113     800        1230.77      19062.55       79.49       84.81       74.80    0.79\n",
            "142    1000        1062.72      14318.56       80.00       84.95       75.60    0.80\n",
            "\u001b[38;5;2m✔ Saved pipeline to output directory\u001b[0m\n",
            "output/model-last\n"
          ]
        }
      ]
    },
    {
      "cell_type": "code",
      "source": [
        "!python -m spacy evaluate output/model-best eval.spacy -o results_tinybert.json"
      ],
      "metadata": {
        "colab": {
          "base_uri": "https://localhost:8080/"
        },
        "id": "d185DFsWVqU6",
        "outputId": "a64142cc-9b92-4c5c-e60a-731ccc6cdc88"
      },
      "execution_count": null,
      "outputs": [
        {
          "output_type": "stream",
          "name": "stdout",
          "text": [
            "\u001b[38;5;4mℹ Using CPU\u001b[0m\n",
            "\u001b[38;5;4mℹ To switch to GPU 0, use the option: --gpu-id 0\u001b[0m\n",
            "\u001b[1m\n",
            "================================== Results ==================================\u001b[0m\n",
            "\n",
            "TOK      100.00\n",
            "SPAN P   77.62 \n",
            "SPAN R   67.12 \n",
            "SPAN F   71.99 \n",
            "SPEED    2586  \n",
            "\n",
            "\u001b[1m\n",
            "============================== SPANS (per type) ==============================\u001b[0m\n",
            "\n",
            "           P        R       F\n",
            "ID     79.08    70.95   74.80\n",
            "LEG    89.33    89.33   89.33\n",
            "IND    62.50    58.14   60.24\n",
            "STP    78.49   100.00   87.95\n",
            "ORG    79.25    57.53   66.67\n",
            "LOC    88.46    52.27   65.71\n",
            "ACR    80.60    60.67   69.23\n",
            "PER    58.06    43.90   50.00\n",
            "SCP   100.00    44.44   61.54\n",
            "COL     0.00     0.00    0.00\n",
            "STR   100.00    60.00   75.00\n",
            "NAT   100.00    57.14   72.73\n",
            "MOD     0.00     0.00    0.00\n",
            "\n",
            "\u001b[38;5;2m✔ Saved results to results_tinybert.json\u001b[0m\n"
          ]
        }
      ]
    },
    {
      "cell_type": "code",
      "source": [
        "files.download(\"/content/results_tinybert.json\")"
      ],
      "metadata": {
        "colab": {
          "base_uri": "https://localhost:8080/",
          "height": 17
        },
        "id": "AKvQ52pyVvTm",
        "outputId": "57fb3cf5-8768-4eb7-f406-cb804e27fbf8"
      },
      "execution_count": null,
      "outputs": [
        {
          "output_type": "display_data",
          "data": {
            "text/plain": [
              "<IPython.core.display.Javascript object>"
            ],
            "application/javascript": [
              "\n",
              "    async function download(id, filename, size) {\n",
              "      if (!google.colab.kernel.accessAllowed) {\n",
              "        return;\n",
              "      }\n",
              "      const div = document.createElement('div');\n",
              "      const label = document.createElement('label');\n",
              "      label.textContent = `Downloading \"${filename}\": `;\n",
              "      div.appendChild(label);\n",
              "      const progress = document.createElement('progress');\n",
              "      progress.max = size;\n",
              "      div.appendChild(progress);\n",
              "      document.body.appendChild(div);\n",
              "\n",
              "      const buffers = [];\n",
              "      let downloaded = 0;\n",
              "\n",
              "      const channel = await google.colab.kernel.comms.open(id);\n",
              "      // Send a message to notify the kernel that we're ready.\n",
              "      channel.send({})\n",
              "\n",
              "      for await (const message of channel.messages) {\n",
              "        // Send a message to notify the kernel that we're ready.\n",
              "        channel.send({})\n",
              "        if (message.buffers) {\n",
              "          for (const buffer of message.buffers) {\n",
              "            buffers.push(buffer);\n",
              "            downloaded += buffer.byteLength;\n",
              "            progress.value = downloaded;\n",
              "          }\n",
              "        }\n",
              "      }\n",
              "      const blob = new Blob(buffers, {type: 'application/binary'});\n",
              "      const a = document.createElement('a');\n",
              "      a.href = window.URL.createObjectURL(blob);\n",
              "      a.download = filename;\n",
              "      div.appendChild(a);\n",
              "      a.click();\n",
              "      div.remove();\n",
              "    }\n",
              "  "
            ]
          },
          "metadata": {}
        },
        {
          "output_type": "display_data",
          "data": {
            "text/plain": [
              "<IPython.core.display.Javascript object>"
            ],
            "application/javascript": [
              "download(\"download_03c6fd23-2fc6-46a5-8767-639b8490e95c\", \"results_tinybert.json\", 1258)"
            ]
          },
          "metadata": {}
        }
      ]
    },
    {
      "cell_type": "code",
      "source": [
        "!zip -r /content/output_tinybert.zip /content/output\n",
        "\n",
        "from google.colab import files\n",
        "# files.download(\"/content/output_tinybert.zip\")"
      ],
      "metadata": {
        "colab": {
          "base_uri": "https://localhost:8080/"
        },
        "id": "frVHMjK-Vvwb",
        "outputId": "f35d6d2e-a009-4ab1-fe85-c5c2da232942"
      },
      "execution_count": null,
      "outputs": [
        {
          "output_type": "stream",
          "name": "stdout",
          "text": [
            "updating: content/output/ (stored 0%)\n",
            "updating: content/output/model-last/ (stored 0%)\n",
            "updating: content/output/model-last/tokenizer (deflated 81%)\n",
            "updating: content/output/model-last/config.cfg (deflated 62%)\n",
            "updating: content/output/model-last/spancat/ (stored 0%)\n",
            "updating: content/output/model-last/spancat/model (deflated 8%)\n",
            "updating: content/output/model-last/spancat/cfg (deflated 40%)\n",
            "updating: content/output/model-last/vocab/ (stored 0%)\n",
            "updating: content/output/model-last/vocab/key2row (stored 0%)\n",
            "updating: content/output/model-last/vocab/lookups.bin (stored 0%)\n",
            "updating: content/output/model-last/vocab/vectors.cfg (stored 0%)\n",
            "updating: content/output/model-last/vocab/vectors (deflated 45%)\n",
            "updating: content/output/model-last/vocab/strings.json (deflated 71%)\n",
            "updating: content/output/model-last/meta.json (deflated 56%)\n",
            "updating: content/output/model-last/transformer/ (stored 0%)\n",
            "updating: content/output/model-last/transformer/model (deflated 10%)\n",
            "updating: content/output/model-last/transformer/cfg (stored 0%)\n",
            "updating: content/output/model-best/ (stored 0%)\n",
            "updating: content/output/model-best/tokenizer (deflated 81%)\n",
            "updating: content/output/model-best/config.cfg (deflated 62%)\n",
            "updating: content/output/model-best/spancat/ (stored 0%)\n",
            "updating: content/output/model-best/spancat/model (deflated 8%)\n",
            "updating: content/output/model-best/spancat/cfg (deflated 40%)\n",
            "updating: content/output/model-best/vocab/ (stored 0%)\n",
            "updating: content/output/model-best/vocab/key2row (stored 0%)\n",
            "updating: content/output/model-best/vocab/lookups.bin (stored 0%)\n",
            "updating: content/output/model-best/vocab/vectors.cfg (stored 0%)\n",
            "updating: content/output/model-best/vocab/vectors (deflated 45%)\n",
            "updating: content/output/model-best/vocab/strings.json (deflated 71%)\n",
            "updating: content/output/model-best/meta.json (deflated 56%)\n",
            "updating: content/output/model-best/transformer/ (stored 0%)\n",
            "updating: content/output/model-best/transformer/model (deflated 10%)\n",
            "updating: content/output/model-best/transformer/cfg (stored 0%)\n"
          ]
        }
      ]
    },
    {
      "cell_type": "code",
      "source": [],
      "metadata": {
        "id": "EIfOY1BHqXJl"
      },
      "execution_count": null,
      "outputs": []
    },
    {
      "cell_type": "code",
      "source": [
        "import csv\n",
        "jsonl = []\n",
        "with open('company_names_all.csv', newline='') as csvfile:\n",
        "     spamreader = csv.reader(csvfile, quoting=csv.QUOTE_NONE)\n",
        "     for row in spamreader:\n",
        "       new_row = row[0].replace('\"', '')\n",
        "       new_row = new_row.replace(\"'\", \"\")\n",
        "       new_row = new_row.replace(\"\\\\\", \"\")\n",
        "       if new_row != \"\":\n",
        "        jsonl.append(f'{{\"text\":\"{new_row}\"}}')\n",
        "       else:\n",
        "        print(\"found it!\")\n",
        "print(jsonl[-1])\n",
        "with open('company_names_jsonl.jsonl', 'w') as f:\n",
        "      f.write(\"\\n\".join(jsonl))"
      ],
      "metadata": {
        "colab": {
          "base_uri": "https://localhost:8080/"
        },
        "id": "cwq3yxr_km1g",
        "outputId": "499dd2f4-7f78-4e47-8f12-22f9cfb45d37"
      },
      "execution_count": null,
      "outputs": [
        {
          "output_type": "stream",
          "name": "stdout",
          "text": [
            "found it!\n",
            "{\"text\":\"crofton schools academy trust\"}\n"
          ]
        }
      ]
    },
    {
      "cell_type": "code",
      "source": [
        "!python -m spacy debug data config_pretraining.cfg\n"
      ],
      "metadata": {
        "colab": {
          "base_uri": "https://localhost:8080/"
        },
        "id": "5-7enzBcuHPm",
        "outputId": "5254146d-0ae5-4b5d-cf20-67eb26511ce3"
      },
      "execution_count": null,
      "outputs": [
        {
          "output_type": "stream",
          "name": "stdout",
          "text": [
            "\u001b[38;5;1m✘ Config validation error\u001b[0m\n",
            "disabled\tfield required\n",
            "tokenizer\tfield required\n",
            "before_creation\tfield required\n",
            "after_creation\tfield required\n",
            "after_pipeline_creation\tfield required\n",
            "{'lang': 'en', 'pipeline': ['transformer', 'spancat'], 'batch_size': 128}\n",
            "\n",
            "If your config contains missing values, you can run the 'init fill-config'\n",
            "command to fill in all the defaults, if possible:\n",
            "\n",
            "python -m spacy init fill-config config_pretraining.cfg config_pretraining.cfg \n",
            "\n"
          ]
        }
      ]
    },
    {
      "cell_type": "code",
      "source": [
        "!python -m spacy init fill-config config_pretraining.cfg config_pretraining.cfg --pretraining"
      ],
      "metadata": {
        "colab": {
          "base_uri": "https://localhost:8080/"
        },
        "id": "eq7VoOPmtqx9",
        "outputId": "418e8d4a-45db-45b2-8a09-a9337f7edd00"
      },
      "execution_count": null,
      "outputs": [
        {
          "output_type": "stream",
          "name": "stdout",
          "text": [
            "\u001b[38;5;2m✔ Auto-filled config with all values\u001b[0m\n",
            "\u001b[38;5;2m✔ Saved config\u001b[0m\n",
            "config_pretraining.cfg\n",
            "You can now add your data and train your pipeline:\n",
            "python -m spacy train config_pretraining.cfg --paths.train ./train.spacy --paths.dev ./dev.spacy\n"
          ]
        }
      ]
    },
    {
      "cell_type": "code",
      "source": [
        "!python -m spacy pretrain config.cfg ./output --paths.raw_text company_names_jsonl.jsonl"
      ],
      "metadata": {
        "colab": {
          "base_uri": "https://localhost:8080/"
        },
        "id": "X6gDrCTPii2B",
        "outputId": "955c4a37-b213-4d6e-efea-597426a6e600"
      },
      "execution_count": null,
      "outputs": [
        {
          "output_type": "stream",
          "name": "stdout",
          "text": [
            "\u001b[38;5;3m⚠ Output directory is not empty.\u001b[0m\n",
            "It is better to use an empty directory or refer to a new output path, then the\n",
            "new directory will be created for you.\n",
            "\u001b[38;5;4mℹ Using CPU\u001b[0m\n",
            "\u001b[38;5;4mℹ To switch to GPU 0, use the option: --gpu-id 0\u001b[0m\n",
            "\u001b[38;5;4mℹ Loading config from: config.cfg\u001b[0m\n",
            "\u001b[38;5;2m✔ Saved config file in the output directory\u001b[0m\n",
            "Traceback (most recent call last):\n",
            "  File \"/usr/local/lib/python3.7/dist-packages/spacy/training/pretrain.py\", line 167, in create_pretraining_model\n",
            "    tok2vec.initialize(X=[nlp.make_doc(\"Give it a doc to infer shapes\")])\n",
            "  File \"/usr/local/lib/python3.7/dist-packages/thinc/model.py\", line 299, in initialize\n",
            "    self.init(self, X=X, Y=Y)\n",
            "  File \"/usr/local/lib/python3.7/dist-packages/thinc/layers/chain.py\", line 92, in init\n",
            "    curr_input = layer.predict(curr_input)\n",
            "  File \"/usr/local/lib/python3.7/dist-packages/thinc/model.py\", line 315, in predict\n",
            "    return self._func(self, X, is_train=False)[0]\n",
            "  File \"/usr/local/lib/python3.7/dist-packages/spacy_transformers/layers/listener.py\", line 64, in forward\n",
            "    width = model.get_dim(\"nO\")\n",
            "  File \"/usr/local/lib/python3.7/dist-packages/thinc/model.py\", line 175, in get_dim\n",
            "    raise ValueError(err)\n",
            "ValueError: Cannot get dimension 'nO' for model 'transformer-listener': value unset\n",
            "\n",
            "During handling of the above exception, another exception occurred:\n",
            "\n",
            "Traceback (most recent call last):\n",
            "  File \"/usr/lib/python3.7/runpy.py\", line 193, in _run_module_as_main\n",
            "    \"__main__\", mod_spec)\n",
            "  File \"/usr/lib/python3.7/runpy.py\", line 85, in _run_code\n",
            "    exec(code, run_globals)\n",
            "  File \"/usr/local/lib/python3.7/dist-packages/spacy/__main__.py\", line 4, in <module>\n",
            "    setup_cli()\n",
            "  File \"/usr/local/lib/python3.7/dist-packages/spacy/cli/_util.py\", line 71, in setup_cli\n",
            "    command(prog_name=COMMAND)\n",
            "  File \"/usr/local/lib/python3.7/dist-packages/click/core.py\", line 829, in __call__\n",
            "    return self.main(*args, **kwargs)\n",
            "  File \"/usr/local/lib/python3.7/dist-packages/click/core.py\", line 782, in main\n",
            "    rv = self.invoke(ctx)\n",
            "  File \"/usr/local/lib/python3.7/dist-packages/click/core.py\", line 1259, in invoke\n",
            "    return _process_result(sub_ctx.command.invoke(sub_ctx))\n",
            "  File \"/usr/local/lib/python3.7/dist-packages/click/core.py\", line 1066, in invoke\n",
            "    return ctx.invoke(self.callback, **ctx.params)\n",
            "  File \"/usr/local/lib/python3.7/dist-packages/click/core.py\", line 610, in invoke\n",
            "    return callback(*args, **kwargs)\n",
            "  File \"/usr/local/lib/python3.7/dist-packages/typer/main.py\", line 532, in wrapper\n",
            "    return callback(**use_params)  # type: ignore\n",
            "  File \"/usr/local/lib/python3.7/dist-packages/spacy/cli/pretrain.py\", line 76, in pretrain_cli\n",
            "    silent=False,\n",
            "  File \"/usr/local/lib/python3.7/dist-packages/spacy/training/pretrain.py\", line 42, in pretrain\n",
            "    model = create_pretraining_model(nlp, P)\n",
            "  File \"/usr/local/lib/python3.7/dist-packages/spacy/training/pretrain.py\", line 171, in create_pretraining_model\n",
            "    raise ValueError(Errors.E874.format(component=component, layer=layer))\n",
            "ValueError: [E874] Could not initialize the tok2vec model from component 'spancat' and layer 'tok2vec'.\n"
          ]
        }
      ]
    },
    {
      "cell_type": "code",
      "source": [
        "!pip install spacy-transformers"
      ],
      "metadata": {
        "colab": {
          "base_uri": "https://localhost:8080/"
        },
        "id": "g_vskUZUOu1b",
        "outputId": "6bda446e-4171-424f-c571-6b6ebf2af63f"
      },
      "execution_count": 1,
      "outputs": [
        {
          "output_type": "stream",
          "name": "stdout",
          "text": [
            "Looking in indexes: https://pypi.org/simple, https://us-python.pkg.dev/colab-wheels/public/simple/\n",
            "Collecting spacy-transformers\n",
            "  Downloading spacy_transformers-1.1.8-py2.py3-none-any.whl (53 kB)\n",
            "\u001b[K     |████████████████████████████████| 53 kB 2.2 MB/s \n",
            "\u001b[?25hCollecting spacy-alignments<1.0.0,>=0.7.2\n",
            "  Downloading spacy_alignments-0.8.6-cp37-cp37m-manylinux_2_17_x86_64.manylinux2014_x86_64.whl (1.1 MB)\n",
            "\u001b[K     |████████████████████████████████| 1.1 MB 52.2 MB/s \n",
            "\u001b[?25hRequirement already satisfied: spacy<4.0.0,>=3.4.0 in /usr/local/lib/python3.7/dist-packages (from spacy-transformers) (3.4.1)\n",
            "Requirement already satisfied: srsly<3.0.0,>=2.4.0 in /usr/local/lib/python3.7/dist-packages (from spacy-transformers) (2.4.4)\n",
            "Requirement already satisfied: torch>=1.6.0 in /usr/local/lib/python3.7/dist-packages (from spacy-transformers) (1.12.1+cu113)\n",
            "Collecting transformers<4.22.0,>=3.4.0\n",
            "  Downloading transformers-4.21.3-py3-none-any.whl (4.7 MB)\n",
            "\u001b[K     |████████████████████████████████| 4.7 MB 63.0 MB/s \n",
            "\u001b[?25hRequirement already satisfied: langcodes<4.0.0,>=3.2.0 in /usr/local/lib/python3.7/dist-packages (from spacy<4.0.0,>=3.4.0->spacy-transformers) (3.3.0)\n",
            "Requirement already satisfied: typer<0.5.0,>=0.3.0 in /usr/local/lib/python3.7/dist-packages (from spacy<4.0.0,>=3.4.0->spacy-transformers) (0.4.2)\n",
            "Requirement already satisfied: setuptools in /usr/local/lib/python3.7/dist-packages (from spacy<4.0.0,>=3.4.0->spacy-transformers) (57.4.0)\n",
            "Requirement already satisfied: numpy>=1.15.0 in /usr/local/lib/python3.7/dist-packages (from spacy<4.0.0,>=3.4.0->spacy-transformers) (1.21.6)\n",
            "Requirement already satisfied: wasabi<1.1.0,>=0.9.1 in /usr/local/lib/python3.7/dist-packages (from spacy<4.0.0,>=3.4.0->spacy-transformers) (0.10.1)\n",
            "Requirement already satisfied: pathy>=0.3.5 in /usr/local/lib/python3.7/dist-packages (from spacy<4.0.0,>=3.4.0->spacy-transformers) (0.6.2)\n",
            "Requirement already satisfied: preshed<3.1.0,>=3.0.2 in /usr/local/lib/python3.7/dist-packages (from spacy<4.0.0,>=3.4.0->spacy-transformers) (3.0.8)\n",
            "Requirement already satisfied: catalogue<2.1.0,>=2.0.6 in /usr/local/lib/python3.7/dist-packages (from spacy<4.0.0,>=3.4.0->spacy-transformers) (2.0.8)\n",
            "Requirement already satisfied: packaging>=20.0 in /usr/local/lib/python3.7/dist-packages (from spacy<4.0.0,>=3.4.0->spacy-transformers) (21.3)\n",
            "Requirement already satisfied: jinja2 in /usr/local/lib/python3.7/dist-packages (from spacy<4.0.0,>=3.4.0->spacy-transformers) (2.11.3)\n",
            "Requirement already satisfied: cymem<2.1.0,>=2.0.2 in /usr/local/lib/python3.7/dist-packages (from spacy<4.0.0,>=3.4.0->spacy-transformers) (2.0.7)\n",
            "Requirement already satisfied: spacy-loggers<2.0.0,>=1.0.0 in /usr/local/lib/python3.7/dist-packages (from spacy<4.0.0,>=3.4.0->spacy-transformers) (1.0.3)\n",
            "Requirement already satisfied: requests<3.0.0,>=2.13.0 in /usr/local/lib/python3.7/dist-packages (from spacy<4.0.0,>=3.4.0->spacy-transformers) (2.23.0)\n",
            "Requirement already satisfied: spacy-legacy<3.1.0,>=3.0.9 in /usr/local/lib/python3.7/dist-packages (from spacy<4.0.0,>=3.4.0->spacy-transformers) (3.0.10)\n",
            "Requirement already satisfied: typing-extensions<4.2.0,>=3.7.4 in /usr/local/lib/python3.7/dist-packages (from spacy<4.0.0,>=3.4.0->spacy-transformers) (4.1.1)\n",
            "Requirement already satisfied: tqdm<5.0.0,>=4.38.0 in /usr/local/lib/python3.7/dist-packages (from spacy<4.0.0,>=3.4.0->spacy-transformers) (4.64.1)\n",
            "Requirement already satisfied: thinc<8.2.0,>=8.1.0 in /usr/local/lib/python3.7/dist-packages (from spacy<4.0.0,>=3.4.0->spacy-transformers) (8.1.4)\n",
            "Requirement already satisfied: pydantic!=1.8,!=1.8.1,<1.10.0,>=1.7.4 in /usr/local/lib/python3.7/dist-packages (from spacy<4.0.0,>=3.4.0->spacy-transformers) (1.9.2)\n",
            "Requirement already satisfied: murmurhash<1.1.0,>=0.28.0 in /usr/local/lib/python3.7/dist-packages (from spacy<4.0.0,>=3.4.0->spacy-transformers) (1.0.9)\n",
            "Requirement already satisfied: zipp>=0.5 in /usr/local/lib/python3.7/dist-packages (from catalogue<2.1.0,>=2.0.6->spacy<4.0.0,>=3.4.0->spacy-transformers) (3.9.0)\n",
            "Requirement already satisfied: pyparsing!=3.0.5,>=2.0.2 in /usr/local/lib/python3.7/dist-packages (from packaging>=20.0->spacy<4.0.0,>=3.4.0->spacy-transformers) (3.0.9)\n",
            "Requirement already satisfied: smart-open<6.0.0,>=5.2.1 in /usr/local/lib/python3.7/dist-packages (from pathy>=0.3.5->spacy<4.0.0,>=3.4.0->spacy-transformers) (5.2.1)\n",
            "Requirement already satisfied: idna<3,>=2.5 in /usr/local/lib/python3.7/dist-packages (from requests<3.0.0,>=2.13.0->spacy<4.0.0,>=3.4.0->spacy-transformers) (2.10)\n",
            "Requirement already satisfied: certifi>=2017.4.17 in /usr/local/lib/python3.7/dist-packages (from requests<3.0.0,>=2.13.0->spacy<4.0.0,>=3.4.0->spacy-transformers) (2022.9.24)\n",
            "Requirement already satisfied: urllib3!=1.25.0,!=1.25.1,<1.26,>=1.21.1 in /usr/local/lib/python3.7/dist-packages (from requests<3.0.0,>=2.13.0->spacy<4.0.0,>=3.4.0->spacy-transformers) (1.24.3)\n",
            "Requirement already satisfied: chardet<4,>=3.0.2 in /usr/local/lib/python3.7/dist-packages (from requests<3.0.0,>=2.13.0->spacy<4.0.0,>=3.4.0->spacy-transformers) (3.0.4)\n",
            "Requirement already satisfied: blis<0.8.0,>=0.7.8 in /usr/local/lib/python3.7/dist-packages (from thinc<8.2.0,>=8.1.0->spacy<4.0.0,>=3.4.0->spacy-transformers) (0.7.8)\n",
            "Requirement already satisfied: confection<1.0.0,>=0.0.1 in /usr/local/lib/python3.7/dist-packages (from thinc<8.2.0,>=8.1.0->spacy<4.0.0,>=3.4.0->spacy-transformers) (0.0.3)\n",
            "Requirement already satisfied: filelock in /usr/local/lib/python3.7/dist-packages (from transformers<4.22.0,>=3.4.0->spacy-transformers) (3.8.0)\n",
            "Collecting tokenizers!=0.11.3,<0.13,>=0.11.1\n",
            "  Downloading tokenizers-0.12.1-cp37-cp37m-manylinux_2_12_x86_64.manylinux2010_x86_64.whl (6.6 MB)\n",
            "\u001b[K     |████████████████████████████████| 6.6 MB 58.1 MB/s \n",
            "\u001b[?25hRequirement already satisfied: pyyaml>=5.1 in /usr/local/lib/python3.7/dist-packages (from transformers<4.22.0,>=3.4.0->spacy-transformers) (6.0)\n",
            "Collecting huggingface-hub<1.0,>=0.1.0\n",
            "  Downloading huggingface_hub-0.10.1-py3-none-any.whl (163 kB)\n",
            "\u001b[K     |████████████████████████████████| 163 kB 64.9 MB/s \n",
            "\u001b[?25hRequirement already satisfied: importlib-metadata in /usr/local/lib/python3.7/dist-packages (from transformers<4.22.0,>=3.4.0->spacy-transformers) (4.13.0)\n",
            "Requirement already satisfied: regex!=2019.12.17 in /usr/local/lib/python3.7/dist-packages (from transformers<4.22.0,>=3.4.0->spacy-transformers) (2022.6.2)\n",
            "Requirement already satisfied: click<9.0.0,>=7.1.1 in /usr/local/lib/python3.7/dist-packages (from typer<0.5.0,>=0.3.0->spacy<4.0.0,>=3.4.0->spacy-transformers) (7.1.2)\n",
            "Requirement already satisfied: MarkupSafe>=0.23 in /usr/local/lib/python3.7/dist-packages (from jinja2->spacy<4.0.0,>=3.4.0->spacy-transformers) (2.0.1)\n",
            "Installing collected packages: tokenizers, huggingface-hub, transformers, spacy-alignments, spacy-transformers\n",
            "Successfully installed huggingface-hub-0.10.1 spacy-alignments-0.8.6 spacy-transformers-1.1.8 tokenizers-0.12.1 transformers-4.21.3\n"
          ]
        }
      ]
    },
    {
      "cell_type": "code",
      "source": [
        "org_parsing_path = \"/content/drive/MyDrive/org_name_parsing\""
      ],
      "metadata": {
        "id": "TgEbmjY1Svgs"
      },
      "execution_count": 2,
      "outputs": []
    },
    {
      "cell_type": "code",
      "source": [
        "from google.colab import drive\n",
        "drive.mount('/content/drive')"
      ],
      "metadata": {
        "colab": {
          "base_uri": "https://localhost:8080/"
        },
        "id": "xl1TzgieRwCu",
        "outputId": "58487bc7-4e1a-4143-d9e8-c7041b2960e7"
      },
      "execution_count": 4,
      "outputs": [
        {
          "output_type": "stream",
          "name": "stdout",
          "text": [
            "Mounted at /content/drive\n"
          ]
        }
      ]
    },
    {
      "cell_type": "code",
      "source": [
        "!python -m spacy train /content/drive/MyDrive/org_name_parsing/new_configs/config_legal.cfg --output /content/drive/MyDrive/org_name_parsing/output --paths.train /content/drive/MyDrive/org_name_parsing/spacy_data/train.spacy --paths.dev /content/drive/MyDrive/org_name_parsing/spacy_data/dev.spacy --gpu-id 0"
      ],
      "metadata": {
        "colab": {
          "base_uri": "https://localhost:8080/"
        },
        "id": "U1t3KlwKmBWD",
        "outputId": "61eb4877-0515-4a03-ef46-a65be8267912"
      },
      "execution_count": 14,
      "outputs": [
        {
          "output_type": "stream",
          "name": "stdout",
          "text": [
            "\u001b[38;5;4mℹ Saving to output directory:\n",
            "/content/drive/MyDrive/org_name_parsing/output\u001b[0m\n",
            "\u001b[38;5;4mℹ Using GPU: 0\u001b[0m\n",
            "\u001b[1m\n",
            "=========================== Initializing pipeline ===========================\u001b[0m\n",
            "[2022-10-20 08:19:08,523] [INFO] Set up nlp object from config\n",
            "INFO:spacy:Set up nlp object from config\n",
            "[2022-10-20 08:19:08,535] [INFO] Pipeline: ['transformer', 'spancat']\n",
            "INFO:spacy:Pipeline: ['transformer', 'spancat']\n",
            "[2022-10-20 08:19:08,539] [INFO] Created vocabulary\n",
            "INFO:spacy:Created vocabulary\n",
            "[2022-10-20 08:19:08,540] [INFO] Finished initializing nlp object\n",
            "INFO:spacy:Finished initializing nlp object\n",
            "Some weights of the model checkpoint at ellabettison/finetuned_orgnames_roberta were not used when initializing RobertaModel: ['lm_head.dense.weight', 'lm_head.layer_norm.bias', 'lm_head.bias', 'lm_head.dense.bias', 'lm_head.layer_norm.weight']\n",
            "- This IS expected if you are initializing RobertaModel from the checkpoint of a model trained on another task or with another architecture (e.g. initializing a BertForSequenceClassification model from a BertForPreTraining model).\n",
            "- This IS NOT expected if you are initializing RobertaModel from the checkpoint of a model that you expect to be exactly identical (initializing a BertForSequenceClassification model from a BertForSequenceClassification model).\n",
            "Some weights of RobertaModel were not initialized from the model checkpoint at ellabettison/finetuned_orgnames_roberta and are newly initialized: ['roberta.pooler.dense.bias', 'roberta.pooler.dense.weight']\n",
            "You should probably TRAIN this model on a down-stream task to be able to use it for predictions and inference.\n",
            "[2022-10-20 08:19:21,533] [INFO] Initialized pipeline components: ['transformer', 'spancat']\n",
            "INFO:spacy:Initialized pipeline components: ['transformer', 'spancat']\n",
            "\u001b[38;5;2m✔ Initialized pipeline\u001b[0m\n",
            "\u001b[1m\n",
            "============================= Training pipeline =============================\u001b[0m\n",
            "\u001b[38;5;4mℹ Pipeline: ['transformer', 'spancat']\u001b[0m\n",
            "\u001b[38;5;4mℹ Initial learn rate: 0.0\u001b[0m\n",
            "E    #       LOSS TRANS...  LOSS SPANCAT  SPANS_SC_F  SPANS_SC_P  SPANS_SC_R  SCORE \n",
            "---  ------  -------------  ------------  ----------  ----------  ----------  ------\n",
            "  0       0        2329.48       1538.20        8.78        4.68       70.81    0.09\n",
            " 28     200       61568.87     120005.63       85.86       88.62       83.25    0.86\n",
            " 57     400         175.99       2759.21       88.37       88.87       87.88    0.88\n",
            " 85     600          13.52        382.96       88.32       88.60       88.04    0.88\n",
            "113     800           2.54        102.14       87.94       89.31       86.60    0.88\n",
            "142    1000           1.75         50.84       88.17       87.82       88.52    0.88\n",
            "\u001b[38;5;2m✔ Saved pipeline to output directory\u001b[0m\n",
            "/content/drive/MyDrive/org_name_parsing/output/model-last\n"
          ]
        }
      ]
    },
    {
      "cell_type": "code",
      "source": [
        "!python -m spacy evaluate /content/drive/MyDrive/org_name_parsing/output/model-best /content/drive/MyDrive/org_name_parsing/spacy_data/eval.spacy -o /content/drive/MyDrive/org_name_parsing/results/results_pretrained_180000.json"
      ],
      "metadata": {
        "colab": {
          "base_uri": "https://localhost:8080/"
        },
        "id": "8hAG8rwkmJUz",
        "outputId": "62b61f81-c28b-42db-fc48-df8ab396d1cd"
      },
      "execution_count": 15,
      "outputs": [
        {
          "output_type": "stream",
          "name": "stdout",
          "text": [
            "\u001b[38;5;4mℹ Using CPU\u001b[0m\n",
            "\u001b[38;5;4mℹ To switch to GPU 0, use the option: --gpu-id 0\u001b[0m\n",
            "\u001b[1m\n",
            "================================== Results ==================================\u001b[0m\n",
            "\n",
            "TOK      100.00\n",
            "SPAN P   82.35 \n",
            "SPAN R   78.67 \n",
            "SPAN F   80.47 \n",
            "SPEED    94    \n",
            "\n",
            "\u001b[1m\n",
            "============================== SPANS (per type) ==============================\u001b[0m\n",
            "\n",
            "           P        R       F\n",
            "LEG    81.82    96.00   88.34\n",
            "ID     85.45    84.58   85.01\n",
            "IND    81.61    55.04   65.74\n",
            "ACR    79.59    87.64   83.42\n",
            "STP    96.05   100.00   97.99\n",
            "PER    69.70    56.10   62.16\n",
            "LOC    55.32    59.09   57.14\n",
            "ORG    79.69    69.86   74.45\n",
            "COL    69.23    56.25   62.07\n",
            "SCP   100.00    66.67   80.00\n",
            "STR    85.71    80.00   82.76\n",
            "NAT   100.00    71.43   83.33\n",
            "MOD    50.00   100.00   66.67\n",
            "\n",
            "\u001b[38;5;2m✔ Saved results to\n",
            "/content/drive/MyDrive/org_name_parsing/results/results_pretrained_180000.json\u001b[0m\n"
          ]
        }
      ]
    },
    {
      "cell_type": "code",
      "source": [
        "results_path = \"/content/drive/MyDrive/org_name_parsing/results\""
      ],
      "metadata": {
        "id": "AuU9dLh0XZx3"
      },
      "execution_count": 16,
      "outputs": []
    },
    {
      "cell_type": "code",
      "source": [
        "import numpy as np\n",
        "import json\n",
        "\n",
        "results_files = [\"results.json\", \"results_robertabase.json\", \"results_bertbasecased.json\", \"results_finance.json\", \"results_finbert.json\", \"results_legal.json\", \"results_tinybert.json\",  \"results_pretrained_100.json\", \"results_pretrained_1000.json\",\"results_pretrained_5000.json\", \"results_devlin.json\"]\n",
        "tags = [\"ID\", \"LEG\", \"IND\", \"STP\", \"PER\", \"LOC\", \"ORG\", \"ACR\", \"COL\", \"SCP\", \"STR\", \"NAT\", \"MOD\"]\n",
        "\n",
        "results_files = [\"results_robertabase.json\", \"results_pretrained_5000.json\", \"results_pretrained_10000.json\", \"results_pretrained_10000_frozen.json\", \"results_pretrained_10000_frozen_gradual.json\", \"results_pretrained_50000_frozen.json\"]\n",
        "results_files = [\"results_robertabase.json\",\"results_pretrained_10000.json\",\"results_pretrained_20000.json\", \"results_pretrained_180000.json\"]\n",
        "\n",
        "f1_scores = np.empty((len(results_files)))\n",
        "f1_scores_by_tag = np.empty((len(results_files), len(tags)))\n",
        "speeds = np.empty((len(results_files)))\n",
        "\n",
        "\n",
        "for i, file in enumerate(results_files):\n",
        "  with open(f\"{results_path}/{file}\", 'r') as f:\n",
        "    data = json.load(f)\n",
        "    f1_scores[i] = data['spans_sc_f']\n",
        "    f1_scores_by_tag[i] = np.asarray([data['spans_sc_per_type'][tag]['f'] for tag in tags])\n",
        "    speeds[i] = data['speed']"
      ],
      "metadata": {
        "id": "hMzE9pMRxbBh"
      },
      "execution_count": 17,
      "outputs": []
    },
    {
      "cell_type": "code",
      "source": [
        "import matplotlib.pyplot as plt\n",
        "\n",
        "plt.rcParams['figure.figsize'] = [18, 7]\n",
        "\n",
        "colours = [\"#233D4D\", \"#FE7F2D\", \"#FCCA46\", \"#A1C181\", \"#619B8A\"]\n",
        "colours2 = [\"#FF8811\", \"#F4D06F\", \"#FFF8F0\", \"#9DD9D2\", \"#392F5A\"]\n",
        "test_names = [\"From scratch\", \"Roberta base\", \"Bert base cased\", \"Finance\", \"Finbert\", \"Legal\", \"Tiny Bert\",  \"Pretrained 100 steps\", \"Pretrained 1000 steps\",\"Pretrained 5000 steps\", \"Devlin\"]\n",
        "\n",
        "test_names = [\"Base model\", \"Pretrained 5000 steps\", \"Pretrained 10000 steps\", \"Pretrained 10000 steps frozen\", \"Pretrained 10000 steps gradual unfreezing\", \"Pretrained 50000 steps frozen\" ]\n",
        "test_names =  [\"Base model\",\"Pretrained 10000 steps\" \"Pretrained 20000 steps\", \"Pretrained 180,000 steps\"]\n",
        "\n",
        "my_colours=colours+colours2\n",
        "\n",
        "x = np.arange(len(tags))  # the label locations\n",
        "width = 0.1  # the width of the bars\n",
        "\n",
        "plt.figure(facecolor='white')\n",
        "\n",
        "#Paired\n",
        "#tab10\n",
        "my_cmap = plt.get_cmap(\"Paired\")\n",
        "print(my_cmap(0), my_cmap(1))\n",
        "\n",
        "\n",
        "for i in range(len(test_names)):\n",
        "  rects1 = plt.bar(x + i*width-(width*(len(test_names)-1))/2, f1_scores_by_tag[i], width, label=test_names[i], color=my_cmap.colors[i]) #(i/len(test_names)))\n",
        "\n",
        "# Add some text for labels, title and custom x-axis tick labels, etc.\n",
        "plt.ylabel('F1 score')\n",
        "plt.xlabel('Label')\n",
        "plt.title('F1 scores by label')\n",
        "plt.xticks(x, tags)\n",
        "plt.legend(loc='lower left')\n",
        "\n",
        "plt.ylim([0, 1])\n",
        "\n",
        "# ax.bar_label(rects1, padding=3)\n",
        "# ax.bar_label(rects2, padding=3)\n",
        "\n",
        "plt.tight_layout()\n",
        "\n",
        "from matplotlib.pyplot import figure\n",
        "\n",
        "\n",
        "\n",
        "plt.show()"
      ],
      "metadata": {
        "colab": {
          "base_uri": "https://localhost:8080/",
          "height": 335
        },
        "id": "IyDYPml2xWbO",
        "outputId": "08384098-5f45-4d70-ad50-988f43c0a4a6"
      },
      "execution_count": 18,
      "outputs": [
        {
          "output_type": "stream",
          "name": "stdout",
          "text": [
            "(0.6509803921568628, 0.807843137254902, 0.8901960784313725, 1.0) (0.12156862745098039, 0.47058823529411764, 0.7058823529411765, 1.0)\n"
          ]
        },
        {
          "output_type": "display_data",
          "data": {
            "text/plain": [
              "<Figure size 1296x504 with 1 Axes>"
            ],
            "image/png": "[encoded data removed]"
          },
          "metadata": {}
        }
      ]
    },
    {
      "cell_type": "code",
      "source": [
        "\n",
        "plt.figure(facecolor='white')\n",
        "plt.ylabel('F1 score')\n",
        "plt.xlabel('Base model')\n",
        "plt.title('F1 scores by model')\n",
        "x = np.arange(len(test_names))\n",
        "plt.xticks(x, test_names)\n",
        "plt.legend(loc='lower left')\n",
        "\n",
        "plt.bar(x, height=f1_scores, color=my_cmap.colors)\n",
        "\n",
        "plt.ylim([0.79, 0.84])\n",
        "\n",
        "for i, v in enumerate(f1_scores):\n",
        "    plt.text(x[i]-0.1, v+v*0.001, str(\"%.4f\"%v), color='black', fontweight='bold')\n",
        "\n",
        "\n",
        "\n",
        "plt.show()"
      ],
      "metadata": {
        "colab": {
          "base_uri": "https://localhost:8080/",
          "height": 345
        },
        "id": "fkA1z9J6PxFs",
        "outputId": "145bcc4a-562d-4c92-f3cf-0be3fc293841"
      },
      "execution_count": 19,
      "outputs": [
        {
          "output_type": "stream",
          "name": "stderr",
          "text": [
            "WARNING:matplotlib.legend:No handles with labels found to put in legend.\n"
          ]
        },
        {
          "output_type": "display_data",
          "data": {
            "text/plain": [
              "<Figure size 1296x504 with 1 Axes>"
            ],
            "image/png": "[encoded data removed]"
          },
          "metadata": {}
        }
      ]
    },
    {
      "cell_type": "code",
      "source": [
        "plt.rcParams['figure.figsize'] = [18, 7]\n",
        "\n",
        "speeds[-1] = int(speeds[-1])\n",
        "plt.figure(facecolor='white')\n",
        "\n",
        "plt.ylabel('Speed (words per second)')\n",
        "plt.xlabel('Base model')\n",
        "plt.title('Run speeds by model')\n",
        "x = np.arange(len(test_names))\n",
        "plt.xticks(x, test_names)\n",
        "plt.legend(loc='lower left')\n",
        "\n",
        "plt.bar(x, height=speeds, color=my_cmap.colors)\n",
        "#plt.yscale(\"log\")\n",
        "\n",
        "plt.ylim([58, 70])\n",
        "\n",
        "for i, v in enumerate(speeds):\n",
        "    plt.text(x[i]-0.05, v+(v/1000), str(\"%.2f\"%v), color='black', fontweight='bold')\n",
        "\n",
        "plt.rcParams['axes.facecolor'] = 'white'\n",
        "\n",
        "plt.show()"
      ],
      "metadata": {
        "colab": {
          "base_uri": "https://localhost:8080/",
          "height": 848
        },
        "id": "v_W8s0bQJIv2",
        "outputId": "a2148073-94d2-4193-d326-5f34f71965b9"
      },
      "execution_count": 20,
      "outputs": [
        {
          "output_type": "stream",
          "name": "stderr",
          "text": [
            "WARNING:matplotlib.legend:No handles with labels found to put in legend.\n"
          ]
        },
        {
          "output_type": "display_data",
          "data": {
            "text/plain": [
              "<Figure size 1296x504 with 1 Axes>"
            ],
            "image/png": "[encoded data removed]"
          },
          "metadata": {}
        }
      ]
    }
  ],
  "metadata": {
    "kernelspec": {
      "display_name": "Python 3.10.0 64-bit ('3.10.0')",
      "language": "python",
      "name": "python3"
    },
    "language_info": {
      "name": "python",
      "version": "3.10.0"
    },
    "orig_nbformat": 4,
    "vscode": {
      "interpreter": {
        "hash": "888e6cd309e747ffecffaf2f7c62b6289e92b2288d45615be4f1da43735c96a2"
      }
    },
    "colab": {
      "provenance": [],
      "collapsed_sections": []
    },
    "gpuClass": "standard",
    "accelerator": "GPU"
  },
  "nbformat": 4,
  "nbformat_minor": 0
}