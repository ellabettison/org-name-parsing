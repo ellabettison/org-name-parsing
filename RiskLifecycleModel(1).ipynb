{
  "cells": [
    {
      "cell_type": "code",
      "execution_count": 1,
      "metadata": {
        "colab": {
          "base_uri": "https://localhost:8080/"
        },
        "id": "KeuKYtifcUc3",
        "outputId": "3a741acd-61f8-4013-b9b8-4944e09f6f8d"
      },
      "outputs": [
        {
          "name": "stdout",
          "output_type": "stream",
          "text": [
            "Your runtime has 34.4 gigabytes of available RAM\n",
            "\n",
            "You are using a high-RAM runtime!\n"
          ]
        }
      ],
      "source": [
        "# confirm high-RAM runtime configuration\n",
        "from psutil import virtual_memory\n",
        "ram_gb = virtual_memory().total / 1e9\n",
        "print('Your runtime has {:.1f} gigabytes of available RAM\\n'.format(ram_gb))\n",
        "\n",
        "if ram_gb < 20:\n",
        "  print('Not using a high-RAM runtime')\n",
        "else:\n",
        "  print('You are using a high-RAM runtime!')"
      ]
    },
    {
      "cell_type": "code",
      "execution_count": 2,
      "metadata": {
        "colab": {
          "base_uri": "https://localhost:8080/"
        },
        "id": "kv3joYJzb8SV",
        "outputId": "181ce867-ac89-4d84-d0d0-668b453c07f1"
      },
      "outputs": [
        {
          "name": "stdout",
          "output_type": "stream",
          "text": [
            "zsh:1: command not found: nvidia-smi\n"
          ]
        }
      ],
      "source": [
        "# confirm usage of GPU\n",
        "gpu_info = !nvidia-smi\n",
        "gpu_info = '\\n'.join(gpu_info)\n",
        "if gpu_info.find('failed') >= 0:\n",
        "  print('Not connected to a GPU')\n",
        "else:\n",
        "  print(gpu_info)"
      ]
    },
    {
      "cell_type": "code",
      "execution_count": 3,
      "metadata": {
        "id": "iA2AyvCc8Ig1"
      },
      "outputs": [
        {
          "name": "stderr",
          "output_type": "stream",
          "text": [
            "/Users/ellabettison/.pyenv/versions/3.10.0/lib/python3.10/site-packages/tqdm/auto.py:22: TqdmWarning: IProgress not found. Please update jupyter and ipywidgets. See https://ipywidgets.readthedocs.io/en/stable/user_install.html\n",
            "  from .autonotebook import tqdm as notebook_tqdm\n"
          ]
        }
      ],
      "source": [
        "import spacy"
      ]
    },
    {
      "cell_type": "code",
      "execution_count": 4,
      "metadata": {
        "colab": {
          "base_uri": "https://localhost:8080/"
        },
        "id": "_YYEl-vl8wzA",
        "outputId": "cbd67b3d-1645-48d2-fd32-7b142007e355"
      },
      "outputs": [
        {
          "name": "stdout",
          "output_type": "stream",
          "text": [
            "Requirement already satisfied: spacy in /Users/ellabettison/.pyenv/versions/3.10.0/lib/python3.10/site-packages (3.4.1)\n",
            "Requirement already satisfied: preshed<3.1.0,>=3.0.2 in /Users/ellabettison/.pyenv/versions/3.10.0/lib/python3.10/site-packages (from spacy) (3.0.7)\n",
            "Requirement already satisfied: jinja2 in /Users/ellabettison/.pyenv/versions/3.10.0/lib/python3.10/site-packages (from spacy) (3.1.2)\n",
            "Requirement already satisfied: setuptools in /Users/ellabettison/.pyenv/versions/3.10.0/lib/python3.10/site-packages (from spacy) (57.4.0)\n",
            "Requirement already satisfied: spacy-loggers<2.0.0,>=1.0.0 in /Users/ellabettison/.pyenv/versions/3.10.0/lib/python3.10/site-packages (from spacy) (1.0.3)\n",
            "Requirement already satisfied: pathy>=0.3.5 in /Users/ellabettison/.pyenv/versions/3.10.0/lib/python3.10/site-packages (from spacy) (0.6.2)\n",
            "Requirement already satisfied: requests<3.0.0,>=2.13.0 in /Users/ellabettison/.pyenv/versions/3.10.0/lib/python3.10/site-packages (from spacy) (2.28.1)\n",
            "Requirement already satisfied: langcodes<4.0.0,>=3.2.0 in /Users/ellabettison/.pyenv/versions/3.10.0/lib/python3.10/site-packages (from spacy) (3.3.0)\n",
            "Requirement already satisfied: murmurhash<1.1.0,>=0.28.0 in /Users/ellabettison/.pyenv/versions/3.10.0/lib/python3.10/site-packages (from spacy) (1.0.8)\n",
            "Requirement already satisfied: wasabi<1.1.0,>=0.9.1 in /Users/ellabettison/.pyenv/versions/3.10.0/lib/python3.10/site-packages (from spacy) (0.10.1)\n",
            "Requirement already satisfied: catalogue<2.1.0,>=2.0.6 in /Users/ellabettison/.pyenv/versions/3.10.0/lib/python3.10/site-packages (from spacy) (2.0.8)\n",
            "Requirement already satisfied: typer<0.5.0,>=0.3.0 in /Users/ellabettison/.pyenv/versions/3.10.0/lib/python3.10/site-packages (from spacy) (0.3.2)\n",
            "Requirement already satisfied: packaging>=20.0 in /Users/ellabettison/.pyenv/versions/3.10.0/lib/python3.10/site-packages (from spacy) (21.3)\n",
            "Requirement already satisfied: thinc<8.2.0,>=8.1.0 in /Users/ellabettison/.pyenv/versions/3.10.0/lib/python3.10/site-packages (from spacy) (8.1.2)\n",
            "Requirement already satisfied: cymem<2.1.0,>=2.0.2 in /Users/ellabettison/.pyenv/versions/3.10.0/lib/python3.10/site-packages (from spacy) (2.0.6)\n",
            "Requirement already satisfied: numpy>=1.15.0 in /Users/ellabettison/.pyenv/versions/3.10.0/lib/python3.10/site-packages (from spacy) (1.23.3)\n",
            "Requirement already satisfied: spacy-legacy<3.1.0,>=3.0.9 in /Users/ellabettison/.pyenv/versions/3.10.0/lib/python3.10/site-packages (from spacy) (3.0.10)\n",
            "Requirement already satisfied: tqdm<5.0.0,>=4.38.0 in /Users/ellabettison/.pyenv/versions/3.10.0/lib/python3.10/site-packages (from spacy) (4.64.1)\n",
            "Requirement already satisfied: srsly<3.0.0,>=2.4.3 in /Users/ellabettison/.pyenv/versions/3.10.0/lib/python3.10/site-packages (from spacy) (2.4.4)\n",
            "Requirement already satisfied: pydantic!=1.8,!=1.8.1,<1.10.0,>=1.7.4 in /Users/ellabettison/.pyenv/versions/3.10.0/lib/python3.10/site-packages (from spacy) (1.8.2)\n",
            "Requirement already satisfied: pyparsing!=3.0.5,>=2.0.2 in /Users/ellabettison/.pyenv/versions/3.10.0/lib/python3.10/site-packages (from packaging>=20.0->spacy) (3.0.9)\n",
            "Requirement already satisfied: smart-open<6.0.0,>=5.2.1 in /Users/ellabettison/.pyenv/versions/3.10.0/lib/python3.10/site-packages (from pathy>=0.3.5->spacy) (5.2.1)\n",
            "Requirement already satisfied: typing-extensions>=3.7.4.3 in /Users/ellabettison/.pyenv/versions/3.10.0/lib/python3.10/site-packages (from pydantic!=1.8,!=1.8.1,<1.10.0,>=1.7.4->spacy) (4.3.0)\n",
            "Requirement already satisfied: idna<4,>=2.5 in /Users/ellabettison/.pyenv/versions/3.10.0/lib/python3.10/site-packages (from requests<3.0.0,>=2.13.0->spacy) (3.4)\n",
            "Requirement already satisfied: urllib3<1.27,>=1.21.1 in /Users/ellabettison/.pyenv/versions/3.10.0/lib/python3.10/site-packages (from requests<3.0.0,>=2.13.0->spacy) (1.26.12)\n",
            "Requirement already satisfied: charset-normalizer<3,>=2 in /Users/ellabettison/.pyenv/versions/3.10.0/lib/python3.10/site-packages (from requests<3.0.0,>=2.13.0->spacy) (2.1.1)\n",
            "Requirement already satisfied: certifi>=2017.4.17 in /Users/ellabettison/.pyenv/versions/3.10.0/lib/python3.10/site-packages (from requests<3.0.0,>=2.13.0->spacy) (2022.9.24)\n",
            "Requirement already satisfied: blis<0.8.0,>=0.7.8 in /Users/ellabettison/.pyenv/versions/3.10.0/lib/python3.10/site-packages (from thinc<8.2.0,>=8.1.0->spacy) (0.7.8)\n",
            "Requirement already satisfied: confection<1.0.0,>=0.0.1 in /Users/ellabettison/.pyenv/versions/3.10.0/lib/python3.10/site-packages (from thinc<8.2.0,>=8.1.0->spacy) (0.0.2)\n",
            "Requirement already satisfied: click<7.2.0,>=7.1.1 in /Users/ellabettison/.pyenv/versions/3.10.0/lib/python3.10/site-packages (from typer<0.5.0,>=0.3.0->spacy) (7.1.2)\n",
            "Requirement already satisfied: MarkupSafe>=2.0 in /Users/ellabettison/.pyenv/versions/3.10.0/lib/python3.10/site-packages (from jinja2->spacy) (2.1.1)\n"
          ]
        }
      ],
      "source": [
        "!pip install -U spacy"
      ]
    },
    {
      "cell_type": "code",
      "execution_count": 5,
      "metadata": {
        "colab": {
          "base_uri": "https://localhost:8080/"
        },
        "id": "DmHDF5tJ8JOs",
        "outputId": "d1036fb8-846b-4184-f489-a6759f715db3"
      },
      "outputs": [
        {
          "name": "stdout",
          "output_type": "stream",
          "text": [
            "Collecting en-core-web-lg==3.4.0\n",
            "  Downloading https://github.com/explosion/spacy-models/releases/download/en_core_web_lg-3.4.0/en_core_web_lg-3.4.0-py3-none-any.whl (587.7 MB)\n",
            "\u001b[2K     \u001b[90m━━━━━━━━━━━━━━━━━━━━━━━━━━━━━━━━━━━━━━━\u001b[0m \u001b[32m587.7/587.7 MB\u001b[0m \u001b[31m2.2 MB/s\u001b[0m eta \u001b[36m0:00:00\u001b[0m00:01\u001b[0m00:02\u001b[0m\n",
            "\u001b[?25hRequirement already satisfied: spacy<3.5.0,>=3.4.0 in /Users/ellabettison/.pyenv/versions/3.10.0/lib/python3.10/site-packages (from en-core-web-lg==3.4.0) (3.4.1)\n",
            "Requirement already satisfied: setuptools in /Users/ellabettison/.pyenv/versions/3.10.0/lib/python3.10/site-packages (from spacy<3.5.0,>=3.4.0->en-core-web-lg==3.4.0) (57.4.0)\n",
            "Requirement already satisfied: numpy>=1.15.0 in /Users/ellabettison/.pyenv/versions/3.10.0/lib/python3.10/site-packages (from spacy<3.5.0,>=3.4.0->en-core-web-lg==3.4.0) (1.23.3)\n",
            "Requirement already satisfied: jinja2 in /Users/ellabettison/.pyenv/versions/3.10.0/lib/python3.10/site-packages (from spacy<3.5.0,>=3.4.0->en-core-web-lg==3.4.0) (3.1.2)\n",
            "Requirement already satisfied: preshed<3.1.0,>=3.0.2 in /Users/ellabettison/.pyenv/versions/3.10.0/lib/python3.10/site-packages (from spacy<3.5.0,>=3.4.0->en-core-web-lg==3.4.0) (3.0.7)\n",
            "Requirement already satisfied: thinc<8.2.0,>=8.1.0 in /Users/ellabettison/.pyenv/versions/3.10.0/lib/python3.10/site-packages (from spacy<3.5.0,>=3.4.0->en-core-web-lg==3.4.0) (8.1.2)\n",
            "Requirement already satisfied: pydantic!=1.8,!=1.8.1,<1.10.0,>=1.7.4 in /Users/ellabettison/.pyenv/versions/3.10.0/lib/python3.10/site-packages (from spacy<3.5.0,>=3.4.0->en-core-web-lg==3.4.0) (1.8.2)\n",
            "Requirement already satisfied: cymem<2.1.0,>=2.0.2 in /Users/ellabettison/.pyenv/versions/3.10.0/lib/python3.10/site-packages (from spacy<3.5.0,>=3.4.0->en-core-web-lg==3.4.0) (2.0.6)\n",
            "Requirement already satisfied: pathy>=0.3.5 in /Users/ellabettison/.pyenv/versions/3.10.0/lib/python3.10/site-packages (from spacy<3.5.0,>=3.4.0->en-core-web-lg==3.4.0) (0.6.2)\n",
            "Requirement already satisfied: spacy-legacy<3.1.0,>=3.0.9 in /Users/ellabettison/.pyenv/versions/3.10.0/lib/python3.10/site-packages (from spacy<3.5.0,>=3.4.0->en-core-web-lg==3.4.0) (3.0.10)\n",
            "Requirement already satisfied: wasabi<1.1.0,>=0.9.1 in /Users/ellabettison/.pyenv/versions/3.10.0/lib/python3.10/site-packages (from spacy<3.5.0,>=3.4.0->en-core-web-lg==3.4.0) (0.10.1)\n",
            "Requirement already satisfied: srsly<3.0.0,>=2.4.3 in /Users/ellabettison/.pyenv/versions/3.10.0/lib/python3.10/site-packages (from spacy<3.5.0,>=3.4.0->en-core-web-lg==3.4.0) (2.4.4)\n",
            "Requirement already satisfied: requests<3.0.0,>=2.13.0 in /Users/ellabettison/.pyenv/versions/3.10.0/lib/python3.10/site-packages (from spacy<3.5.0,>=3.4.0->en-core-web-lg==3.4.0) (2.28.1)\n",
            "Requirement already satisfied: murmurhash<1.1.0,>=0.28.0 in /Users/ellabettison/.pyenv/versions/3.10.0/lib/python3.10/site-packages (from spacy<3.5.0,>=3.4.0->en-core-web-lg==3.4.0) (1.0.8)\n",
            "Requirement already satisfied: tqdm<5.0.0,>=4.38.0 in /Users/ellabettison/.pyenv/versions/3.10.0/lib/python3.10/site-packages (from spacy<3.5.0,>=3.4.0->en-core-web-lg==3.4.0) (4.64.1)\n",
            "Requirement already satisfied: packaging>=20.0 in /Users/ellabettison/.pyenv/versions/3.10.0/lib/python3.10/site-packages (from spacy<3.5.0,>=3.4.0->en-core-web-lg==3.4.0) (21.3)\n",
            "Requirement already satisfied: langcodes<4.0.0,>=3.2.0 in /Users/ellabettison/.pyenv/versions/3.10.0/lib/python3.10/site-packages (from spacy<3.5.0,>=3.4.0->en-core-web-lg==3.4.0) (3.3.0)\n",
            "Requirement already satisfied: catalogue<2.1.0,>=2.0.6 in /Users/ellabettison/.pyenv/versions/3.10.0/lib/python3.10/site-packages (from spacy<3.5.0,>=3.4.0->en-core-web-lg==3.4.0) (2.0.8)\n",
            "Requirement already satisfied: typer<0.5.0,>=0.3.0 in /Users/ellabettison/.pyenv/versions/3.10.0/lib/python3.10/site-packages (from spacy<3.5.0,>=3.4.0->en-core-web-lg==3.4.0) (0.3.2)\n",
            "Requirement already satisfied: spacy-loggers<2.0.0,>=1.0.0 in /Users/ellabettison/.pyenv/versions/3.10.0/lib/python3.10/site-packages (from spacy<3.5.0,>=3.4.0->en-core-web-lg==3.4.0) (1.0.3)\n",
            "Requirement already satisfied: pyparsing!=3.0.5,>=2.0.2 in /Users/ellabettison/.pyenv/versions/3.10.0/lib/python3.10/site-packages (from packaging>=20.0->spacy<3.5.0,>=3.4.0->en-core-web-lg==3.4.0) (3.0.9)\n",
            "Requirement already satisfied: smart-open<6.0.0,>=5.2.1 in /Users/ellabettison/.pyenv/versions/3.10.0/lib/python3.10/site-packages (from pathy>=0.3.5->spacy<3.5.0,>=3.4.0->en-core-web-lg==3.4.0) (5.2.1)\n",
            "Requirement already satisfied: typing-extensions>=3.7.4.3 in /Users/ellabettison/.pyenv/versions/3.10.0/lib/python3.10/site-packages (from pydantic!=1.8,!=1.8.1,<1.10.0,>=1.7.4->spacy<3.5.0,>=3.4.0->en-core-web-lg==3.4.0) (4.3.0)\n",
            "Requirement already satisfied: certifi>=2017.4.17 in /Users/ellabettison/.pyenv/versions/3.10.0/lib/python3.10/site-packages (from requests<3.0.0,>=2.13.0->spacy<3.5.0,>=3.4.0->en-core-web-lg==3.4.0) (2022.9.24)\n",
            "Requirement already satisfied: charset-normalizer<3,>=2 in /Users/ellabettison/.pyenv/versions/3.10.0/lib/python3.10/site-packages (from requests<3.0.0,>=2.13.0->spacy<3.5.0,>=3.4.0->en-core-web-lg==3.4.0) (2.1.1)\n",
            "Requirement already satisfied: idna<4,>=2.5 in /Users/ellabettison/.pyenv/versions/3.10.0/lib/python3.10/site-packages (from requests<3.0.0,>=2.13.0->spacy<3.5.0,>=3.4.0->en-core-web-lg==3.4.0) (3.4)\n",
            "Requirement already satisfied: urllib3<1.27,>=1.21.1 in /Users/ellabettison/.pyenv/versions/3.10.0/lib/python3.10/site-packages (from requests<3.0.0,>=2.13.0->spacy<3.5.0,>=3.4.0->en-core-web-lg==3.4.0) (1.26.12)\n",
            "Requirement already satisfied: blis<0.8.0,>=0.7.8 in /Users/ellabettison/.pyenv/versions/3.10.0/lib/python3.10/site-packages (from thinc<8.2.0,>=8.1.0->spacy<3.5.0,>=3.4.0->en-core-web-lg==3.4.0) (0.7.8)\n",
            "Requirement already satisfied: confection<1.0.0,>=0.0.1 in /Users/ellabettison/.pyenv/versions/3.10.0/lib/python3.10/site-packages (from thinc<8.2.0,>=8.1.0->spacy<3.5.0,>=3.4.0->en-core-web-lg==3.4.0) (0.0.2)\n",
            "Requirement already satisfied: click<7.2.0,>=7.1.1 in /Users/ellabettison/.pyenv/versions/3.10.0/lib/python3.10/site-packages (from typer<0.5.0,>=0.3.0->spacy<3.5.0,>=3.4.0->en-core-web-lg==3.4.0) (7.1.2)\n",
            "Requirement already satisfied: MarkupSafe>=2.0 in /Users/ellabettison/.pyenv/versions/3.10.0/lib/python3.10/site-packages (from jinja2->spacy<3.5.0,>=3.4.0->en-core-web-lg==3.4.0) (2.1.1)\n",
            "\u001b[38;5;2m✔ Download and installation successful\u001b[0m\n",
            "You can now load the package via spacy.load('en_core_web_lg')\n"
          ]
        }
      ],
      "source": [
        "# download pre-trained RoBERTa transformer model to fine-tune\n",
        "!python -m spacy download en_core_web_lg"
      ]
    },
    {
      "cell_type": "code",
      "execution_count": 6,
      "metadata": {
        "colab": {
          "base_uri": "https://localhost:8080/",
          "height": 1000
        },
        "id": "nIrAPr078JRO",
        "outputId": "bc1dc87c-da1a-42f1-fb82-018fdc6610ca"
      },
      "outputs": [
        {
          "name": "stdout",
          "output_type": "stream",
          "text": [
            "zsh:1: no matches found: spacy[cuda100]==3.2.0\n"
          ]
        }
      ],
      "source": [
        "# install GPU-compatible version of spacy\n",
        "!pip install spacy[cuda100]==3.2.0"
      ]
    },
    {
      "cell_type": "code",
      "execution_count": 7,
      "metadata": {
        "colab": {
          "base_uri": "https://localhost:8080/",
          "height": 1000
        },
        "id": "s-pDDeKQdObV",
        "outputId": "0a2a538e-d179-45a1-ee6b-4d00720c81d8"
      },
      "outputs": [
        {
          "name": "stdout",
          "output_type": "stream",
          "text": [
            "Requirement already satisfied: spacy-transformers in /Users/ellabettison/.pyenv/versions/3.10.0/lib/python3.10/site-packages (1.1.7)\n",
            "Requirement already satisfied: srsly<3.0.0,>=2.4.0 in /Users/ellabettison/.pyenv/versions/3.10.0/lib/python3.10/site-packages (from spacy-transformers) (2.4.4)\n",
            "Requirement already satisfied: torch>=1.6.0 in /Users/ellabettison/.pyenv/versions/3.10.0/lib/python3.10/site-packages (from spacy-transformers) (1.12.1)\n",
            "Requirement already satisfied: spacy-alignments<1.0.0,>=0.7.2 in /Users/ellabettison/.pyenv/versions/3.10.0/lib/python3.10/site-packages (from spacy-transformers) (0.8.5)\n",
            "Requirement already satisfied: spacy<4.0.0,>=3.1.3 in /Users/ellabettison/.pyenv/versions/3.10.0/lib/python3.10/site-packages (from spacy-transformers) (3.4.1)\n",
            "Requirement already satisfied: transformers<4.21.0,>=3.4.0 in /Users/ellabettison/.pyenv/versions/3.10.0/lib/python3.10/site-packages (from spacy-transformers) (4.20.1)\n",
            "Requirement already satisfied: pathy>=0.3.5 in /Users/ellabettison/.pyenv/versions/3.10.0/lib/python3.10/site-packages (from spacy<4.0.0,>=3.1.3->spacy-transformers) (0.6.2)\n",
            "Requirement already satisfied: spacy-legacy<3.1.0,>=3.0.9 in /Users/ellabettison/.pyenv/versions/3.10.0/lib/python3.10/site-packages (from spacy<4.0.0,>=3.1.3->spacy-transformers) (3.0.10)\n",
            "Requirement already satisfied: pydantic!=1.8,!=1.8.1,<1.10.0,>=1.7.4 in /Users/ellabettison/.pyenv/versions/3.10.0/lib/python3.10/site-packages (from spacy<4.0.0,>=3.1.3->spacy-transformers) (1.8.2)\n",
            "Requirement already satisfied: packaging>=20.0 in /Users/ellabettison/.pyenv/versions/3.10.0/lib/python3.10/site-packages (from spacy<4.0.0,>=3.1.3->spacy-transformers) (21.3)\n",
            "Requirement already satisfied: langcodes<4.0.0,>=3.2.0 in /Users/ellabettison/.pyenv/versions/3.10.0/lib/python3.10/site-packages (from spacy<4.0.0,>=3.1.3->spacy-transformers) (3.3.0)\n",
            "Requirement already satisfied: murmurhash<1.1.0,>=0.28.0 in /Users/ellabettison/.pyenv/versions/3.10.0/lib/python3.10/site-packages (from spacy<4.0.0,>=3.1.3->spacy-transformers) (1.0.8)\n",
            "Requirement already satisfied: thinc<8.2.0,>=8.1.0 in /Users/ellabettison/.pyenv/versions/3.10.0/lib/python3.10/site-packages (from spacy<4.0.0,>=3.1.3->spacy-transformers) (8.1.2)\n",
            "Requirement already satisfied: wasabi<1.1.0,>=0.9.1 in /Users/ellabettison/.pyenv/versions/3.10.0/lib/python3.10/site-packages (from spacy<4.0.0,>=3.1.3->spacy-transformers) (0.10.1)\n",
            "Requirement already satisfied: cymem<2.1.0,>=2.0.2 in /Users/ellabettison/.pyenv/versions/3.10.0/lib/python3.10/site-packages (from spacy<4.0.0,>=3.1.3->spacy-transformers) (2.0.6)\n",
            "Requirement already satisfied: preshed<3.1.0,>=3.0.2 in /Users/ellabettison/.pyenv/versions/3.10.0/lib/python3.10/site-packages (from spacy<4.0.0,>=3.1.3->spacy-transformers) (3.0.7)\n",
            "Requirement already satisfied: tqdm<5.0.0,>=4.38.0 in /Users/ellabettison/.pyenv/versions/3.10.0/lib/python3.10/site-packages (from spacy<4.0.0,>=3.1.3->spacy-transformers) (4.64.1)\n",
            "Requirement already satisfied: setuptools in /Users/ellabettison/.pyenv/versions/3.10.0/lib/python3.10/site-packages (from spacy<4.0.0,>=3.1.3->spacy-transformers) (57.4.0)\n",
            "Requirement already satisfied: jinja2 in /Users/ellabettison/.pyenv/versions/3.10.0/lib/python3.10/site-packages (from spacy<4.0.0,>=3.1.3->spacy-transformers) (3.1.2)\n",
            "Requirement already satisfied: typer<0.5.0,>=0.3.0 in /Users/ellabettison/.pyenv/versions/3.10.0/lib/python3.10/site-packages (from spacy<4.0.0,>=3.1.3->spacy-transformers) (0.3.2)\n",
            "Requirement already satisfied: requests<3.0.0,>=2.13.0 in /Users/ellabettison/.pyenv/versions/3.10.0/lib/python3.10/site-packages (from spacy<4.0.0,>=3.1.3->spacy-transformers) (2.28.1)\n",
            "Requirement already satisfied: numpy>=1.15.0 in /Users/ellabettison/.pyenv/versions/3.10.0/lib/python3.10/site-packages (from spacy<4.0.0,>=3.1.3->spacy-transformers) (1.23.3)\n",
            "Requirement already satisfied: spacy-loggers<2.0.0,>=1.0.0 in /Users/ellabettison/.pyenv/versions/3.10.0/lib/python3.10/site-packages (from spacy<4.0.0,>=3.1.3->spacy-transformers) (1.0.3)\n",
            "Requirement already satisfied: catalogue<2.1.0,>=2.0.6 in /Users/ellabettison/.pyenv/versions/3.10.0/lib/python3.10/site-packages (from spacy<4.0.0,>=3.1.3->spacy-transformers) (2.0.8)\n",
            "Requirement already satisfied: typing-extensions in /Users/ellabettison/.pyenv/versions/3.10.0/lib/python3.10/site-packages (from torch>=1.6.0->spacy-transformers) (4.3.0)\n",
            "Requirement already satisfied: tokenizers!=0.11.3,<0.13,>=0.11.1 in /Users/ellabettison/.pyenv/versions/3.10.0/lib/python3.10/site-packages (from transformers<4.21.0,>=3.4.0->spacy-transformers) (0.12.1)\n",
            "Requirement already satisfied: huggingface-hub<1.0,>=0.1.0 in /Users/ellabettison/.pyenv/versions/3.10.0/lib/python3.10/site-packages (from transformers<4.21.0,>=3.4.0->spacy-transformers) (0.10.0)\n",
            "Requirement already satisfied: regex!=2019.12.17 in /Users/ellabettison/.pyenv/versions/3.10.0/lib/python3.10/site-packages (from transformers<4.21.0,>=3.4.0->spacy-transformers) (2022.9.13)\n",
            "Requirement already satisfied: pyyaml>=5.1 in /Users/ellabettison/.pyenv/versions/3.10.0/lib/python3.10/site-packages (from transformers<4.21.0,>=3.4.0->spacy-transformers) (6.0)\n",
            "Requirement already satisfied: filelock in /Users/ellabettison/.pyenv/versions/3.10.0/lib/python3.10/site-packages (from transformers<4.21.0,>=3.4.0->spacy-transformers) (3.8.0)\n",
            "Requirement already satisfied: pyparsing!=3.0.5,>=2.0.2 in /Users/ellabettison/.pyenv/versions/3.10.0/lib/python3.10/site-packages (from packaging>=20.0->spacy<4.0.0,>=3.1.3->spacy-transformers) (3.0.9)\n",
            "Requirement already satisfied: smart-open<6.0.0,>=5.2.1 in /Users/ellabettison/.pyenv/versions/3.10.0/lib/python3.10/site-packages (from pathy>=0.3.5->spacy<4.0.0,>=3.1.3->spacy-transformers) (5.2.1)\n",
            "Requirement already satisfied: certifi>=2017.4.17 in /Users/ellabettison/.pyenv/versions/3.10.0/lib/python3.10/site-packages (from requests<3.0.0,>=2.13.0->spacy<4.0.0,>=3.1.3->spacy-transformers) (2022.9.24)\n",
            "Requirement already satisfied: charset-normalizer<3,>=2 in /Users/ellabettison/.pyenv/versions/3.10.0/lib/python3.10/site-packages (from requests<3.0.0,>=2.13.0->spacy<4.0.0,>=3.1.3->spacy-transformers) (2.1.1)\n",
            "Requirement already satisfied: idna<4,>=2.5 in /Users/ellabettison/.pyenv/versions/3.10.0/lib/python3.10/site-packages (from requests<3.0.0,>=2.13.0->spacy<4.0.0,>=3.1.3->spacy-transformers) (3.4)\n",
            "Requirement already satisfied: urllib3<1.27,>=1.21.1 in /Users/ellabettison/.pyenv/versions/3.10.0/lib/python3.10/site-packages (from requests<3.0.0,>=2.13.0->spacy<4.0.0,>=3.1.3->spacy-transformers) (1.26.12)\n",
            "Requirement already satisfied: confection<1.0.0,>=0.0.1 in /Users/ellabettison/.pyenv/versions/3.10.0/lib/python3.10/site-packages (from thinc<8.2.0,>=8.1.0->spacy<4.0.0,>=3.1.3->spacy-transformers) (0.0.2)\n",
            "Requirement already satisfied: blis<0.8.0,>=0.7.8 in /Users/ellabettison/.pyenv/versions/3.10.0/lib/python3.10/site-packages (from thinc<8.2.0,>=8.1.0->spacy<4.0.0,>=3.1.3->spacy-transformers) (0.7.8)\n",
            "Requirement already satisfied: click<7.2.0,>=7.1.1 in /Users/ellabettison/.pyenv/versions/3.10.0/lib/python3.10/site-packages (from typer<0.5.0,>=0.3.0->spacy<4.0.0,>=3.1.3->spacy-transformers) (7.1.2)\n",
            "Requirement already satisfied: MarkupSafe>=2.0 in /Users/ellabettison/.pyenv/versions/3.10.0/lib/python3.10/site-packages (from jinja2->spacy<4.0.0,>=3.1.3->spacy-transformers) (2.1.1)\n"
          ]
        }
      ],
      "source": [
        "!pip install spacy-transformers"
      ]
    },
    {
      "cell_type": "code",
      "execution_count": 8,
      "metadata": {},
      "outputs": [
        {
          "name": "stdout",
          "output_type": "stream",
          "text": [
            "/Users/ellabettison/.pyenv/versions/3.10.0/bin/python: No module named transformers.__main__; 'transformers' is a package and cannot be directly executed\n"
          ]
        }
      ],
      "source": [
        "!python -m transformers download nlpaueb/legal-bert-base-uncased"
      ]
    },
    {
      "cell_type": "code",
      "execution_count": 9,
      "metadata": {
        "colab": {
          "base_uri": "https://localhost:8080/"
        },
        "id": "kUiQC2VzfMMQ",
        "outputId": "d5d8f00c-0574-42b3-9a54-982ef469ab2a"
      },
      "outputs": [],
      "source": [
        "# from google.colab import drive\n",
        "#drive.mount('/content/drive')"
      ]
    },
    {
      "cell_type": "code",
      "execution_count": 10,
      "metadata": {
        "id": "brkVXlgz8JWb"
      },
      "outputs": [],
      "source": [
        "# auto fill config from base config\n",
        "#!python -m spacy init fill-config drive/MyDrive/base_config.cfg drive/MyDrive/config.cfg\n",
        "\n",
        "# download config file config.cfg\n",
        "# delete file from workspace 'content'\n",
        "# manually update max_epochs in the file from 0 to 90\n",
        "# upload file\n",
        "\n",
        "# copy config file from MyDrive\n",
        "#!cp /content/drive/MyDrive/config.cfg /content/"
      ]
    },
    {
      "cell_type": "code",
      "execution_count": 11,
      "metadata": {
        "id": "kljVmkZY3GdK"
      },
      "outputs": [],
      "source": [
        "import time\n",
        "start = time.time()\n",
        "# starting at 15:18\n",
        "# (~2.5hrs tot)"
      ]
    },
    {
      "cell_type": "code",
      "execution_count": 37,
      "metadata": {},
      "outputs": [
        {
          "name": "stdout",
          "output_type": "stream",
          "text": [
            "\u001b[38;5;4mℹ Saving to output directory: output\u001b[0m\n",
            "\u001b[38;5;4mℹ Using CPU\u001b[0m\n",
            "\u001b[1m\n",
            "=========================== Initializing pipeline ===========================\u001b[0m\n",
            "[2022-10-10 10:34:39,488] [INFO] Set up nlp object from config\n",
            "[2022-10-10 10:34:39,508] [INFO] Pipeline: ['tok2vec', 'transformer', 'spancat']\n",
            "[2022-10-10 10:34:39,508] [INFO] Resuming training for: ['tok2vec']\n",
            "[2022-10-10 10:34:39,516] [INFO] Created vocabulary\n",
            "[2022-10-10 10:34:39,518] [INFO] Finished initializing nlp object\n",
            "Some weights of the model checkpoint at nlpaueb/legal-bert-base-uncased were not used when initializing BertModel: ['cls.seq_relationship.bias', 'cls.predictions.transform.LayerNorm.bias', 'cls.predictions.transform.dense.weight', 'cls.predictions.decoder.weight', 'cls.predictions.transform.LayerNorm.weight', 'cls.seq_relationship.weight', 'cls.predictions.decoder.bias', 'cls.predictions.bias', 'cls.predictions.transform.dense.bias']\n",
            "- This IS expected if you are initializing BertModel from the checkpoint of a model trained on another task or with another architecture (e.g. initializing a BertForSequenceClassification model from a BertForPreTraining model).\n",
            "- This IS NOT expected if you are initializing BertModel from the checkpoint of a model that you expect to be exactly identical (initializing a BertForSequenceClassification model from a BertForSequenceClassification model).\n",
            "/Users/ellabettison/.pyenv/versions/3.10.0/lib/python3.10/site-packages/torch/amp/autocast_mode.py:198: UserWarning: User provided device_type of 'cuda', but CUDA is not available. Disabling\n",
            "  warnings.warn('User provided device_type of \\'cuda\\', but CUDA is not available. Disabling')\n",
            "[2022-10-10 10:34:50,295] [INFO] Initialized pipeline components: ['transformer', 'spancat']\n",
            "\u001b[38;5;2m✔ Initialized pipeline\u001b[0m\n",
            "\u001b[1m\n",
            "============================= Training pipeline =============================\u001b[0m\n",
            "\u001b[38;5;4mℹ Pipeline: ['tok2vec', 'transformer', 'spancat']\u001b[0m\n",
            "\u001b[38;5;4mℹ Initial learn rate: 0.001\u001b[0m\n",
            "E    #       LOSS TOK2VEC  LOSS TRANS...  LOSS SPANCAT  SPANS_SC_F  SPANS_SC_P  SPANS_SC_R  SCORE \n",
            "---  ------  ------------  -------------  ------------  ----------  ----------  ----------  ------\n",
            "  0       0         69.71           0.00        285.03        5.38        2.99       26.48    0.05\n",
            "  2     200        328.88           0.00       4412.78       73.22       80.50       67.15    0.73\n",
            "  6     400        158.45           0.00       1802.16       77.26       83.24       72.09    0.77\n",
            " 10     600        124.81           0.00       1012.10       79.86       86.73       74.00    0.80\n",
            " 16     800         90.35           0.00        686.96       81.09       84.08       78.31    0.81\n",
            " 22    1000         71.11           0.00        530.04       79.97       83.51       76.71    0.80\n",
            " 30    1200         49.40           0.00        366.63       81.70       85.39       78.31    0.82\n",
            " 40    1400         44.15           0.00        327.09       82.24       84.89       79.74    0.82\n",
            " 52    1600         34.79           0.00        319.46       80.88       85.71       76.56    0.81\n",
            " 66    1800         28.48           0.00        331.42       82.10       85.89       78.63    0.82\n",
            " 84    2000         33.30           0.00        353.93       81.27       85.02       77.83    0.81\n",
            "\u001b[38;5;2m✔ Saved pipeline to output directory\u001b[0m\n",
            "output/model-last\n"
          ]
        }
      ],
      "source": [
        "!python -m spacy train ../spacy_data/config.cfg --output ./output --paths.train ../spacy_data/train.spacy --paths.dev ../spacy_data/dev.spacy\n"
      ]
    },
    {
      "cell_type": "code",
      "execution_count": 13,
      "metadata": {
        "colab": {
          "base_uri": "https://localhost:8080/"
        },
        "id": "vig0fA1x8JY6",
        "outputId": "347b0722-c490-4b7e-f1b9-dfbba6b9d0ba"
      },
      "outputs": [],
      "source": [
        "#!python -m spacy train /content/drive/MyDrive/spacy_data/config.cfg --output ./output --paths.train drive/MyDrive/spacy_data/train.spacy --paths.dev drive/MyDrive/spacy_data/dev.spacy\n",
        "# --gpu-id 0"
      ]
    },
    {
      "cell_type": "code",
      "execution_count": 14,
      "metadata": {
        "colab": {
          "base_uri": "https://localhost:8080/"
        },
        "id": "MutRUI6hrbb-",
        "outputId": "bf988ee3-2c4c-448e-b57d-a579f224d460"
      },
      "outputs": [
        {
          "name": "stdout",
          "output_type": "stream",
          "text": [
            "training time: 0.0hrs\n"
          ]
        }
      ],
      "source": [
        "end = time.time()\n",
        "t_time = end - start\n",
        "print('training time: {}hrs'.format(round(t_time/3600, 1)))"
      ]
    },
    {
      "cell_type": "code",
      "execution_count": 15,
      "metadata": {
        "id": "zbHDf_3vvM-c"
      },
      "outputs": [],
      "source": [
        "# move best and/or last model to MyDrive\n",
        "#!cp -r /content/output/model-best /content/drive/MyDrive/\n",
        "#!cp -r /content/output/model-last /content/drive/MyDrive/"
      ]
    },
    {
      "cell_type": "code",
      "execution_count": 16,
      "metadata": {},
      "outputs": [
        {
          "name": "stdout",
          "output_type": "stream",
          "text": [
            "cp: /model-best: Read-only file system\n",
            "cp: output/model-best: unable to copy extended attributes to /model-best: Read-only file system\n",
            "cp: /model-best/tokenizer: No such file or directory\n",
            "cp: /model-best/transformer: No such file or directory\n",
            "cp: output/model-best/transformer: unable to copy extended attributes to /model-best/transformer: No such file or directory\n",
            "cp: /model-best/transformer/cfg: No such file or directory\n",
            "cp: /model-best/transformer/model: No such file or directory\n",
            "cp: /model-best/vocab: No such file or directory\n",
            "cp: output/model-best/vocab: unable to copy extended attributes to /model-best/vocab: No such file or directory\n",
            "cp: /model-best/vocab/vectors: No such file or directory\n",
            "cp: /model-best/vocab/lookups.bin: No such file or directory\n",
            "cp: /model-best/vocab/strings.json: No such file or directory\n",
            "cp: /model-best/vocab/key2row: No such file or directory\n",
            "cp: /model-best/vocab/vectors.cfg: No such file or directory\n",
            "cp: /model-best/config.cfg: No such file or directory\n",
            "cp: /model-best/tok2vec: No such file or directory\n",
            "cp: output/model-best/tok2vec: unable to copy extended attributes to /model-best/tok2vec: No such file or directory\n",
            "cp: /model-best/tok2vec/cfg: No such file or directory\n",
            "cp: /model-best/tok2vec/model: No such file or directory\n",
            "cp: /model-best/spancat: No such file or directory\n",
            "cp: output/model-best/spancat: unable to copy extended attributes to /model-best/spancat: No such file or directory\n",
            "cp: /model-best/spancat/cfg: No such file or directory\n",
            "cp: /model-best/spancat/model: No such file or directory\n",
            "cp: /model-best/meta.json: No such file or directory\n",
            "cp: /model-last: Read-only file system\n",
            "cp: output/model-last: unable to copy extended attributes to /model-last: Read-only file system\n",
            "cp: /model-last/tokenizer: No such file or directory\n",
            "cp: /model-last/transformer: No such file or directory\n",
            "cp: output/model-last/transformer: unable to copy extended attributes to /model-last/transformer: No such file or directory\n",
            "cp: /model-last/transformer/cfg: No such file or directory\n",
            "cp: /model-last/transformer/model: No such file or directory\n",
            "cp: /model-last/vocab: No such file or directory\n",
            "cp: output/model-last/vocab: unable to copy extended attributes to /model-last/vocab: No such file or directory\n",
            "cp: /model-last/vocab/vectors: No such file or directory\n",
            "cp: /model-last/vocab/lookups.bin: No such file or directory\n",
            "cp: /model-last/vocab/strings.json: No such file or directory\n",
            "cp: /model-last/vocab/key2row: No such file or directory\n",
            "cp: /model-last/vocab/vectors.cfg: No such file or directory\n",
            "cp: /model-last/config.cfg: No such file or directory\n",
            "cp: /model-last/tok2vec: No such file or directory\n",
            "cp: output/model-last/tok2vec: unable to copy extended attributes to /model-last/tok2vec: No such file or directory\n",
            "cp: /model-last/tok2vec/cfg: No such file or directory\n",
            "cp: /model-last/tok2vec/model: No such file or directory\n",
            "cp: /model-last/spancat: No such file or directory\n",
            "cp: output/model-last/spancat: unable to copy extended attributes to /model-last/spancat: No such file or directory\n",
            "cp: /model-last/spancat/cfg: No such file or directory\n",
            "cp: /model-last/spancat/model: No such file or directory\n",
            "cp: /model-last/meta.json: No such file or directory\n"
          ]
        }
      ],
      "source": [
        "!cp -r output/model-best /\n",
        "!cp -r output/model-last /"
      ]
    },
    {
      "cell_type": "code",
      "execution_count": 17,
      "metadata": {},
      "outputs": [
        {
          "name": "stdout",
          "output_type": "stream",
          "text": [
            "\u001b[38;5;4mℹ Using CPU\u001b[0m\n",
            "/Users/ellabettison/.pyenv/versions/3.10.0/lib/python3.10/site-packages/torch/amp/autocast_mode.py:198: UserWarning: User provided device_type of 'cuda', but CUDA is not available. Disabling\n",
            "  warnings.warn('User provided device_type of \\'cuda\\', but CUDA is not available. Disabling')\n",
            "\u001b[1m\n",
            "================================== Results ==================================\u001b[0m\n",
            "\n",
            "TOK      100.00\n",
            "SPAN P   84.89 \n",
            "SPAN R   79.74 \n",
            "SPAN F   82.24 \n",
            "SPEED    69    \n",
            "\n",
            "\u001b[1m\n",
            "============================== SPANS (per type) ==============================\u001b[0m\n",
            "\n",
            "           P        R        F\n",
            "ID     81.60    87.55    84.47\n",
            "ACR    95.35    80.39    87.23\n",
            "IND    77.78    70.79    74.12\n",
            "STP   100.00   100.00   100.00\n",
            "LEG    95.74    93.75    94.74\n",
            "LOC    90.20    77.97    83.64\n",
            "PER    54.55    31.58    40.00\n",
            "STR   100.00    88.89    94.12\n",
            "ORG    88.64    76.47    82.11\n",
            "NAT    85.71   100.00    92.31\n",
            "SCP   100.00    80.00    88.89\n",
            "COL   100.00    33.33    50.00\n",
            "MOD   100.00    50.00    66.67\n",
            "\n"
          ]
        }
      ],
      "source": [
        "!python -m spacy evaluate output/model-best ../spacy_data/dev.spacy"
      ]
    },
    {
      "cell_type": "code",
      "execution_count": 18,
      "metadata": {
        "colab": {
          "base_uri": "https://localhost:8080/"
        },
        "id": "XvcP7aPUhhky",
        "outputId": "6c7fed09-1814-45c4-e3fd-f07d9517f419"
      },
      "outputs": [],
      "source": [
        "# get evaluation metrics from BEST MODEL:\n",
        "#!python -m spacy evaluate /content/drive/MyDrive/model-best drive/MyDrive/spacy_data/dev.spacy"
      ]
    },
    {
      "cell_type": "code",
      "execution_count": 19,
      "metadata": {
        "id": "swiPy4dGdxc2"
      },
      "outputs": [],
      "source": [
        "# --------------------------------------------------------------------------------------------------------------------"
      ]
    },
    {
      "cell_type": "code",
      "execution_count": null,
      "metadata": {
        "id": "yS1YQ--lZLkS"
      },
      "outputs": [],
      "source": []
    },
    {
      "cell_type": "code",
      "execution_count": null,
      "metadata": {},
      "outputs": [],
      "source": []
    },
    {
      "cell_type": "code",
      "execution_count": 20,
      "metadata": {
        "colab": {
          "base_uri": "https://localhost:8080/"
        },
        "id": "PawSg8XGsKyP",
        "outputId": "6b85c5ab-8a82-4eca-f6ad-a146cce66a6a"
      },
      "outputs": [
        {
          "name": "stdout",
          "output_type": "stream",
          "text": [
            "Python 3.10.0\n"
          ]
        }
      ],
      "source": [
        "!python --version"
      ]
    },
    {
      "cell_type": "code",
      "execution_count": 21,
      "metadata": {
        "colab": {
          "base_uri": "https://localhost:8080/",
          "height": 36
        },
        "id": "9l4VtX-YIC39",
        "outputId": "c5edf690-2ed9-4c1e-8cbc-d40aa95b0cf1"
      },
      "outputs": [
        {
          "data": {
            "text/plain": [
              "'macosx-10.15-x86_64'"
            ]
          },
          "execution_count": 21,
          "metadata": {},
          "output_type": "execute_result"
        }
      ],
      "source": [
        "import sysconfig\n",
        "sysconfig.get_platform()"
      ]
    },
    {
      "cell_type": "code",
      "execution_count": 22,
      "metadata": {
        "colab": {
          "base_uri": "https://localhost:8080/"
        },
        "id": "7acDtwtPEtGB",
        "outputId": "0bca3307-c0cf-4c67-e4d4-8c2f67a93dce"
      },
      "outputs": [
        {
          "name": "stdout",
          "output_type": "stream",
          "text": [
            "usage: cp [-R [-H | -L | -P]] [-fi | -n] [-apvXc] source_file target_file\n",
            "       cp [-R [-H | -L | -P]] [-fi | -n] [-apvXc] source_file ... target_directory\n"
          ]
        }
      ],
      "source": [
        "# copy prodigy wheel files to session contents\n",
        "!cp /content/drive/MyDrive/linux_prodigy_wheels/ -r /content/"
      ]
    },
    {
      "cell_type": "code",
      "execution_count": 23,
      "metadata": {
        "colab": {
          "base_uri": "https://localhost:8080/"
        },
        "id": "fyonsc9FIqfx",
        "outputId": "dcf348c1-6ed2-42ae-d2b7-16df1d56931b"
      },
      "outputs": [
        {
          "name": "stdout",
          "output_type": "stream",
          "text": [
            "\u001b[33mWARNING: Requirement 'linux_prodigy_wheels/prodigy-1.11.7-cp37-cp37m-linux_x86_64.whl' looks like a filename, but the file does not exist\u001b[0m\u001b[33m\n",
            "\u001b[0m\u001b[31mERROR: prodigy-1.11.7-cp37-cp37m-linux_x86_64.whl is not a supported wheel on this platform.\u001b[0m\u001b[31m\n",
            "\u001b[0m"
          ]
        }
      ],
      "source": [
        "!pip install linux_prodigy_wheels/prodigy-1.11.7-cp37-cp37m-linux_x86_64.whl"
      ]
    },
    {
      "cell_type": "code",
      "execution_count": 24,
      "metadata": {
        "colab": {
          "base_uri": "https://localhost:8080/"
        },
        "id": "6tKk1HnjI45l",
        "outputId": "c6e98af5-857e-4fc3-bf1c-be154618407a"
      },
      "outputs": [
        {
          "name": "stdout",
          "output_type": "stream",
          "text": [
            "Name: prodigy\n",
            "Version: 1.11.7\n",
            "Summary: Radically efficient machine teaching.\n",
            "Home-page: https://prodi.gy\n",
            "Author: Explosion\n",
            "Author-email: contact@explosion.ai\n",
            "License: All rights reserved\n",
            "Location: /Users/ellabettison/.pyenv/versions/3.10.0/lib/python3.10/site-packages\n",
            "Requires: aiofiles, cachetools, catalogue, fastapi, peewee, plac, pydantic, pyjwt, requests, spacy, srsly, toolz, uvicorn, wasabi\n",
            "Required-by: \n",
            "Note: you may need to restart the kernel to use updated packages.\n"
          ]
        }
      ],
      "source": [
        "pip show prodigy"
      ]
    },
    {
      "cell_type": "code",
      "execution_count": 25,
      "metadata": {
        "colab": {
          "base_uri": "https://localhost:8080/"
        },
        "id": "42jEb0OjKV3S",
        "outputId": "8b30dc10-6b0c-43e3-f8a1-e1ac5aaee72e"
      },
      "outputs": [
        {
          "name": "stdout",
          "output_type": "stream",
          "text": [
            "cp: directory /content does not exist\n"
          ]
        }
      ],
      "source": [
        "# copy prodigy dataset to session contents\n",
        "!cp /content/drive/MyDrive/jobs_hyphen_ext.jsonl /content/"
      ]
    },
    {
      "cell_type": "code",
      "execution_count": 26,
      "metadata": {
        "colab": {
          "base_uri": "https://localhost:8080/"
        },
        "id": "vfoZQI8VLjk0",
        "outputId": "29137b2f-188b-44ff-93e1-610fe44dac10"
      },
      "outputs": [
        {
          "name": "stdout",
          "output_type": "stream",
          "text": [
            "\u001b[1m\n",
            "============================== ✨  Prodigy Stats ==============================\u001b[0m\n",
            "\n",
            "Version          1.11.7                        \n",
            "Location         /Users/ellabettison/.pyenv/versions/3.10.0/lib/python3.10/site-packages/prodigy\n",
            "Prodigy Home     /Users/ellabettison/.prodigy  \n",
            "Platform         macOS-10.15.7-x86_64-i386-64bit\n",
            "Python Version   3.10.0                        \n",
            "Database Name    SQLite                        \n",
            "Database Id      sqlite                        \n",
            "Total Datasets   9                             \n",
            "Total Sessions   40                            \n",
            "\n",
            "\u001b[1m\n",
            "================================ ✨  Datasets ================================\u001b[0m\n",
            "\n",
            "company_names_tokenised_prodigy, company_names_tokenised,\n",
            "company_names_tokenised_spanish, company_names_tokenised_review,\n",
            "company_names_reviewed, company_pairs_tokenised, company_names_auto,\n",
            "company_pairs_auto, company_names_didemo_auto\n",
            "\n"
          ]
        }
      ],
      "source": [
        "!prodigy stats -l"
      ]
    },
    {
      "cell_type": "code",
      "execution_count": 27,
      "metadata": {
        "colab": {
          "base_uri": "https://localhost:8080/"
        },
        "id": "E0DvZ38jLPfY",
        "outputId": "5b479536-0ac5-45b3-856a-047351a43d8d"
      },
      "outputs": [
        {
          "name": "stdout",
          "output_type": "stream",
          "text": [
            "\n",
            "\u001b[38;5;1m✘ Not a valid input file\u001b[0m\n",
            "jobs_hyphen_ext.jsonl\n",
            "\n"
          ]
        }
      ],
      "source": [
        "# !prodigy db-in jobs_re_reviewed jobs_re_reviewed.jsonl\n",
        "!prodigy db-in hyphen_extended_2 jobs_hyphen_ext.jsonl"
      ]
    },
    {
      "cell_type": "code",
      "execution_count": 28,
      "metadata": {
        "colab": {
          "base_uri": "https://localhost:8080/"
        },
        "id": "wOIozsguLt-N",
        "outputId": "fcbfc75c-3c15-401e-f0e0-afbe8fdf24ce"
      },
      "outputs": [
        {
          "name": "stdout",
          "output_type": "stream",
          "text": [
            "\u001b[1m\n",
            "============================== ✨  Prodigy Stats ==============================\u001b[0m\n",
            "\n",
            "Version          1.11.7                        \n",
            "Location         /Users/ellabettison/.pyenv/versions/3.10.0/lib/python3.10/site-packages/prodigy\n",
            "Prodigy Home     /Users/ellabettison/.prodigy  \n",
            "Platform         macOS-10.15.7-x86_64-i386-64bit\n",
            "Python Version   3.10.0                        \n",
            "Database Name    SQLite                        \n",
            "Database Id      sqlite                        \n",
            "Total Datasets   9                             \n",
            "Total Sessions   40                            \n",
            "\n",
            "\u001b[1m\n",
            "================================ ✨  Datasets ================================\u001b[0m\n",
            "\n",
            "company_names_tokenised_prodigy, company_names_tokenised,\n",
            "company_names_tokenised_spanish, company_names_tokenised_review,\n",
            "company_names_reviewed, company_pairs_tokenised, company_names_auto,\n",
            "company_pairs_auto, company_names_didemo_auto\n",
            "\n"
          ]
        }
      ],
      "source": [
        "!prodigy stats -l"
      ]
    },
    {
      "cell_type": "code",
      "execution_count": 29,
      "metadata": {
        "colab": {
          "base_uri": "https://localhost:8080/",
          "height": 1000
        },
        "id": "xwY3BWgyLu_c",
        "outputId": "041e42b0-ced0-4008-8454-10253722d26c"
      },
      "outputs": [
        {
          "name": "stdout",
          "output_type": "stream",
          "text": [
            "Collecting spacy==3.1.1\n",
            "  Using cached spacy-3.1.1-cp310-cp310-macosx_10_15_x86_64.whl\n",
            "Requirement already satisfied: preshed<3.1.0,>=3.0.2 in /Users/ellabettison/.pyenv/versions/3.10.0/lib/python3.10/site-packages (from spacy==3.1.1) (3.0.7)\n",
            "Requirement already satisfied: wasabi<1.1.0,>=0.8.1 in /Users/ellabettison/.pyenv/versions/3.10.0/lib/python3.10/site-packages (from spacy==3.1.1) (0.10.1)\n",
            "Requirement already satisfied: catalogue<2.1.0,>=2.0.4 in /Users/ellabettison/.pyenv/versions/3.10.0/lib/python3.10/site-packages (from spacy==3.1.1) (2.0.8)\n",
            "Requirement already satisfied: srsly<3.0.0,>=2.4.1 in /Users/ellabettison/.pyenv/versions/3.10.0/lib/python3.10/site-packages (from spacy==3.1.1) (2.4.4)\n",
            "Requirement already satisfied: pathy>=0.3.5 in /Users/ellabettison/.pyenv/versions/3.10.0/lib/python3.10/site-packages (from spacy==3.1.1) (0.6.2)\n",
            "Requirement already satisfied: numpy>=1.15.0 in /Users/ellabettison/.pyenv/versions/3.10.0/lib/python3.10/site-packages (from spacy==3.1.1) (1.23.3)\n",
            "Requirement already satisfied: setuptools in /Users/ellabettison/.pyenv/versions/3.10.0/lib/python3.10/site-packages (from spacy==3.1.1) (57.4.0)\n",
            "Requirement already satisfied: spacy-legacy<3.1.0,>=3.0.7 in /Users/ellabettison/.pyenv/versions/3.10.0/lib/python3.10/site-packages (from spacy==3.1.1) (3.0.10)\n",
            "Requirement already satisfied: packaging>=20.0 in /Users/ellabettison/.pyenv/versions/3.10.0/lib/python3.10/site-packages (from spacy==3.1.1) (21.3)\n",
            "Collecting thinc<8.1.0,>=8.0.8\n",
            "  Using cached thinc-8.0.17-cp310-cp310-macosx_10_9_x86_64.whl (648 kB)\n",
            "Requirement already satisfied: cymem<2.1.0,>=2.0.2 in /Users/ellabettison/.pyenv/versions/3.10.0/lib/python3.10/site-packages (from spacy==3.1.1) (2.0.6)\n",
            "Requirement already satisfied: pydantic!=1.8,!=1.8.1,<1.9.0,>=1.7.4 in /Users/ellabettison/.pyenv/versions/3.10.0/lib/python3.10/site-packages (from spacy==3.1.1) (1.8.2)\n",
            "Requirement already satisfied: jinja2 in /Users/ellabettison/.pyenv/versions/3.10.0/lib/python3.10/site-packages (from spacy==3.1.1) (3.1.2)\n",
            "Requirement already satisfied: requests<3.0.0,>=2.13.0 in /Users/ellabettison/.pyenv/versions/3.10.0/lib/python3.10/site-packages (from spacy==3.1.1) (2.28.1)\n",
            "Requirement already satisfied: murmurhash<1.1.0,>=0.28.0 in /Users/ellabettison/.pyenv/versions/3.10.0/lib/python3.10/site-packages (from spacy==3.1.1) (1.0.8)\n",
            "Requirement already satisfied: typer<0.4.0,>=0.3.0 in /Users/ellabettison/.pyenv/versions/3.10.0/lib/python3.10/site-packages (from spacy==3.1.1) (0.3.2)\n",
            "Requirement already satisfied: tqdm<5.0.0,>=4.38.0 in /Users/ellabettison/.pyenv/versions/3.10.0/lib/python3.10/site-packages (from spacy==3.1.1) (4.64.1)\n",
            "Requirement already satisfied: blis<0.8.0,>=0.4.0 in /Users/ellabettison/.pyenv/versions/3.10.0/lib/python3.10/site-packages (from spacy==3.1.1) (0.7.8)\n",
            "Requirement already satisfied: pyparsing!=3.0.5,>=2.0.2 in /Users/ellabettison/.pyenv/versions/3.10.0/lib/python3.10/site-packages (from packaging>=20.0->spacy==3.1.1) (3.0.9)\n",
            "Requirement already satisfied: smart-open<6.0.0,>=5.2.1 in /Users/ellabettison/.pyenv/versions/3.10.0/lib/python3.10/site-packages (from pathy>=0.3.5->spacy==3.1.1) (5.2.1)\n",
            "Requirement already satisfied: typing-extensions>=3.7.4.3 in /Users/ellabettison/.pyenv/versions/3.10.0/lib/python3.10/site-packages (from pydantic!=1.8,!=1.8.1,<1.9.0,>=1.7.4->spacy==3.1.1) (4.3.0)\n",
            "Requirement already satisfied: idna<4,>=2.5 in /Users/ellabettison/.pyenv/versions/3.10.0/lib/python3.10/site-packages (from requests<3.0.0,>=2.13.0->spacy==3.1.1) (3.4)\n",
            "Requirement already satisfied: certifi>=2017.4.17 in /Users/ellabettison/.pyenv/versions/3.10.0/lib/python3.10/site-packages (from requests<3.0.0,>=2.13.0->spacy==3.1.1) (2022.9.24)\n",
            "Requirement already satisfied: charset-normalizer<3,>=2 in /Users/ellabettison/.pyenv/versions/3.10.0/lib/python3.10/site-packages (from requests<3.0.0,>=2.13.0->spacy==3.1.1) (2.1.1)\n",
            "Requirement already satisfied: urllib3<1.27,>=1.21.1 in /Users/ellabettison/.pyenv/versions/3.10.0/lib/python3.10/site-packages (from requests<3.0.0,>=2.13.0->spacy==3.1.1) (1.26.12)\n",
            "Requirement already satisfied: click<7.2.0,>=7.1.1 in /Users/ellabettison/.pyenv/versions/3.10.0/lib/python3.10/site-packages (from typer<0.4.0,>=0.3.0->spacy==3.1.1) (7.1.2)\n",
            "Requirement already satisfied: MarkupSafe>=2.0 in /Users/ellabettison/.pyenv/versions/3.10.0/lib/python3.10/site-packages (from jinja2->spacy==3.1.1) (2.1.1)\n",
            "Installing collected packages: thinc, spacy\n",
            "  Attempting uninstall: thinc\n",
            "    Found existing installation: thinc 8.1.2\n",
            "    Uninstalling thinc-8.1.2:\n",
            "      Successfully uninstalled thinc-8.1.2\n",
            "  Attempting uninstall: spacy\n",
            "    Found existing installation: spacy 3.4.1\n",
            "    Uninstalling spacy-3.4.1:\n",
            "      Successfully uninstalled spacy-3.4.1\n",
            "\u001b[31mERROR: pip's dependency resolver does not currently take into account all the packages that are installed. This behaviour is the source of the following dependency conflicts.\n",
            "spacy-transformers 1.1.7 requires spacy<4.0.0,>=3.1.3, but you have spacy 3.1.1 which is incompatible.\n",
            "en-core-web-trf 3.4.0 requires spacy<3.5.0,>=3.4.0, but you have spacy 3.1.1 which is incompatible.\n",
            "en-core-web-sm 3.4.0 requires spacy<3.5.0,>=3.4.0, but you have spacy 3.1.1 which is incompatible.\n",
            "en-core-web-lg 3.4.0 requires spacy<3.5.0,>=3.4.0, but you have spacy 3.1.1 which is incompatible.\u001b[0m\u001b[31m\n",
            "\u001b[0mSuccessfully installed spacy-3.1.1 thinc-8.0.17\n"
          ]
        }
      ],
      "source": [
        "!pip install spacy==3.1.1"
      ]
    },
    {
      "cell_type": "code",
      "execution_count": 30,
      "metadata": {
        "colab": {
          "base_uri": "https://localhost:8080/",
          "height": 1000
        },
        "id": "3VwwQV_ULu9S",
        "outputId": "8dd3e04b-2a69-4437-d691-157b85a66c62"
      },
      "outputs": [
        {
          "name": "stdout",
          "output_type": "stream",
          "text": [
            "Requirement already satisfied: spacy-transformers in /Users/ellabettison/.pyenv/versions/3.10.0/lib/python3.10/site-packages (1.1.7)\n",
            "Requirement already satisfied: spacy-alignments<1.0.0,>=0.7.2 in /Users/ellabettison/.pyenv/versions/3.10.0/lib/python3.10/site-packages (from spacy-transformers) (0.8.5)\n",
            "Requirement already satisfied: torch>=1.6.0 in /Users/ellabettison/.pyenv/versions/3.10.0/lib/python3.10/site-packages (from spacy-transformers) (1.12.1)\n",
            "Collecting spacy<4.0.0,>=3.1.3\n",
            "  Using cached spacy-3.4.1-cp310-cp310-macosx_10_9_x86_64.whl (6.6 MB)\n",
            "Requirement already satisfied: srsly<3.0.0,>=2.4.0 in /Users/ellabettison/.pyenv/versions/3.10.0/lib/python3.10/site-packages (from spacy-transformers) (2.4.4)\n",
            "Requirement already satisfied: transformers<4.21.0,>=3.4.0 in /Users/ellabettison/.pyenv/versions/3.10.0/lib/python3.10/site-packages (from spacy-transformers) (4.20.1)\n",
            "Requirement already satisfied: catalogue<2.1.0,>=2.0.6 in /Users/ellabettison/.pyenv/versions/3.10.0/lib/python3.10/site-packages (from spacy<4.0.0,>=3.1.3->spacy-transformers) (2.0.8)\n",
            "Requirement already satisfied: packaging>=20.0 in /Users/ellabettison/.pyenv/versions/3.10.0/lib/python3.10/site-packages (from spacy<4.0.0,>=3.1.3->spacy-transformers) (21.3)\n",
            "Collecting thinc<8.2.0,>=8.1.0\n",
            "  Downloading thinc-8.1.3-cp310-cp310-macosx_10_9_x86_64.whl (759 kB)\n",
            "\u001b[2K     \u001b[90m━━━━━━━━━━━━━━━━━━━━━━━━━━━━━━━━━━━━━━━\u001b[0m \u001b[32m759.5/759.5 kB\u001b[0m \u001b[31m2.3 MB/s\u001b[0m eta \u001b[36m0:00:00\u001b[0m00:01\u001b[0m00:01\u001b[0m\n",
            "\u001b[?25hRequirement already satisfied: numpy>=1.15.0 in /Users/ellabettison/.pyenv/versions/3.10.0/lib/python3.10/site-packages (from spacy<4.0.0,>=3.1.3->spacy-transformers) (1.23.3)\n",
            "Requirement already satisfied: tqdm<5.0.0,>=4.38.0 in /Users/ellabettison/.pyenv/versions/3.10.0/lib/python3.10/site-packages (from spacy<4.0.0,>=3.1.3->spacy-transformers) (4.64.1)\n",
            "Requirement already satisfied: spacy-loggers<2.0.0,>=1.0.0 in /Users/ellabettison/.pyenv/versions/3.10.0/lib/python3.10/site-packages (from spacy<4.0.0,>=3.1.3->spacy-transformers) (1.0.3)\n",
            "Requirement already satisfied: pydantic!=1.8,!=1.8.1,<1.10.0,>=1.7.4 in /Users/ellabettison/.pyenv/versions/3.10.0/lib/python3.10/site-packages (from spacy<4.0.0,>=3.1.3->spacy-transformers) (1.8.2)\n",
            "Requirement already satisfied: spacy-legacy<3.1.0,>=3.0.9 in /Users/ellabettison/.pyenv/versions/3.10.0/lib/python3.10/site-packages (from spacy<4.0.0,>=3.1.3->spacy-transformers) (3.0.10)\n",
            "Requirement already satisfied: preshed<3.1.0,>=3.0.2 in /Users/ellabettison/.pyenv/versions/3.10.0/lib/python3.10/site-packages (from spacy<4.0.0,>=3.1.3->spacy-transformers) (3.0.7)\n",
            "Requirement already satisfied: pathy>=0.3.5 in /Users/ellabettison/.pyenv/versions/3.10.0/lib/python3.10/site-packages (from spacy<4.0.0,>=3.1.3->spacy-transformers) (0.6.2)\n",
            "Requirement already satisfied: murmurhash<1.1.0,>=0.28.0 in /Users/ellabettison/.pyenv/versions/3.10.0/lib/python3.10/site-packages (from spacy<4.0.0,>=3.1.3->spacy-transformers) (1.0.8)\n",
            "Requirement already satisfied: typer<0.5.0,>=0.3.0 in /Users/ellabettison/.pyenv/versions/3.10.0/lib/python3.10/site-packages (from spacy<4.0.0,>=3.1.3->spacy-transformers) (0.3.2)\n",
            "Requirement already satisfied: wasabi<1.1.0,>=0.9.1 in /Users/ellabettison/.pyenv/versions/3.10.0/lib/python3.10/site-packages (from spacy<4.0.0,>=3.1.3->spacy-transformers) (0.10.1)\n",
            "Requirement already satisfied: langcodes<4.0.0,>=3.2.0 in /Users/ellabettison/.pyenv/versions/3.10.0/lib/python3.10/site-packages (from spacy<4.0.0,>=3.1.3->spacy-transformers) (3.3.0)\n",
            "Requirement already satisfied: setuptools in /Users/ellabettison/.pyenv/versions/3.10.0/lib/python3.10/site-packages (from spacy<4.0.0,>=3.1.3->spacy-transformers) (57.4.0)\n",
            "Requirement already satisfied: jinja2 in /Users/ellabettison/.pyenv/versions/3.10.0/lib/python3.10/site-packages (from spacy<4.0.0,>=3.1.3->spacy-transformers) (3.1.2)\n",
            "Requirement already satisfied: requests<3.0.0,>=2.13.0 in /Users/ellabettison/.pyenv/versions/3.10.0/lib/python3.10/site-packages (from spacy<4.0.0,>=3.1.3->spacy-transformers) (2.28.1)\n",
            "Requirement already satisfied: cymem<2.1.0,>=2.0.2 in /Users/ellabettison/.pyenv/versions/3.10.0/lib/python3.10/site-packages (from spacy<4.0.0,>=3.1.3->spacy-transformers) (2.0.6)\n",
            "Requirement already satisfied: typing-extensions in /Users/ellabettison/.pyenv/versions/3.10.0/lib/python3.10/site-packages (from torch>=1.6.0->spacy-transformers) (4.3.0)\n",
            "Requirement already satisfied: regex!=2019.12.17 in /Users/ellabettison/.pyenv/versions/3.10.0/lib/python3.10/site-packages (from transformers<4.21.0,>=3.4.0->spacy-transformers) (2022.9.13)\n",
            "Requirement already satisfied: tokenizers!=0.11.3,<0.13,>=0.11.1 in /Users/ellabettison/.pyenv/versions/3.10.0/lib/python3.10/site-packages (from transformers<4.21.0,>=3.4.0->spacy-transformers) (0.12.1)\n",
            "Requirement already satisfied: filelock in /Users/ellabettison/.pyenv/versions/3.10.0/lib/python3.10/site-packages (from transformers<4.21.0,>=3.4.0->spacy-transformers) (3.8.0)\n",
            "Requirement already satisfied: pyyaml>=5.1 in /Users/ellabettison/.pyenv/versions/3.10.0/lib/python3.10/site-packages (from transformers<4.21.0,>=3.4.0->spacy-transformers) (6.0)\n",
            "Requirement already satisfied: huggingface-hub<1.0,>=0.1.0 in /Users/ellabettison/.pyenv/versions/3.10.0/lib/python3.10/site-packages (from transformers<4.21.0,>=3.4.0->spacy-transformers) (0.10.0)\n",
            "Requirement already satisfied: pyparsing!=3.0.5,>=2.0.2 in /Users/ellabettison/.pyenv/versions/3.10.0/lib/python3.10/site-packages (from packaging>=20.0->spacy<4.0.0,>=3.1.3->spacy-transformers) (3.0.9)\n",
            "Requirement already satisfied: smart-open<6.0.0,>=5.2.1 in /Users/ellabettison/.pyenv/versions/3.10.0/lib/python3.10/site-packages (from pathy>=0.3.5->spacy<4.0.0,>=3.1.3->spacy-transformers) (5.2.1)\n",
            "Requirement already satisfied: charset-normalizer<3,>=2 in /Users/ellabettison/.pyenv/versions/3.10.0/lib/python3.10/site-packages (from requests<3.0.0,>=2.13.0->spacy<4.0.0,>=3.1.3->spacy-transformers) (2.1.1)\n",
            "Requirement already satisfied: certifi>=2017.4.17 in /Users/ellabettison/.pyenv/versions/3.10.0/lib/python3.10/site-packages (from requests<3.0.0,>=2.13.0->spacy<4.0.0,>=3.1.3->spacy-transformers) (2022.9.24)\n",
            "Requirement already satisfied: idna<4,>=2.5 in /Users/ellabettison/.pyenv/versions/3.10.0/lib/python3.10/site-packages (from requests<3.0.0,>=2.13.0->spacy<4.0.0,>=3.1.3->spacy-transformers) (3.4)\n",
            "Requirement already satisfied: urllib3<1.27,>=1.21.1 in /Users/ellabettison/.pyenv/versions/3.10.0/lib/python3.10/site-packages (from requests<3.0.0,>=2.13.0->spacy<4.0.0,>=3.1.3->spacy-transformers) (1.26.12)\n",
            "Requirement already satisfied: confection<1.0.0,>=0.0.1 in /Users/ellabettison/.pyenv/versions/3.10.0/lib/python3.10/site-packages (from thinc<8.2.0,>=8.1.0->spacy<4.0.0,>=3.1.3->spacy-transformers) (0.0.2)\n",
            "Requirement already satisfied: blis<0.8.0,>=0.7.8 in /Users/ellabettison/.pyenv/versions/3.10.0/lib/python3.10/site-packages (from thinc<8.2.0,>=8.1.0->spacy<4.0.0,>=3.1.3->spacy-transformers) (0.7.8)\n",
            "Requirement already satisfied: click<7.2.0,>=7.1.1 in /Users/ellabettison/.pyenv/versions/3.10.0/lib/python3.10/site-packages (from typer<0.5.0,>=0.3.0->spacy<4.0.0,>=3.1.3->spacy-transformers) (7.1.2)\n",
            "Requirement already satisfied: MarkupSafe>=2.0 in /Users/ellabettison/.pyenv/versions/3.10.0/lib/python3.10/site-packages (from jinja2->spacy<4.0.0,>=3.1.3->spacy-transformers) (2.1.1)\n",
            "Installing collected packages: thinc, spacy\n",
            "  Attempting uninstall: thinc\n",
            "    Found existing installation: thinc 8.0.17\n",
            "    Uninstalling thinc-8.0.17:\n",
            "      Successfully uninstalled thinc-8.0.17\n",
            "  Attempting uninstall: spacy\n",
            "    Found existing installation: spacy 3.1.1\n",
            "    Uninstalling spacy-3.1.1:\n",
            "      Successfully uninstalled spacy-3.1.1\n",
            "\u001b[31mERROR: pip's dependency resolver does not currently take into account all the packages that are installed. This behaviour is the source of the following dependency conflicts.\n",
            "prodigy 1.11.7 requires spacy<3.3.0,>=3.1.1, but you have spacy 3.4.1 which is incompatible.\u001b[0m\u001b[31m\n",
            "\u001b[0mSuccessfully installed spacy-3.4.1 thinc-8.1.3\n"
          ]
        }
      ],
      "source": [
        "!pip install spacy-transformers"
      ]
    },
    {
      "cell_type": "code",
      "execution_count": 31,
      "metadata": {
        "colab": {
          "base_uri": "https://localhost:8080/"
        },
        "id": "iPxA91WYsM8W",
        "outputId": "efb074a8-86a0-4a52-d059-28693d3f3113"
      },
      "outputs": [
        {
          "name": "stdout",
          "output_type": "stream",
          "text": [
            "Collecting en-core-web-trf==3.4.0\n",
            "  Downloading https://github.com/explosion/spacy-models/releases/download/en_core_web_trf-3.4.0/en_core_web_trf-3.4.0-py3-none-any.whl (460.3 MB)\n",
            "\u001b[2K     \u001b[91m━━━━━━━━━━━━━━━━━━━━━━━━━━━\u001b[0m\u001b[91m╸\u001b[0m\u001b[90m━━━━━━━━━━\u001b[0m \u001b[32m335.6/460.3 MB\u001b[0m \u001b[31m12.7 MB/s\u001b[0m eta \u001b[36m0:00:10\u001b[0m^C\n",
            "\u001b[2K     \u001b[91m━━━━━━━━━━━━━━━━━━━━━━━━━━━\u001b[0m\u001b[91m╸\u001b[0m\u001b[90m━━━━━━━━━━\u001b[0m \u001b[32m336.4/460.3 MB\u001b[0m \u001b[31m12.5 MB/s\u001b[0m eta \u001b[36m0:00:10\u001b[0m\n",
            "\u001b[?25h\u001b[31mERROR: Operation cancelled by user\u001b[0m\u001b[31m\n",
            "\u001b[0m\n",
            "Aborted!\n"
          ]
        }
      ],
      "source": [
        "!python -m spacy download en_core_web_trf"
      ]
    },
    {
      "cell_type": "code",
      "execution_count": null,
      "metadata": {
        "colab": {
          "base_uri": "https://localhost:8080/"
        },
        "id": "q5b7EYbocnDD",
        "outputId": "cb9c87c4-641c-4a29-92d4-c4c2ea885607"
      },
      "outputs": [
        {
          "name": "stdout",
          "output_type": "stream",
          "text": [
            "Requirement already satisfied: plotext==4.2.0 in /Users/ellabettison/.pyenv/versions/3.10.0/lib/python3.10/site-packages (4.2.0)\n"
          ]
        }
      ],
      "source": [
        "!pip install plotext==4.2.0"
      ]
    },
    {
      "cell_type": "code",
      "execution_count": null,
      "metadata": {
        "id": "iXfPyXfDlnp1"
      },
      "outputs": [
        {
          "name": "stderr",
          "output_type": "stream",
          "text": [
            "/Users/ellabettison/.pyenv/versions/3.10.0/lib/python3.10/site-packages/tqdm/auto.py:22: TqdmWarning: IProgress not found. Please update jupyter and ipywidgets. See https://ipywidgets.readthedocs.io/en/stable/user_install.html\n",
            "  from .autonotebook import tqdm as notebook_tqdm\n"
          ]
        }
      ],
      "source": [
        "import torch"
      ]
    },
    {
      "cell_type": "code",
      "execution_count": null,
      "metadata": {
        "colab": {
          "base_uri": "https://localhost:8080/",
          "height": 323
        },
        "id": "OPV2P90ELu7M",
        "outputId": "59993b5d-1249-48ed-8918-18c4d2d40958"
      },
      "outputs": [
        {
          "ename": "AssertionError",
          "evalue": "Torch not compiled with CUDA enabled",
          "output_type": "error",
          "traceback": [
            "\u001b[0;31m---------------------------------------------------------------------------\u001b[0m",
            "\u001b[0;31mAssertionError\u001b[0m                            Traceback (most recent call last)",
            "Cell \u001b[0;32mIn [24], line 1\u001b[0m\n\u001b[0;32m----> 1\u001b[0m torch\u001b[38;5;241m.\u001b[39mcuda\u001b[38;5;241m.\u001b[39mcurrent_device()\n",
            "File \u001b[0;32m~/.pyenv/versions/3.10.0/lib/python3.10/site-packages/torch/cuda/__init__.py:482\u001b[0m, in \u001b[0;36mcurrent_device\u001b[0;34m()\u001b[0m\n\u001b[1;32m    480\u001b[0m \u001b[39mdef\u001b[39;00m \u001b[39mcurrent_device\u001b[39m() \u001b[39m-\u001b[39m\u001b[39m>\u001b[39m \u001b[39mint\u001b[39m:\n\u001b[1;32m    481\u001b[0m     \u001b[39mr\u001b[39m\u001b[39m\"\"\"Returns the index of a currently selected device.\"\"\"\u001b[39;00m\n\u001b[0;32m--> 482\u001b[0m     _lazy_init()\n\u001b[1;32m    483\u001b[0m     \u001b[39mreturn\u001b[39;00m torch\u001b[39m.\u001b[39m_C\u001b[39m.\u001b[39m_cuda_getDevice()\n",
            "File \u001b[0;32m~/.pyenv/versions/3.10.0/lib/python3.10/site-packages/torch/cuda/__init__.py:211\u001b[0m, in \u001b[0;36m_lazy_init\u001b[0;34m()\u001b[0m\n\u001b[1;32m    207\u001b[0m     \u001b[39mraise\u001b[39;00m \u001b[39mRuntimeError\u001b[39;00m(\n\u001b[1;32m    208\u001b[0m         \u001b[39m\"\u001b[39m\u001b[39mCannot re-initialize CUDA in forked subprocess. To use CUDA with \u001b[39m\u001b[39m\"\u001b[39m\n\u001b[1;32m    209\u001b[0m         \u001b[39m\"\u001b[39m\u001b[39mmultiprocessing, you must use the \u001b[39m\u001b[39m'\u001b[39m\u001b[39mspawn\u001b[39m\u001b[39m'\u001b[39m\u001b[39m start method\u001b[39m\u001b[39m\"\u001b[39m)\n\u001b[1;32m    210\u001b[0m \u001b[39mif\u001b[39;00m \u001b[39mnot\u001b[39;00m \u001b[39mhasattr\u001b[39m(torch\u001b[39m.\u001b[39m_C, \u001b[39m'\u001b[39m\u001b[39m_cuda_getDeviceCount\u001b[39m\u001b[39m'\u001b[39m):\n\u001b[0;32m--> 211\u001b[0m     \u001b[39mraise\u001b[39;00m \u001b[39mAssertionError\u001b[39;00m(\u001b[39m\"\u001b[39m\u001b[39mTorch not compiled with CUDA enabled\u001b[39m\u001b[39m\"\u001b[39m)\n\u001b[1;32m    212\u001b[0m \u001b[39mif\u001b[39;00m _cudart \u001b[39mis\u001b[39;00m \u001b[39mNone\u001b[39;00m:\n\u001b[1;32m    213\u001b[0m     \u001b[39mraise\u001b[39;00m \u001b[39mAssertionError\u001b[39;00m(\n\u001b[1;32m    214\u001b[0m         \u001b[39m\"\u001b[39m\u001b[39mlibcudart functions unavailable. It looks like you have a broken build?\u001b[39m\u001b[39m\"\u001b[39m)\n",
            "\u001b[0;31mAssertionError\u001b[0m: Torch not compiled with CUDA enabled"
          ]
        }
      ],
      "source": [
        "torch.cuda.current_device()"
      ]
    },
    {
      "cell_type": "code",
      "execution_count": null,
      "metadata": {
        "id": "89-MErPw3Eu_"
      },
      "outputs": [],
      "source": [
        "start = time.time()"
      ]
    },
    {
      "cell_type": "code",
      "execution_count": null,
      "metadata": {
        "id": "1eYB8DpUtDjt"
      },
      "outputs": [],
      "source": [
        "!prodigy stats hyphen_extended_2"
      ]
    },
    {
      "cell_type": "code",
      "execution_count": null,
      "metadata": {
        "id": "lH8n25umLvGL"
      },
      "outputs": [],
      "source": [
        "!prodigy train-curve --ner hyphen_extended_2 --gpu-id 0 --show-plot\n",
        "# --training.max_epochs=50 --training.max_steps=20000 --config config.cfg -m en_core_web_trf"
      ]
    },
    {
      "cell_type": "code",
      "execution_count": null,
      "metadata": {
        "id": "YU_UJVhGLuzt"
      },
      "outputs": [],
      "source": [
        "end = time.time()\n",
        "t_time = end - start\n",
        "print('train-curve time:', t_time)"
      ]
    },
    {
      "cell_type": "code",
      "execution_count": null,
      "metadata": {
        "id": "CBwT6pks01CS"
      },
      "outputs": [],
      "source": []
    },
    {
      "cell_type": "code",
      "execution_count": null,
      "metadata": {
        "id": "yshnVKw20_gq"
      },
      "outputs": [],
      "source": []
    }
  ],
  "metadata": {
    "accelerator": "GPU",
    "colab": {
      "collapsed_sections": [],
      "machine_shape": "hm",
      "provenance": []
    },
    "gpuClass": "standard",
    "kernelspec": {
      "display_name": "Python 3.10.0 64-bit ('3.10.0')",
      "language": "python",
      "name": "python3"
    },
    "language_info": {
      "codemirror_mode": {
        "name": "ipython",
        "version": 3
      },
      "file_extension": ".py",
      "mimetype": "text/x-python",
      "name": "python",
      "nbconvert_exporter": "python",
      "pygments_lexer": "ipython3",
      "version": "3.10.0"
    },
    "vscode": {
      "interpreter": {
        "hash": "888e6cd309e747ffecffaf2f7c62b6289e92b2288d45615be4f1da43735c96a2"
      }
    }
  },
  "nbformat": 4,
  "nbformat_minor": 0
}
